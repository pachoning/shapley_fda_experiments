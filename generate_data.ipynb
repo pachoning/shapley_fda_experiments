{
 "cells": [
  {
   "cell_type": "code",
   "execution_count": null,
   "metadata": {},
   "outputs": [],
   "source": [
    "from math import factorial\n",
    "from scipy.stats import beta\n",
    "from skfda.misc import inner_product, inner_product_matrix\n",
    "from skfda.ml.regression import LinearRegression\n",
    "from skfda.representation.basis import FourierBasis, FDataBasis\n",
    "import matplotlib.pyplot as plt\n",
    "import numpy as np"
   ]
  },
  {
   "cell_type": "code",
   "execution_count": null,
   "metadata": {},
   "outputs": [],
   "source": [
    "# Define the data\n",
    "sample_size = 3\n",
    "n_basis = 7\n",
    "if n_basis % 2 == 0:\n",
    "    n_basis = n_basis + 1\n",
    "ones_sample_size = np.ones(shape=(sample_size, 1))\n",
    "ones_n_basis = np.ones(shape=(n_basis, 1))\n",
    "domain_range = (0, 1)\n",
    "period = 1\n",
    "x_basis = FourierBasis(n_basis=n_basis, domain_range=domain_range, period=period)\n",
    "np.random.seed(123)\n",
    "normal_sample = np.random.normal(size=(sample_size, n_basis))\n",
    "coefficients_exp = np.array([1/(2 ** i) for i in range(1, n_basis + 1)]).reshape(1, -1)\n",
    "coefficients_exp_matrix = np.dot(ones_sample_size, coefficients_exp)\n",
    "coefficients = np.multiply(normal_sample, coefficients_exp_matrix)"
   ]
  },
  {
   "cell_type": "code",
   "execution_count": null,
   "metadata": {},
   "outputs": [],
   "source": [
    "covariate = FDataBasis(basis=x_basis, coefficients=coefficients)"
   ]
  },
  {
   "cell_type": "code",
   "execution_count": null,
   "metadata": {},
   "outputs": [],
   "source": [
    "n_plot = covariate.plot()"
   ]
  },
  {
   "cell_type": "code",
   "execution_count": null,
   "metadata": {},
   "outputs": [],
   "source": [
    "# Beta distribution\n",
    "cnt = 20\n",
    "alpha_1 =  1 * cnt\n",
    "beta_1 = 4 * cnt\n",
    "rv_1 = beta(alpha_1, beta_1)"
   ]
  },
  {
   "cell_type": "code",
   "execution_count": null,
   "metadata": {},
   "outputs": [],
   "source": [
    "# Transfor beta to fda object\n",
    "n_points_abscissa_axis = 11\n",
    "distance_between_points = (domain_range[1] - domain_range[0])/(n_points_abscissa_axis-1)\n",
    "abscissa_points = np.arange(domain_range[0], domain_range[1] + distance_between_points, distance_between_points)\n",
    "f_x = rv_1.pdf(abscissa_points)\n",
    "beta_fda = FDataBasis.from_data(\n",
    "    data_matrix=f_x,\n",
    "    grid_points=abscissa_points,\n",
    "    basis=x_basis\n",
    ")\n",
    "n_plot = beta_fda.plot()"
   ]
  },
  {
   "cell_type": "code",
   "execution_count": null,
   "metadata": {},
   "outputs": [],
   "source": [
    "# Exploring the beta representation\n",
    "print(beta_fda.coefficients)"
   ]
  },
  {
   "cell_type": "code",
   "execution_count": null,
   "metadata": {},
   "outputs": [],
   "source": [
    "# Getting target variable\n",
    "ration_signal_noise = 0.01\n",
    "mx = inner_product(covariate, beta_fda)\n",
    "var_mx = np.var(mx)\n",
    "np.random.seed(123)\n",
    "scale_noise = np.sqrt(ration_signal_noise * var_mx)\n",
    "error_y = np.random.normal(size=sample_size, loc = 0, scale=ration_signal_noise)\n",
    "print(scale_noise)\n",
    "y = mx + error_y\n",
    "plt.plot(mx, y, 'o')"
   ]
  },
  {
   "cell_type": "code",
   "execution_count": null,
   "metadata": {},
   "outputs": [],
   "source": [
    "# Fit the model\n",
    "linear_reg = LinearRegression()\n",
    "_ = linear_reg.fit(covariate, y)\n",
    "beta_estimated = linear_reg.coef_[0]\n",
    "print(beta_estimated)\n",
    "n_plot = beta_estimated.plot()"
   ]
  },
  {
   "cell_type": "code",
   "execution_count": null,
   "metadata": {},
   "outputs": [],
   "source": [
    "# Predict\n",
    "print(linear_reg.predict(covariate))\n",
    "print(y)"
   ]
  },
  {
   "cell_type": "code",
   "execution_count": null,
   "metadata": {},
   "outputs": [],
   "source": [
    "# Creating data for the algorithm\n",
    "X = covariate(abscissa_points)\n",
    "print(X.shape)\n",
    "X_copy = np.squeeze(X)\n",
    "print(X_copy.shape)"
   ]
  }
 ],
 "metadata": {
  "kernelspec": {
   "display_name": ".sk_fda",
   "language": "python",
   "name": "python3"
  },
  "language_info": {
   "codemirror_mode": {
    "name": "ipython",
    "version": 3
   },
   "file_extension": ".py",
   "mimetype": "text/x-python",
   "name": "python",
   "nbconvert_exporter": "python",
   "pygments_lexer": "ipython3",
   "version": "3.9.17"
  }
 },
 "nbformat": 4,
 "nbformat_minor": 2
}
