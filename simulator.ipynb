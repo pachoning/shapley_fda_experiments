{
 "cells": [
  {
   "cell_type": "code",
   "execution_count": 66,
   "metadata": {},
   "outputs": [
    {
     "name": "stdout",
     "output_type": "stream",
     "text": [
      "The autoreload extension is already loaded. To reload it, use:\n",
      "  %reload_ext autoreload\n"
     ]
    }
   ],
   "source": [
    "%load_ext autoreload\n",
    "%autoreload 2\n",
    "import os\n",
    "import pandas as pd\n",
    "import pickle\n",
    "from utils.simulator import FdaSimulator"
   ]
  },
  {
   "cell_type": "code",
   "execution_count": 67,
   "metadata": {},
   "outputs": [],
   "source": [
    "# data paths\n",
    "input_data_path = os.path.join(\"data\", \"input\")\n",
    "output_data_path = os.path.join(\"data\", \"output\")"
   ]
  },
  {
   "cell_type": "code",
   "execution_count": 68,
   "metadata": {},
   "outputs": [],
   "source": [
    "# Explore dataframe that contains the scenarios\n",
    "df_scenarios = pd.read_csv(os.path.join(input_data_path, \"scenarios_test.csv\"))"
   ]
  },
  {
   "cell_type": "code",
   "execution_count": 69,
   "metadata": {},
   "outputs": [],
   "source": [
    "# Prepare some global parameters used to generate data\n",
    "num_simulations = 10\n",
    "n_basis_simulated_data = 5\n",
    "sd_x_serie = 0.01\n",
    "cnt = 30\n",
    "alpha_p =  1 * cnt\n",
    "beta_p = 3 * cnt\n",
    "positions = [0.15, 0.35, 0.55, 0.85]\n",
    "intercept_brownian = 0\n",
    "slope_brownian = 1"
   ]
  },
  {
   "cell_type": "code",
   "execution_count": 70,
   "metadata": {},
   "outputs": [],
   "source": [
    "# Instantiate the class\n",
    "fda_simulator = FdaSimulator()\n",
    "times = [\"t_\" + str(x) for x in fda_simulator.abscissa_points]"
   ]
  },
  {
   "cell_type": "code",
   "execution_count": 71,
   "metadata": {},
   "outputs": [],
   "source": [
    "for _, scenario in df_scenarios.iterrows():\n",
    "    scenario_id = scenario[\"scenario_id\"]\n",
    "    type_covariate = scenario[\"type_covariate\"]\n",
    "    type_transformation = scenario[\"type_transformation\"]\n",
    "    eta = scenario[\"eta\"]\n",
    "    sample_size = scenario[\"sample_size\"]\n",
    "    # Create the folder for the current scenario if it does not exist\n",
    "    output_dir = os.path.join(output_data_path, f\"senario_{scenario_id}\")\n",
    "    if not os.path.exists(output_dir):\n",
    "        os.makedirs(output_dir)\n",
    "    for i_sim in range(num_simulations):\n",
    "        # Simulate\n",
    "        X, phi_X, epsilon, beta_data, col_indexes_bct, target = fda_simulator.simulate(\n",
    "            type_covariate=type_covariate,\n",
    "            type_transformation=type_transformation,\n",
    "            sample_size=sample_size,\n",
    "            eta=eta,\n",
    "            # Series representation\n",
    "            n_basis_simulated_data=n_basis_simulated_data,\n",
    "            sd_x=sd_x_serie,\n",
    "            # Beta parameters\n",
    "            alpha_param=alpha_p,\n",
    "            beta_param=beta_p,\n",
    "            # Brownian parameters\n",
    "            intercept_brownian=intercept_brownian,\n",
    "            slope_brownian=slope_brownian,\n",
    "            positions=positions\n",
    "        )\n",
    "\n",
    "        # Transform X and y to pandas objects\n",
    "        df_X = pd.DataFrame(\n",
    "            data=X,\n",
    "            columns=times\n",
    "        )\n",
    "\n",
    "        df_target = pd.DataFrame(\n",
    "            data=target,\n",
    "            columns=[\"target\"]\n",
    "        )\n",
    "        # Store the data\n",
    "        X_file = os.path.join(output_dir, f\"X_sim_{i_sim}.csv\")\n",
    "        target_file = os.path.join(output_dir, f\"target_sim_{i_sim}.csv\")\n",
    "        col_indexes_bct_file = os.path.join(output_dir, f\"col_indexes_bct_{i_sim}.pkl\")\n",
    "        df_X.to_csv(X_file, index=False)\n",
    "        df_target.to_csv(target_file, index=False)\n",
    "        with open(col_indexes_bct_file, 'wb') as f:\n",
    "            pickle.dump(col_indexes_bct, f)"
   ]
  }
 ],
 "metadata": {
  "kernelspec": {
   "display_name": ".shapley_fda_experiments",
   "language": "python",
   "name": "python3"
  },
  "language_info": {
   "codemirror_mode": {
    "name": "ipython",
    "version": 3
   },
   "file_extension": ".py",
   "mimetype": "text/x-python",
   "name": "python",
   "nbconvert_exporter": "python",
   "pygments_lexer": "ipython3",
   "version": "3.9.17"
  }
 },
 "nbformat": 4,
 "nbformat_minor": 2
}
