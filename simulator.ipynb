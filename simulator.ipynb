{
 "cells": [
  {
   "cell_type": "code",
   "execution_count": null,
   "metadata": {},
   "outputs": [],
   "source": [
    "%load_ext autoreload\n",
    "%autoreload 2\n",
    "import matplotlib.pyplot as plt\n",
    "import numpy as np\n",
    "from simulator import FdaSimulator"
   ]
  },
  {
   "cell_type": "code",
   "execution_count": null,
   "metadata": {},
   "outputs": [],
   "source": [
    "fda_simulator = FdaSimulator()"
   ]
  },
  {
   "cell_type": "code",
   "execution_count": null,
   "metadata": {},
   "outputs": [],
   "source": [
    "cnt = 30\n",
    "alpha_p =  1 * cnt\n",
    "beta_p = 3 * cnt\n",
    "# \"linear_unimodal\" (200, 1), \"linear_bimodal\" (200, 1), \"non_linear_unimodal\" (200, 1), \"non_linear_bimodal\" (200, 1), \"bct\"\n",
    "\n",
    "X, phi_X, epsilon, beta_data, col_indexes_bct, target = fda_simulator.simulate(\n",
    "    type_covariate=\"brownian_with_a_trend\",\n",
    "    type_transformation=\"bct\",\n",
    "    sd_x=0.01,\n",
    "    sample_size=200,\n",
    "    eta=0.05,\n",
    "    # Series representation\n",
    "    n_basis_simulated_data=5,\n",
    "    # Beta parameters\n",
    "    alpha_param=alpha_p,\n",
    "    beta_param=beta_p,\n",
    "    # Brownian parameters\n",
    "    intercept_brownian=0,\n",
    "    slope_brownian=1,\n",
    "    positions=[0.15, 0.35, 0.55, 0.85]\n",
    ")"
   ]
  },
  {
   "cell_type": "code",
   "execution_count": null,
   "metadata": {},
   "outputs": [],
   "source": [
    "X_data_series_grid = fda_simulator.to_fdata_grid(X)\n",
    "zzz = X_data_series_grid.plot()"
   ]
  },
  {
   "cell_type": "code",
   "execution_count": null,
   "metadata": {},
   "outputs": [],
   "source": [
    "if not beta_data is None:\n",
    "    beta_data_grid = fda_simulator.to_fdata_grid(beta_data)\n",
    "    plt.plot(\n",
    "        fda_simulator.abscissa_points,\n",
    "        np.reshape(beta_data, newshape=(1, -1))[0], '-o'\n",
    "    )"
   ]
  },
  {
   "cell_type": "code",
   "execution_count": null,
   "metadata": {},
   "outputs": [],
   "source": [
    "epsilon2 = np.add(target, -phi_X)\n",
    "np.var(epsilon)/(np.var(epsilon) + np.var(phi_X))"
   ]
  },
  {
   "cell_type": "code",
   "execution_count": null,
   "metadata": {},
   "outputs": [],
   "source": [
    "np.max(np.abs(epsilon - epsilon2))"
   ]
  }
 ],
 "metadata": {
  "kernelspec": {
   "display_name": ".shapley_fda_experiments",
   "language": "python",
   "name": "python3"
  },
  "language_info": {
   "codemirror_mode": {
    "name": "ipython",
    "version": 3
   },
   "file_extension": ".py",
   "mimetype": "text/x-python",
   "name": "python",
   "nbconvert_exporter": "python",
   "pygments_lexer": "ipython3",
   "version": "3.9.17"
  }
 },
 "nbformat": 4,
 "nbformat_minor": 2
}
