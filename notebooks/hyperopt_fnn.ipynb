{
 "cells": [
  {
   "cell_type": "code",
   "execution_count": null,
   "metadata": {},
   "outputs": [],
   "source": [
    "%load_ext autoreload\n",
    "%autoreload 2\n",
    "from data import data_path\n",
    "from hyperopt.fnn import HyperOptFnn\n",
    "import os\n",
    "import pandas as pd"
   ]
  },
  {
   "cell_type": "code",
   "execution_count": null,
   "metadata": {},
   "outputs": [],
   "source": [
    "input_data_folder = os.path.join(data_path, \"output\", \"scenario_1\")\n",
    "X_train_path = os.path.join(input_data_folder, \"X_sim_train_1.csv\")\n",
    "target_train_path = os.path.join(input_data_folder, \"target_sim_train_1.csv\")\n",
    "X_train_df = pd.read_csv(X_train_path)\n",
    "target_train_df = pd.read_csv(target_train_path)\n",
    "X = X_train_df.to_numpy()\n",
    "target = target_train_df.to_numpy()"
   ]
  },
  {
   "cell_type": "code",
   "execution_count": null,
   "metadata": {},
   "outputs": [],
   "source": [
    "hypermodel = HyperOptFnn(\n",
    "    input_shape=(X.shape[1], 1),\n",
    "    resolution=X.shape[1]\n",
    ")"
   ]
  },
  {
   "cell_type": "code",
   "execution_count": null,
   "metadata": {},
   "outputs": [],
   "source": [
    "tuner = hypermodel.build_tuner(\n",
    "    objective=\"val_loss\",\n",
    "    max_trials=3,\n",
    "    overwrite=True,\n",
    "    directory=\".\",\n",
    "    project_name=\"tune_hypermodel\",\n",
    ")\n",
    "tuner.search(X, target, epochs=2, validation_data=(X, target))"
   ]
  },
  {
   "cell_type": "code",
   "execution_count": null,
   "metadata": {},
   "outputs": [],
   "source": [
    "hypermodel_final = HyperOptFnn(\n",
    "    input_shape=(X.shape[1], 1),\n",
    "    resolution=X.shape[1]\n",
    ")\n",
    "best_hp = tuner.get_best_hyperparameters()[0]\n",
    "model = hypermodel_final.build(best_hp)\n",
    "hypermodel_final.fit(best_hp, model, X, target, epochs=1)"
   ]
  },
  {
   "cell_type": "code",
   "execution_count": null,
   "metadata": {},
   "outputs": [],
   "source": [
    "model.summary()"
   ]
  },
  {
   "cell_type": "code",
   "execution_count": null,
   "metadata": {},
   "outputs": [],
   "source": [
    "zzzz = model.predict(X)"
   ]
  },
  {
   "cell_type": "code",
   "execution_count": null,
   "metadata": {},
   "outputs": [],
   "source": [
    "zzzz - target"
   ]
  }
 ],
 "metadata": {
  "kernelspec": {
   "display_name": ".shapley_fda_experiments",
   "language": "python",
   "name": "python3"
  },
  "language_info": {
   "codemirror_mode": {
    "name": "ipython",
    "version": 3
   },
   "file_extension": ".py",
   "mimetype": "text/x-python",
   "name": "python",
   "nbconvert_exporter": "python",
   "pygments_lexer": "ipython3",
   "version": "3.9.17"
  }
 },
 "nbformat": 4,
 "nbformat_minor": 2
}
