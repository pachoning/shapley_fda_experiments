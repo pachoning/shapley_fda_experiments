{
 "cells": [
  {
   "cell_type": "code",
   "execution_count": null,
   "metadata": {},
   "outputs": [],
   "source": [
    "%load_ext autoreload\n",
    "%autoreload 2\n",
    "from data import data_path\n",
    "from hyperopt.sklearn_gridsearch import HyperOptScikitFda\n",
    "from skfda.ml.regression import  KNeighborsRegressor\n",
    "import os\n",
    "import pandas as pd"
   ]
  },
  {
   "cell_type": "code",
   "execution_count": null,
   "metadata": {},
   "outputs": [],
   "source": [
    "input_data_folder = os.path.join(data_path, \"output\", \"scenario_1\")\n",
    "X_train_path = os.path.join(input_data_folder, \"X_sim_train_0.csv\")\n",
    "target_train_path = os.path.join(input_data_folder, \"target_sim_train_0.csv\")\n",
    "X_train_df = pd.read_csv(X_train_path)\n",
    "target_train_df = pd.read_csv(target_train_path)\n",
    "X = X_train_df.to_numpy()\n",
    "target = target_train_df.to_numpy()"
   ]
  },
  {
   "cell_type": "code",
   "execution_count": null,
   "metadata": {},
   "outputs": [],
   "source": [
    "knn_hyperopt = HyperOptScikitFda(KNeighborsRegressor)\n",
    "\n",
    "hist = knn_hyperopt.search(\n",
    "    params={\"n_neighbors\": range(1, 10, 2)},\n",
    "    X_train=X,\n",
    "    y_train=target,\n",
    "    X_val=X,\n",
    "    y_val=target,\n",
    ")\n",
    "\n",
    "best_params = hist.best_params_\n",
    "best_model = knn_hyperopt.build_estimator(best_params)"
   ]
  },
  {
   "cell_type": "code",
   "execution_count": null,
   "metadata": {},
   "outputs": [],
   "source": [
    "best_model.fit(X, target)\n",
    "best_model.predict(X)"
   ]
  }
 ],
 "metadata": {
  "kernelspec": {
   "display_name": ".shapley_fda_experiments",
   "language": "python",
   "name": "python3"
  },
  "language_info": {
   "codemirror_mode": {
    "name": "ipython",
    "version": 3
   },
   "file_extension": ".py",
   "mimetype": "text/x-python",
   "name": "python",
   "nbconvert_exporter": "python",
   "pygments_lexer": "ipython3",
   "version": "3.9.17"
  }
 },
 "nbformat": 4,
 "nbformat_minor": 2
}
