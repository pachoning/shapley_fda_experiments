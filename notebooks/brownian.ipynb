{
 "cells": [
  {
   "cell_type": "markdown",
   "metadata": {},
   "source": [
    "# Load libraries"
   ]
  },
  {
   "cell_type": "code",
   "execution_count": null,
   "metadata": {},
   "outputs": [],
   "source": [
    "from images import images_path\n",
    "from utils.simulator import FdaSimulator\n",
    "import matplotlib.pyplot as plt\n",
    "import numpy as np\n",
    "import os"
   ]
  },
  {
   "cell_type": "markdown",
   "metadata": {},
   "source": [
    "# Generate the data"
   ]
  },
  {
   "cell_type": "code",
   "execution_count": null,
   "metadata": {},
   "outputs": [],
   "source": [
    "fda_simulator = FdaSimulator()"
   ]
  },
  {
   "cell_type": "code",
   "execution_count": null,
   "metadata": {},
   "outputs": [],
   "source": [
    "# Prepare some global parameters used to generate data\n",
    "cnt = 30\n",
    "alpha_p =  1 * cnt\n",
    "beta_p = 3 * cnt\n",
    "positions = [0.15, 0.35, 0.55, 0.85]\n",
    "n_basis_simulated_data = 31\n",
    "np.random.seed(1234)\n",
    "X, phi_X, epsilon, beta_data, col_indexes_bct, target = fda_simulator.simulate(\n",
    "    type_covariate=\"brownian_trend\",\n",
    "    type_transformation=\"linear_discrete\",\n",
    "    sample_size=200,\n",
    "    eta=0.05,\n",
    "    datasets_type = [\"train\", \"validation\", \"test\"],\n",
    "    # Series representation\n",
    "    n_basis_simulated_data=n_basis_simulated_data,\n",
    "    sd_x=0.01,\n",
    "    # Beta parameters\n",
    "    alpha_param=alpha_p,\n",
    "    beta_param=beta_p,\n",
    "    # Brownian parameters\n",
    "    intercept_brownian=0,\n",
    "    slope_brownian=1,\n",
    "    positions=positions\n",
    ")"
   ]
  },
  {
   "cell_type": "code",
   "execution_count": null,
   "metadata": {},
   "outputs": [],
   "source": [
    "X_train, X_validation, X_test = X\n",
    "total_columns = X_train.shape[1]\n",
    "col_indexes = [int(np.floor(x * total_columns)) for x in positions]\n",
    "print(col_indexes)"
   ]
  },
  {
   "cell_type": "markdown",
   "metadata": {},
   "source": [
    "# Make analysis"
   ]
  },
  {
   "cell_type": "code",
   "execution_count": null,
   "metadata": {},
   "outputs": [],
   "source": [
    "X_data = X_test.copy()"
   ]
  },
  {
   "cell_type": "code",
   "execution_count": null,
   "metadata": {},
   "outputs": [],
   "source": [
    "x_1 = X_data[:, col_indexes[0]]\n",
    "x_2 = X_data[:, col_indexes[1]]\n",
    "x_3 = X_data[:, col_indexes[2]]\n",
    "x_4 = X_data[:, col_indexes[3]]\n",
    "x_3_abs = np.abs(x_3)\n",
    "x_2_4_prod = np.multiply(\n",
    "    np.power(x_2, 2),\n",
    "    x_4\n",
    ")"
   ]
  },
  {
   "cell_type": "code",
   "execution_count": null,
   "metadata": {},
   "outputs": [],
   "source": [
    "colors = [\"red\", \"green\", \"blue\"]\n",
    "\n",
    "fig, ax = plt.subplots()\n",
    "\n",
    "bplot = ax.boxplot(\n",
    "    [x_1, x_3_abs, x_2_4_prod],\n",
    "    patch_artist=True,\n",
    "    labels=[\n",
    "        r\"$ \\boldsymbol{\\mathcal{X}} \\left(0.15\\right) $\",\n",
    "        r\"$| \\boldsymbol{\\mathcal{X}}(0.55) |$\",\n",
    "        r\"$\\boldsymbol{\\mathcal{X}}^2(0.35)\\boldsymbol{\\mathcal{X}}(0.85)$\"\n",
    "    ],\n",
    "    medianprops=dict(color=\"white\"),\n",
    ")\n",
    "\n",
    "# fill with colors\n",
    "for patch, color in zip(bplot[\"boxes\"], colors):\n",
    "    patch.set_facecolor(color)\n",
    "plt.savefig(\n",
    "    os.path.join(images_path, \"boxplot_brownian.pdf\"),\n",
    "    format=\"pdf\",\n",
    "    bbox_inches=\"tight\",\n",
    ")"
   ]
  }
 ],
 "metadata": {
  "kernelspec": {
   "display_name": ".shapley_fda_experiments",
   "language": "python",
   "name": "python3"
  },
  "language_info": {
   "codemirror_mode": {
    "name": "ipython",
    "version": 3
   },
   "file_extension": ".py",
   "mimetype": "text/x-python",
   "name": "python",
   "nbconvert_exporter": "python",
   "pygments_lexer": "ipython3",
   "version": "3.9.17"
  }
 },
 "nbformat": 4,
 "nbformat_minor": 2
}
