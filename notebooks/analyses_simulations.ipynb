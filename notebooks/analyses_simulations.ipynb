{
 "cells": [
  {
   "cell_type": "markdown",
   "metadata": {},
   "source": [
    "# Imports"
   ]
  },
  {
   "cell_type": "code",
   "execution_count": null,
   "metadata": {},
   "outputs": [],
   "source": [
    "%load_ext autoreload\n",
    "%autoreload 2\n",
    "from data import data_path\n",
    "from images import images_path\n",
    "from matplotlib.ticker import FormatStrFormatter\n",
    "from utils.utils_workflow import plot_shapley_function, plot_shapley_value\n",
    "import matplotlib.pyplot as plt\n",
    "import numpy as np\n",
    "import os\n",
    "import pandas as pd\n",
    "import pickle"
   ]
  },
  {
   "cell_type": "markdown",
   "metadata": {},
   "source": [
    "# Some preprocessing"
   ]
  },
  {
   "cell_type": "code",
   "execution_count": null,
   "metadata": {},
   "outputs": [],
   "source": [
    "original_fig_size = [6.4, 4.8]\n",
    "aspect_ratio =original_fig_size[0]/original_fig_size[1]\n",
    "fig_size = [8 * aspect_ratio, 8]\n",
    "shapley_polygonal_size = [10 * aspect_ratio, 10]"
   ]
  },
  {
   "cell_type": "code",
   "execution_count": null,
   "metadata": {},
   "outputs": [],
   "source": [
    "inupt_path = os.path.join(data_path, \"input\")\n",
    "scenarios_file = os.path.join(inupt_path, \"scenarios_all.csv\")\n",
    "scenarios_df = pd.read_csv(scenarios_file)\n",
    "scenarios_df.head()"
   ]
  },
  {
   "cell_type": "code",
   "execution_count": null,
   "metadata": {},
   "outputs": [],
   "source": [
    "main_keys = [\"intervals\", \"middle_points\"]\n",
    "models = [\"fnn\", \"knn\", \"lm\"]\n",
    "translation_dict = {\n",
    "    \"fnn\": \"FNN\",\n",
    "    \"knn\": \"FKNN\",\n",
    "    \"lm\": \"FLM\",\n",
    "    \"mRMR_distance_correlation\": \"distance_corr\",\n",
    "    \"mRMR_r2\": \"mRMR\",\n",
    "}"
   ]
  },
  {
   "cell_type": "markdown",
   "metadata": {},
   "source": [
    "# Shapley value and $r^2$"
   ]
  },
  {
   "cell_type": "markdown",
   "metadata": {},
   "source": [
    "### Gather the data"
   ]
  },
  {
   "cell_type": "code",
   "execution_count": null,
   "metadata": {},
   "outputs": [],
   "source": [
    "output_data_path = os.path.join(data_path, \"output\")\n",
    "output_data_path_content = os.listdir(output_data_path)\n",
    "scenarios = [x for x in output_data_path_content if 'scenario_' in  x]"
   ]
  },
  {
   "cell_type": "code",
   "execution_count": null,
   "metadata": {},
   "outputs": [],
   "source": [
    "# Decide whether to use the same number of simulations for all scenarios.\n",
    "# If use_min_number_of_simulations is True, the minumum number of simulations will be used.\n",
    "# Else if num_sim_to_use is not None, this number will be used\n",
    "# Otherwise all scenarios use all the simulations computed\n",
    "use_min_number_of_simulations = True\n",
    "num_sim_to_use = None"
   ]
  },
  {
   "cell_type": "code",
   "execution_count": null,
   "metadata": {},
   "outputs": [],
   "source": [
    "# Count the number of simulations per scenario\n",
    "simulations_data = {}\n",
    "min_num_sim = np.Inf\n",
    "# Iterate throughout all scenarios\n",
    "for current_scenario_name in scenarios:\n",
    "    simulations_data[current_scenario_name] = {}\n",
    "    current_scenario_path = os.path.join(output_data_path, current_scenario_name)\n",
    "    current_scenario_path_content = os.listdir(current_scenario_path)\n",
    "    shapley_files = [x for x in current_scenario_path_content if 'shapley_' in  x]\n",
    "    simulations_identifiers = [x[8:-4] for x in shapley_files]\n",
    "    num_simulations_current_sc = len(shapley_files)\n",
    "    simulations_data[current_scenario_name][\"num_simulations\"] = num_simulations_current_sc\n",
    "    simulations_data[current_scenario_name][\"simulations_ids\"] = simulations_identifiers\n",
    "    if num_simulations_current_sc < min_num_sim:\n",
    "        min_num_sim = num_simulations_current_sc"
   ]
  },
  {
   "cell_type": "code",
   "execution_count": null,
   "metadata": {},
   "outputs": [],
   "source": [
    "print(min_num_sim)"
   ]
  },
  {
   "cell_type": "code",
   "execution_count": null,
   "metadata": {},
   "outputs": [],
   "source": [
    "for current_scenario_name in simulations_data.keys():\n",
    "    simulations_identifiers = simulations_data[current_scenario_name][\"simulations_ids\"]\n",
    "    sim_to_select = len(simulations_identifiers)\n",
    "    if use_min_number_of_simulations:\n",
    "        sim_to_select = min_num_sim\n",
    "    elif not num_sim_to_use is None:\n",
    "        sim_to_select = num_sim_to_use\n",
    "    np.random.seed(1234)\n",
    "    selected_sample = np.random.choice(\n",
    "        a=simulations_identifiers,\n",
    "        size=sim_to_select,\n",
    "        replace=False\n",
    "    )\n",
    "    simulations_data[current_scenario_name][\"selected_simulations_ids\"] = list(selected_sample)"
   ]
  },
  {
   "cell_type": "code",
   "execution_count": null,
   "metadata": {},
   "outputs": [],
   "source": [
    "run_sanity_check = False\n",
    "# Sanity check\n",
    "if run_sanity_check:\n",
    "    for current_scenario_name in simulations_data.keys():\n",
    "        print(current_scenario_name)\n",
    "        if (use_min_number_of_simulations) or not (num_sim_to_use is None):\n",
    "            print(len(simulations_data[current_scenario_name][\"selected_simulations_ids\"]))\n",
    "        else:\n",
    "            print(len(simulations_data[current_scenario_name][\"selected_simulations_ids\"]) - simulations_data[current_scenario_name][\"num_simulations\"])    "
   ]
  },
  {
   "cell_type": "code",
   "execution_count": null,
   "metadata": {},
   "outputs": [],
   "source": [
    "with open(\"number_simulations.txt\", \"w\") as f:\n",
    "    for i_sim in range(1, 61):\n",
    "        key = f\"scenario_{i_sim}\"\n",
    "        num_s = simulations_data[key][\"num_simulations\"]\n",
    "        sel_sim = len(simulations_data[key][\"selected_simulations_ids\"])\n",
    "        str_line = f\"{key} -> total simulations: {num_s}, selected simulations: {sel_sim}\\n\"\n",
    "        f.write(str_line)"
   ]
  },
  {
   "cell_type": "code",
   "execution_count": null,
   "metadata": {},
   "outputs": [],
   "source": [
    "# Obtain the data as a dictionary\n",
    "results_shapley_dict = {}\n",
    "results_r2_dict = {}\n",
    "results_distance_corr = {}\n",
    "results_correlation_coeff = {}\n",
    "# Iterate throughout all scenarios\n",
    "for current_scenario_name in scenarios:\n",
    "#for current_scenario_name in [\"scenario_1\"]:\n",
    "    current_scenario_path = os.path.join(output_data_path, current_scenario_name)\n",
    "    selected_simulations_ids = simulations_data[current_scenario_name][\"selected_simulations_ids\"]\n",
    "    shapley_files = [\n",
    "        f\"shapley_{sim}.pkl\" for sim in selected_simulations_ids\n",
    "    ]\n",
    "    # Iterate throughout all Shapley files\n",
    "    for current_shapley_name in shapley_files:\n",
    "        max_val = -np.inf\n",
    "        current_shapley_file = os.path.join(current_scenario_path, current_shapley_name)\n",
    "        with open(current_shapley_file, \"rb\") as file:\n",
    "            data = pickle.load(file)\n",
    "        data_keys = data.keys()\n",
    "        if current_scenario_name in results_shapley_dict.keys():\n",
    "            #print(current_scenario_name, \"key fould\")\n",
    "            for k in data_keys:\n",
    "                current_data = np.array(data[k])\n",
    "                if not k in main_keys:\n",
    "                    current_data_floor = np.maximum(current_data, 0)\n",
    "                    if k == \"mRMR_distance_correlation\":\n",
    "                        sum_values = np.sum(current_data_floor)\n",
    "                        current_data_floor = np.multiply(\n",
    "                            current_data_floor,\n",
    "                            sum_values\n",
    "                        )\n",
    "                    max_current_data_floor = np.max(current_data_floor)\n",
    "                    results_shapley_dict[current_scenario_name][k] = np.row_stack(\n",
    "                        (\n",
    "                            results_shapley_dict[current_scenario_name][k],\n",
    "                            current_data_floor\n",
    "                        )\n",
    "                    )\n",
    "                    if k == \"mRMR_distance_correlation\":\n",
    "                        results_distance_corr[current_scenario_name] = np.row_stack(\n",
    "                            (\n",
    "                                results_distance_corr[current_scenario_name],\n",
    "                                current_data_floor\n",
    "                            )\n",
    "                        )\n",
    "                    if k == \"mRMR_r2\":\n",
    "                        results_correlation_coeff[current_scenario_name] = np.row_stack(\n",
    "                            (\n",
    "                                results_correlation_coeff[current_scenario_name],\n",
    "                                current_data_floor\n",
    "                            )\n",
    "                        )\n",
    "                    if k != \"mRMR_r2\" and max_current_data_floor > max_val:\n",
    "                        #print(k, max_current_data_floor)\n",
    "                        max_val = max_current_data_floor\n",
    "            results_mrmr_r2 = results_shapley_dict[current_scenario_name][\"mRMR_r2\"][-1]\n",
    "            results_shapley_dict[current_scenario_name][\"mRMR_r2\"][-1] = np.multiply(\n",
    "                results_mrmr_r2,\n",
    "                max_val/np.max(results_mrmr_r2)\n",
    "            )\n",
    "        else:\n",
    "            #print(current_scenario_name, \"key not fould\")\n",
    "            results_shapley_dict[current_scenario_name] = {}\n",
    "            for k in data_keys:\n",
    "                current_data = np.array(data[k])\n",
    "                if k in main_keys:\n",
    "                    results_shapley_dict[current_scenario_name][k] = current_data\n",
    "                else:\n",
    "                    current_data_floor = np.maximum(current_data, 0)\n",
    "                    if k == \"mRMR_distance_correlation\":\n",
    "                        sum_values = np.sum(current_data_floor)\n",
    "                        current_data_floor = np.multiply(\n",
    "                            current_data_floor,\n",
    "                            sum_values,\n",
    "                        )\n",
    "                    max_current_data_floor = np.max(current_data_floor)\n",
    "                    results_shapley_dict[current_scenario_name][k] = current_data_floor\n",
    "                    if k == \"mRMR_distance_correlation\":\n",
    "                        results_distance_corr[current_scenario_name] = current_data_floor\n",
    "                    if k == \"mRMR_r2\":\n",
    "                        results_correlation_coeff[current_scenario_name] = current_data_floor\n",
    "                    if k != \"mRMR_r2\" and max_current_data_floor > max_val:\n",
    "                        #print(k, max_current_data_floor)\n",
    "                        max_val = max_current_data_floor\n",
    "            results_mrmr_r2 = results_shapley_dict[current_scenario_name][\"mRMR_r2\"]\n",
    "            results_shapley_dict[current_scenario_name][\"mRMR_r2\"] = np.multiply(\n",
    "                results_mrmr_r2,\n",
    "                max_val/np.max(results_mrmr_r2)\n",
    "            )\n",
    "    # Iterate throughout all r2 files\n",
    "    for current_model in models:\n",
    "        current_r2_model_files = [\n",
    "            f\"r2_test_{current_model}_{sim}.pkl\" for sim in selected_simulations_ids\n",
    "        ]\n",
    "        new_key = translation_dict[current_model]\n",
    "        for current_r2_model_name in current_r2_model_files:\n",
    "            current_r2_file = os.path.join(current_scenario_path, current_r2_model_name)\n",
    "            with open(current_r2_file, \"rb\") as file:\n",
    "                r2_data = pickle.load(file)\n",
    "            if current_scenario_name in results_r2_dict.keys():\n",
    "                if new_key in results_r2_dict[current_scenario_name].keys():\n",
    "                    results_r2_dict[current_scenario_name][new_key].append(r2_data)\n",
    "                else:\n",
    "                    results_r2_dict[current_scenario_name][new_key] = [r2_data]\n",
    "            else:\n",
    "                results_r2_dict[current_scenario_name] = {}\n",
    "                results_r2_dict[current_scenario_name][new_key] = [r2_data]"
   ]
  },
  {
   "cell_type": "markdown",
   "metadata": {},
   "source": [
    "### Compute aggregated statistics for the Shapley value"
   ]
  },
  {
   "cell_type": "code",
   "execution_count": null,
   "metadata": {},
   "outputs": [],
   "source": [
    "aggregated_shapley_dict = {}\n",
    "results_shapley_dict_keys = results_shapley_dict.keys()\n",
    "for sc in results_shapley_dict_keys:\n",
    "    aggregated_shapley_dict[sc] = {}\n",
    "    current_data = results_shapley_dict[sc]\n",
    "    current_data_keys = current_data.keys()\n",
    "    for key in current_data_keys:\n",
    "        if key in main_keys:\n",
    "            aggregated_shapley_dict[sc][key] = current_data[key]\n",
    "        else:\n",
    "            aggregated_shapley_dict[sc][key] = list(np.mean(current_data[key], axis=0))"
   ]
  },
  {
   "cell_type": "markdown",
   "metadata": {},
   "source": [
    "### Compute aggregated statistics for $r^2$"
   ]
  },
  {
   "cell_type": "code",
   "execution_count": null,
   "metadata": {},
   "outputs": [],
   "source": [
    "scenarios_names = list(results_r2_dict.keys())\n",
    "scenarios_sim = [int(x[9:]) for x in scenarios_names]\n",
    "models_computed = list(results_r2_dict[scenarios_names[0]].keys())\n",
    "stats_to_apply = {\n",
    "    \"mean\" : np.mean,\n",
    "    \"std\" : np.std\n",
    "}\n",
    "stats_to_apply_keys = stats_to_apply.keys()\n",
    "X_r2 = np.full(\n",
    "    shape=(len(scenarios_names), 2*len(models_computed)),\n",
    "    fill_value=np.nan\n",
    ")\n",
    "\n",
    "i_row = 0\n",
    "number_sim = []\n",
    "for sc in scenarios_names:\n",
    "    current_data_sc = results_r2_dict[sc]\n",
    "    current_stats = []\n",
    "    for model in models_computed:\n",
    "        current_data_model = current_data_sc[model]\n",
    "        number_sim.append(len(current_data_model))\n",
    "        for k in stats_to_apply_keys:\n",
    "            fun = stats_to_apply[k]\n",
    "            val = fun(current_data_model)\n",
    "            current_stats.append(val)\n",
    "    X_r2[i_row] = current_stats\n",
    "    i_row += 1"
   ]
  },
  {
   "cell_type": "code",
   "execution_count": null,
   "metadata": {},
   "outputs": [],
   "source": [
    "print(np.min(number_sim), np.max(number_sim))"
   ]
  },
  {
   "cell_type": "code",
   "execution_count": null,
   "metadata": {},
   "outputs": [],
   "source": [
    "col_names = []\n",
    "for model in models_computed:\n",
    "    for st in stats_to_apply_keys:\n",
    "        col_names.append(f\"{model}_{st}\")\n",
    "df_r2 = pd.DataFrame(\n",
    "    data=X_r2,\n",
    "    columns=col_names,\n",
    "    index=scenarios_names,\n",
    ")\n",
    "df_r2[\"sim\"] = scenarios_sim\n",
    "df_r2.sort_values(by=\"sim\", inplace=True)\n",
    "df_r2.head()"
   ]
  },
  {
   "cell_type": "markdown",
   "metadata": {},
   "source": [
    "### Compute aggregated statistics for distance correlation"
   ]
  },
  {
   "cell_type": "code",
   "execution_count": null,
   "metadata": {},
   "outputs": [],
   "source": [
    "stats_to_apply_keys = stats_to_apply.keys()\n",
    "X_r2_distance_corr = np.full(\n",
    "    shape=(len(scenarios_names), 2),\n",
    "    fill_value=np.nan\n",
    ")\n",
    "\n",
    "i_row = 0\n",
    "number_sim = []\n",
    "for sc in scenarios_names:\n",
    "    current_stats = []\n",
    "    cummulative_distance_corr = np.sum(results_distance_corr[sc], axis=1)\n",
    "    for k in stats_to_apply_keys:\n",
    "        fun = stats_to_apply[k]\n",
    "        val = fun(cummulative_distance_corr)\n",
    "        current_stats.append(val)\n",
    "    X_r2_distance_corr[i_row] = current_stats\n",
    "    i_row += 1"
   ]
  },
  {
   "cell_type": "code",
   "execution_count": null,
   "metadata": {},
   "outputs": [],
   "source": [
    "col_names = []\n",
    "key_for_distance_correlation = translation_dict[\"mRMR_distance_correlation\"]\n",
    "for k in stats_to_apply.keys():\n",
    "    col_names.append(f\"{key_for_distance_correlation}_{k}\")\n",
    "df_distance_corr = pd.DataFrame(\n",
    "    data=X_r2_distance_corr,\n",
    "    columns=col_names,\n",
    "    index=scenarios_names,\n",
    ")\n",
    "df_distance_corr[\"sim\"] = scenarios_sim\n",
    "df_distance_corr.sort_values(by=\"sim\", inplace=True)\n",
    "df_distance_corr.head()"
   ]
  },
  {
   "cell_type": "markdown",
   "metadata": {},
   "source": [
    "### Compute aggregated statistics for correlation coefficient"
   ]
  },
  {
   "cell_type": "code",
   "execution_count": null,
   "metadata": {},
   "outputs": [],
   "source": [
    "stats_to_apply_keys = stats_to_apply.keys()\n",
    "X_r2_correlation_coeff = np.full(\n",
    "    shape=(len(scenarios_names), 2),\n",
    "    fill_value=np.nan\n",
    ")\n",
    "\n",
    "i_row = 0\n",
    "number_sim = []\n",
    "for sc in scenarios_names:\n",
    "    current_stats = []\n",
    "    cummulative_correlation_coeff = np.sum(results_correlation_coeff[sc], axis=1)\n",
    "    for k in stats_to_apply_keys:\n",
    "        fun = stats_to_apply[k]\n",
    "        val = fun(cummulative_correlation_coeff)\n",
    "        current_stats.append(val)\n",
    "    X_r2_correlation_coeff[i_row] = current_stats\n",
    "    i_row += 1"
   ]
  },
  {
   "cell_type": "code",
   "execution_count": null,
   "metadata": {},
   "outputs": [],
   "source": [
    "col_names = []\n",
    "key_for_correlation_coeff = translation_dict[\"mRMR_r2\"]\n",
    "for k in stats_to_apply.keys():\n",
    "    col_names.append(f\"{key_for_correlation_coeff}_{k}\")\n",
    "df_correlation_coeff = pd.DataFrame(\n",
    "    data=X_r2_correlation_coeff,\n",
    "    columns=col_names,\n",
    "    index=scenarios_names,\n",
    ")\n",
    "df_correlation_coeff[\"sim\"] = scenarios_sim\n",
    "df_correlation_coeff.sort_values(by=\"sim\", inplace=True)\n",
    "df_correlation_coeff.head()"
   ]
  },
  {
   "cell_type": "markdown",
   "metadata": {},
   "source": [
    "# Join all the info regarding $r^2$"
   ]
  },
  {
   "cell_type": "code",
   "execution_count": null,
   "metadata": {},
   "outputs": [],
   "source": [
    "scenarios_df_reindex = scenarios_df.set_index(\"scenario_id\")\n",
    "df_r2_reindex = df_r2.set_index(\"sim\")\n",
    "df_distance_corr_reindex = df_distance_corr.set_index(\"sim\")\n",
    "df_correlation_coeff_reindex = df_correlation_coeff.set_index(\"sim\")\n",
    "df_r2_results = scenarios_df_reindex.join(df_r2_reindex).join(df_distance_corr_reindex).join(df_correlation_coeff_reindex)"
   ]
  },
  {
   "cell_type": "code",
   "execution_count": null,
   "metadata": {},
   "outputs": [],
   "source": [
    "df_r2_results.head(10)"
   ]
  },
  {
   "cell_type": "code",
   "execution_count": null,
   "metadata": {},
   "outputs": [],
   "source": [
    "df_r2_results.to_csv(os.path.join(data_path, \"other\", \"r2_models.csv\"))"
   ]
  },
  {
   "cell_type": "markdown",
   "metadata": {},
   "source": [
    "# Plots"
   ]
  },
  {
   "cell_type": "markdown",
   "metadata": {},
   "source": [
    "### Plots for the Shapley value"
   ]
  },
  {
   "cell_type": "code",
   "execution_count": null,
   "metadata": {},
   "outputs": [],
   "source": [
    "aggregated_shapley_dict_keys = list(aggregated_shapley_dict.keys())\n",
    "format_fig = \"eps\"\n",
    "for scenario in aggregated_shapley_dict_keys:\n",
    "    current_scenario_id_int = int(scenario[9:])\n",
    "    current_scenario_id_str = str(current_scenario_id_int)\n",
    "    current_scenario_id_str = current_scenario_id_str.zfill(2)\n",
    "    val = aggregated_shapley_dict[scenario]\n",
    "    current_scenario_info = scenarios_df[scenarios_df[\"scenario_id\"] == current_scenario_id_int]\n",
    "    current_eta = str(current_scenario_info.eta.squeeze()).replace(\".\", \"\")\n",
    "    current_type_covariate = current_scenario_info.type_covariate.squeeze()\n",
    "    current_type_transformation = current_scenario_info.type_transformation.squeeze()\n",
    "    current_sample_size = current_scenario_info.sample_size.squeeze()\n",
    "    file_name = f\"{current_scenario_id_str}__{current_type_covariate}__{current_type_transformation}__{current_sample_size}__{current_eta}.{format_fig}\"\n",
    "    fig, ax = plt.subplots(1)\n",
    "    fig.set_size_inches(6.4, 4.8)\n",
    "    fig_siz1, fig_siz2 = fig.get_size_inches()\n",
    "    ax.tick_params(axis='x', labelsize=28)\n",
    "    ax.tick_params(axis='y', labelsize=28)\n",
    "    ax.set_xlabel(r\"$t$\", fontsize=30)\n",
    "    ax.set_ylabel(r\"$\\mathcal{R}(t)$\", fontsize=30)\n",
    "    ax.xaxis.label.set_color('white')\n",
    "    ax.yaxis.label.set_color('white')\n",
    "    ax.yaxis.set_major_formatter(FormatStrFormatter('%.1f'))\n",
    "    if current_type_covariate == \"fourier_expansion\":\n",
    "        ax.yaxis.label.set_color('black')\n",
    "    if current_type_transformation == \"linear_discrete\":\n",
    "        ax.xaxis.label.set_color('black')\n",
    "    lgd = plot_shapley_value(\n",
    "        obj=val,\n",
    "        domain_range=(0, 1),\n",
    "        translation_dict=translation_dict,\n",
    "        display_legend=False,\n",
    "        disregard_feature_selection=True,\n",
    "    )\n",
    "    ax.set_facecolor(\"white\")\n",
    "    fig.set_facecolor(\"none\")\n",
    "    fig.set_size_inches(shapley_polygonal_size)\n",
    "    fig.savefig(os.path.join(images_path, file_name), format=format_fig)\n",
    "    plt.close()"
   ]
  },
  {
   "cell_type": "code",
   "execution_count": null,
   "metadata": {},
   "outputs": [],
   "source": [
    "aggregated_shapley_dict_keys = list(aggregated_shapley_dict.keys())\n",
    "format_fig = \"eps\"\n",
    "for scenario in aggregated_shapley_dict_keys:\n",
    "    current_scenario_id_int = int(scenario[9:])\n",
    "    current_scenario_id_str = str(current_scenario_id_int)\n",
    "    current_scenario_id_str = current_scenario_id_str.zfill(2)\n",
    "    val = aggregated_shapley_dict[scenario]\n",
    "    current_scenario_info = scenarios_df[scenarios_df[\"scenario_id\"] == current_scenario_id_int]\n",
    "    current_eta = str(current_scenario_info.eta.squeeze()).replace(\".\", \"\")\n",
    "    current_type_covariate = current_scenario_info.type_covariate.squeeze()\n",
    "    current_type_transformation = current_scenario_info.type_transformation.squeeze()\n",
    "    current_sample_size = current_scenario_info.sample_size.squeeze()\n",
    "    file_name = f\"step_{current_scenario_id_str}__{current_type_covariate}__{current_type_transformation}__{current_sample_size}__{current_eta}.{format_fig}\"\n",
    "    fig, ax = plt.subplots(1)\n",
    "    ax.tick_params(axis='x', labelsize=18)\n",
    "    ax.tick_params(axis='y', labelsize=18)\n",
    "    if current_type_covariate == \"brownian_trend\":\n",
    "        ax.set_xlabel(r\"$t$\", fontsize=22)\n",
    "    if current_type_transformation == \"linear_unimodal\":\n",
    "        ax.set_ylabel(r\"$\\mathcal{R}_f(t)$\", fontsize=22)\n",
    "    plot_shapley_function(\n",
    "        obj=val,\n",
    "        domain_range=(0, 1),\n",
    "        translation_dict=translation_dict,\n",
    "        disregard_feature_selection=True,\n",
    "    )\n",
    "    ax.set_facecolor(\"white\")\n",
    "    fig.set_facecolor(\"none\")\n",
    "    plt.savefig(os.path.join(images_path, file_name), format=format_fig)\n",
    "    plt.close()"
   ]
  },
  {
   "cell_type": "markdown",
   "metadata": {},
   "source": [
    "# Misc"
   ]
  },
  {
   "cell_type": "code",
   "execution_count": null,
   "metadata": {},
   "outputs": [],
   "source": [
    "keys_to_consider = ['intervals', 'middle_points', 'lm']\n",
    "format_fig = \"eps\"\n",
    "val = aggregated_shapley_dict[\"scenario_1\"]\n",
    "single_scenario = {k: val[k] for k in keys_to_consider}\n",
    "fig, ax =  plt.subplots(1)\n",
    "plot_shapley_value(\n",
    "    obj=single_scenario,\n",
    "    domain_range=(0, 1),\n",
    "    display_legend=False,\n",
    "    translation_dict=translation_dict,\n",
    ")\n",
    "ax.tick_params(axis='x', labelsize=24)\n",
    "ax.tick_params(axis='y', labelsize=24)\n",
    "ax.set_xlabel(r\"$t$\", fontsize=28)\n",
    "ax.set_ylabel(r\"$\\mathcal{R}_f(t)$\", fontsize=28)\n",
    "fig.set_size_inches(fig_size)\n",
    "fig.savefig(os.path.join(images_path, f\"shapley_relevance_single_scenario.{format_fig}\"), format=format_fig)\n",
    "    "
   ]
  },
  {
   "cell_type": "code",
   "execution_count": null,
   "metadata": {},
   "outputs": [],
   "source": [
    "format_fig = \"eps\"\n",
    "fig, ax =  plt.subplots(1)\n",
    "plot_shapley_function(\n",
    "    obj=single_scenario,\n",
    "    domain_range=(0, 1),\n",
    "    plot_h_line=True,\n",
    "    plot_v_line=True,\n",
    "    display_legend=False,\n",
    "    translation_dict=translation_dict,\n",
    ")\n",
    "ax.tick_params(axis='x', labelsize=24)\n",
    "ax.tick_params(axis='y', labelsize=24)\n",
    "ax.set_xlabel(r\"$t$\", fontsize=28)\n",
    "ax.set_ylabel(r\"$\\mathcal{R}_f(t)$\", fontsize=28)\n",
    "fig.set_size_inches(fig_size)\n",
    "fig.savefig(os.path.join(images_path, f\"shapley_step_single_scenario.{format_fig}\"), format=format_fig)"
   ]
  },
  {
   "cell_type": "markdown",
   "metadata": {},
   "source": [
    "# Legend"
   ]
  },
  {
   "cell_type": "code",
   "execution_count": null,
   "metadata": {},
   "outputs": [],
   "source": [
    "from matplotlib.lines import Line2D\n",
    "from matplotlib.colors import ListedColormap\n",
    "colors_code = np.array([\n",
    "    [0, 255, 0],\n",
    "    [255, 0, 0],\n",
    "    [0, 0, 255],\n",
    "    [0, 0, 0],\n",
    "    [218, 112, 214],\n",
    "    [107, 223, 205],\n",
    "    [128, 128, 128]\n",
    "])/255\n",
    "linestyle_list = [\"-\", \"--\", \":\"]\n",
    "n_functions = len(linestyle_list)\n",
    "cmap = ListedColormap(colors_code)\n",
    "colors = cmap.colors\n",
    "function_names = [\n",
    "    translation_dict[x] for x in aggregated_shapley_dict[\"scenario_1\"].keys() if x not in main_keys and x not in [\"mRMR_r2\", \"mRMR_distance_correlation\"]\n",
    "]\n",
    "print(function_names)\n",
    "leg = plt.legend(\n",
    "    handles=[Line2D([], [], color=col, lw=2.5, linestyle=mk) for col, mk in zip(colors, linestyle_list[:n_functions])],\n",
    "    labels=function_names,\n",
    "    loc='upper center',\n",
    "    bbox_to_anchor=(0.5, -0.05),\n",
    "    fancybox=True,\n",
    "    shadow=True,\n",
    "    frameon=False,\n",
    "    ncol=len(function_names),\n",
    ")"
   ]
  },
  {
   "cell_type": "code",
   "execution_count": null,
   "metadata": {},
   "outputs": [],
   "source": [
    "format_fig = \"eps\"\n",
    "fig  = leg.figure\n",
    "fig.canvas.draw()\n",
    "bbox  = leg.get_window_extent().transformed(fig.dpi_scale_trans.inverted())\n",
    "fig.savefig(os.path.join(images_path, f\"legend.{format_fig}\"), dpi=\"figure\", bbox_inches=bbox, format=format_fig)"
   ]
  }
 ],
 "metadata": {
  "kernelspec": {
   "display_name": ".shapley_fda_experiments",
   "language": "python",
   "name": "python3"
  },
  "language_info": {
   "codemirror_mode": {
    "name": "ipython",
    "version": 3
   },
   "file_extension": ".py",
   "mimetype": "text/x-python",
   "name": "python",
   "nbconvert_exporter": "python",
   "pygments_lexer": "ipython3",
   "version": "3.9.17"
  }
 },
 "nbformat": 4,
 "nbformat_minor": 2
}
