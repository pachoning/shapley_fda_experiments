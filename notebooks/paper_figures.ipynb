{
 "cells": [
  {
   "cell_type": "markdown",
   "metadata": {},
   "source": [
    "# Load libraries and utils"
   ]
  },
  {
   "cell_type": "code",
   "execution_count": null,
   "metadata": {},
   "outputs": [],
   "source": [
    "%load_ext autoreload\n",
    "%autoreload 2\n",
    "from images import images_path\n",
    "from matplotlib.colors import LinearSegmentedColormap\n",
    "from utils.simulator import FdaSimulator\n",
    "from utils.paper_figures import PaperFiguresTools, colored_line\n",
    "import matplotlib.pyplot as plt\n",
    "import numpy as np\n",
    "import os"
   ]
  },
  {
   "cell_type": "code",
   "execution_count": null,
   "metadata": {},
   "outputs": [],
   "source": [
    "fda_simulator = FdaSimulator()\n",
    "domain_range = fda_simulator.domain_range\n",
    "abscissa_points = fda_simulator.abscissa_points"
   ]
  },
  {
   "cell_type": "markdown",
   "metadata": {},
   "source": [
    "# Create Brownian with a trend data"
   ]
  },
  {
   "cell_type": "code",
   "execution_count": null,
   "metadata": {},
   "outputs": [],
   "source": [
    "# Prepare some global parameters used to generate data\n",
    "cnt = 30\n",
    "alpha_p =  1 * cnt\n",
    "beta_p = 3 * cnt\n",
    "positions = [0.15, 0.35, 0.55, 0.85]\n",
    "n_basis_simulated_data = 31\n",
    "sample_size = 200\n",
    "\n",
    "np.random.seed(1234)\n",
    "X_brow, phi_X_brow, epsilon_brow, beta_data_brow, col_indexes_bct_brow, target_brow = fda_simulator.simulate(\n",
    "    type_covariate=\"brownian_trend\",\n",
    "    type_transformation=\"linear_unimodal\",\n",
    "    sample_size=sample_size,\n",
    "    eta=0.25,\n",
    "    datasets_type = [\"train\"],\n",
    "    # Series representation\n",
    "    n_basis_simulated_data=n_basis_simulated_data,\n",
    "    sd_x=0.01,\n",
    "    # Beta parameters\n",
    "    alpha_param=alpha_p,\n",
    "    beta_param=beta_p,\n",
    "    # Brownian parameters\n",
    "    intercept_brownian=0,\n",
    "    slope_brownian=1,\n",
    "    positions=positions\n",
    ")"
   ]
  },
  {
   "cell_type": "code",
   "execution_count": null,
   "metadata": {},
   "outputs": [],
   "source": [
    "X_train_brow = X_brow[0]\n",
    "target_train_brow = target_brow[0]\n",
    "beta_train_brow = beta_data_brow[0]\n",
    "epsilon_train_brow = epsilon_brow[0]\n",
    "X_train_grid_brow = fda_simulator.to_fdata_grid(X_train_brow)"
   ]
  },
  {
   "cell_type": "code",
   "execution_count": null,
   "metadata": {},
   "outputs": [],
   "source": [
    "paper_figures_tools_brow = PaperFiguresTools(\n",
    "    domain_range=domain_range,\n",
    "    abscissa_points=abscissa_points,\n",
    "    X=X_train_brow\n",
    ")"
   ]
  },
  {
   "cell_type": "code",
   "execution_count": null,
   "metadata": {},
   "outputs": [],
   "source": [
    "num_intervals = 10\n",
    "# Create set of intervals\n",
    "set_intervals = paper_figures_tools_brow.create_set_intervals(num_intervals, intervals=None)\n",
    "# Create a single permutation\n",
    "np.random.seed(1234)\n",
    "permutation = np.random.choice(a=num_intervals, size=num_intervals, replace=False)\n",
    "print(permutation)\n",
    "# Map each abscissa point with its interval\n",
    "mapping_abscissa_interval = paper_figures_tools_brow.map_abscissa_interval(set_intervals)\n",
    "# Compute mean value and covariance matrix\n",
    "mean_f = np.reshape(np.mean(paper_figures_tools_brow.X, axis=0), newshape=(-1, 1))\n",
    "covariance_f = np.cov(paper_figures_tools_brow.X, rowvar=False, bias=True)\n",
    "# Current interval\n",
    "i_interval = 0\n",
    "interval = set_intervals[i_interval]\n",
    "available_intervals, non_available_intervals = paper_figures_tools_brow.break_permutation(\n",
    "    permutation=permutation,\n",
    "    global_interval_position=i_interval,\n",
    "    use_interval=False\n",
    ")\n",
    "#available_intervals = np.array([])\n",
    "#non_available_intervals = permutation.copy()\n",
    "print(\"available_intervals:\", available_intervals)\n",
    "print(\"non_available_intervals:\", non_available_intervals)\n",
    "X_recreated_brow = paper_figures_tools_brow.recompute_covariate(\n",
    "    available_intervals=available_intervals,\n",
    "    non_available_intervals=non_available_intervals,\n",
    "    mapping_abscissa_interval=mapping_abscissa_interval,\n",
    "    mean_f=mean_f,\n",
    "    covariance_f=covariance_f,\n",
    ")"
   ]
  },
  {
   "cell_type": "markdown",
   "metadata": {},
   "source": [
    "# Plot Brownian data"
   ]
  },
  {
   "cell_type": "code",
   "execution_count": null,
   "metadata": {},
   "outputs": [],
   "source": [
    "aspect_ratio = 6.4/4.8\n",
    "fig_size = [8*6.4/4.8, 8]"
   ]
  },
  {
   "cell_type": "code",
   "execution_count": null,
   "metadata": {},
   "outputs": [],
   "source": [
    "zzz = X_train_grid_brow.plot()\n",
    "zzz.axes[0].tick_params(axis='x', labelsize=24)\n",
    "zzz.axes[0].tick_params(axis='y', labelsize=24)\n",
    "zzz.axes[0].set_xlabel(r\"$t$\", fontsize=28)\n",
    "zzz.axes[0].set_ylabel(r\"$\\mathcal{X}_j(t)$\", fontsize=28)\n",
    "zzz.figure.set_size_inches(fig_size)\n",
    "zzz.figure.savefig(os.path.join(images_path, \"all_functions_brownian.pdf\"), format=\"pdf\")\n",
    "#brownian_size = zzz.figure.get_size_inches()\n",
    "#plt.close()"
   ]
  },
  {
   "cell_type": "markdown",
   "metadata": {},
   "source": [
    "# Plot a single example for Brownian"
   ]
  },
  {
   "cell_type": "code",
   "execution_count": null,
   "metadata": {},
   "outputs": [],
   "source": [
    "idx = np.argmax(paper_figures_tools_brow.X[:, -1])\n",
    "ylim = zzz.axes[0].get_ylim()\n",
    "xlim = zzz.axes[0].get_xlim()"
   ]
  },
  {
   "cell_type": "code",
   "execution_count": null,
   "metadata": {},
   "outputs": [],
   "source": [
    "#fun_to_print = np.reshape(paper_figures_tools_brow.X[76], newshape=(1, -1))\n",
    "#data_to_print = [np.column_stack((paper_figures_tools_brow.abscissa_points, y)) for y in fun_to_print]\n",
    "cm = LinearSegmentedColormap.from_list(\n",
    "    \"Custom\",\n",
    "    [(1, 0, 0), (0, 0, 1)],\n",
    "    N=2\n",
    ")\n",
    "colors = [1 if ab in available_intervals else 0 for ab in mapping_abscissa_interval]\n",
    "fig, ax = plt.subplots()\n",
    "colored_line(\n",
    "    paper_figures_tools_brow.abscissa_points,\n",
    "    paper_figures_tools_brow.X[idx],\n",
    "    c=colors,\n",
    "    ax=ax,\n",
    "    cmap=cm\n",
    ")\n",
    "\n",
    "ax.set_ylim(ylim)\n",
    "ax.set_xlim(xlim)\n",
    "ax.tick_params(axis='x', labelsize=24)\n",
    "ax.tick_params(axis='y', labelsize=24)\n",
    "ax.set_xlabel(r\"$t$\", fontsize=28)\n",
    "ax.set_ylabel(r\"$\\mathcal{X}_3(t)$\", fontsize=28)\n",
    "fig.set_size_inches(fig_size)\n",
    "fig.savefig(os.path.join(images_path, \"example_fn_brownian.pdf\"), format=\"pdf\")\n",
    "#plt.close()"
   ]
  },
  {
   "cell_type": "code",
   "execution_count": null,
   "metadata": {},
   "outputs": [],
   "source": [
    "cm = LinearSegmentedColormap.from_list(\n",
    "    \"Custom\",\n",
    "    [(0, 1, 0), (0, 0, 1)],\n",
    "    N=2\n",
    ")\n",
    "fig, ax = plt.subplots()\n",
    "colored_line(\n",
    "    paper_figures_tools_brow.abscissa_points,\n",
    "     X_recreated_brow[idx],\n",
    "    c=colors,\n",
    "    ax=ax,\n",
    "    cmap=cm\n",
    ")\n",
    "\n",
    "ax.set_ylim(ylim)\n",
    "ax.set_xlim(xlim)\n",
    "ax.tick_params(axis='x', labelsize=24)\n",
    "ax.tick_params(axis='y', labelsize=24)\n",
    "ax.set_xlabel(r\"$t$\", fontsize=28)\n",
    "ax.set_ylabel(r\"$\\tilde{\\mathcal{X}}_3(t)$\", fontsize=28)\n",
    "fig.set_size_inches(fig_size)\n",
    "fig.savefig(os.path.join(images_path, \"example_recreated_fn_brownian.pdf\"), format=\"pdf\")"
   ]
  },
  {
   "cell_type": "markdown",
   "metadata": {},
   "source": [
    "# Create Fouririer Expansion"
   ]
  },
  {
   "cell_type": "code",
   "execution_count": null,
   "metadata": {},
   "outputs": [],
   "source": [
    "# Prepare some global parameters used to generate data\n",
    "cnt = 30\n",
    "alpha_p =  1 * cnt\n",
    "beta_p = 3 * cnt\n",
    "positions = [0.15, 0.35, 0.55, 0.85]\n",
    "n_basis_simulated_data = 31\n",
    "sample_size = 200\n",
    "\n",
    "np.random.seed(1234)\n",
    "X_fourier, phi_X_fourier, epsilon_fourier, beta_data_fourier, col_indexes_bct_fourier, target_fourier = fda_simulator.simulate(\n",
    "    type_covariate=\"fourier_expansion\",\n",
    "    type_transformation=\"linear_unimodal\",\n",
    "    sample_size=sample_size,\n",
    "    eta=0.25,\n",
    "    datasets_type = [\"train\"],\n",
    "    # Series representation\n",
    "    n_basis_simulated_data=n_basis_simulated_data,\n",
    "    sd_x=0.01,\n",
    "    # Beta parameters\n",
    "    alpha_param=alpha_p,\n",
    "    beta_param=beta_p,\n",
    "    # Brownian parameters\n",
    "    intercept_brownian=0,\n",
    "    slope_brownian=1,\n",
    "    positions=positions\n",
    ")"
   ]
  },
  {
   "cell_type": "code",
   "execution_count": null,
   "metadata": {},
   "outputs": [],
   "source": [
    "X_train_fourier = X_fourier[0]\n",
    "target_train_fourier = target_fourier[0]\n",
    "beta_train_fourier = beta_data_fourier[0]\n",
    "epsilon_train_fourier = epsilon_fourier[0]\n",
    "X_train_grid_fourier = fda_simulator.to_fdata_grid(X_train_fourier)"
   ]
  },
  {
   "cell_type": "markdown",
   "metadata": {},
   "source": [
    "# Create symmetric Fouririer Expansion"
   ]
  },
  {
   "cell_type": "code",
   "execution_count": null,
   "metadata": {},
   "outputs": [],
   "source": [
    "# Prepare some global parameters used to generate data\n",
    "cnt = 30\n",
    "alpha_p =  1 * cnt\n",
    "beta_p = 3 * cnt\n",
    "positions = [0.15, 0.35, 0.55, 0.85]\n",
    "n_basis_simulated_data = 31\n",
    "sample_size = 200\n",
    "np.random.seed(1234)\n",
    "X_sym_fourier, phi_X_sym_fourier, epsilon_sym_fourier, beta_data_sym_fourier, col_indexes_bct_sym_fourier, target_sym_fourier = fda_simulator.simulate(\n",
    "    type_covariate=\"symmetric_fourier_expansion\",\n",
    "    type_transformation=\"linear_unimodal\",\n",
    "    sample_size=sample_size,\n",
    "    eta=0.25,\n",
    "    datasets_type = [\"train\"],\n",
    "    # Series representation\n",
    "    n_basis_simulated_data=n_basis_simulated_data,\n",
    "    sd_x=0.01,\n",
    "    # Beta parameters\n",
    "    alpha_param=alpha_p,\n",
    "    beta_param=beta_p,\n",
    "    # Brownian parameters\n",
    "    intercept_brownian=0,\n",
    "    slope_brownian=1,\n",
    "    positions=positions\n",
    ")"
   ]
  },
  {
   "cell_type": "code",
   "execution_count": null,
   "metadata": {},
   "outputs": [],
   "source": [
    "X_train_sym_fourier = X_sym_fourier[0]\n",
    "target_train_sym_fourier = target_sym_fourier[0]\n",
    "beta_train_sym_fourier = beta_data_sym_fourier[0]\n",
    "epsilon_train_sym_fourier = epsilon_sym_fourier[0]\n",
    "X_train_grid_sym_fourier = fda_simulator.to_fdata_grid(X_train_sym_fourier)"
   ]
  },
  {
   "cell_type": "markdown",
   "metadata": {},
   "source": [
    "# Plot Fourier and symmetric Fourier"
   ]
  },
  {
   "cell_type": "code",
   "execution_count": null,
   "metadata": {},
   "outputs": [],
   "source": [
    "fig_size"
   ]
  },
  {
   "cell_type": "code",
   "execution_count": null,
   "metadata": {},
   "outputs": [],
   "source": [
    "fourier_plot = X_train_grid_fourier.plot()\n",
    "sym_fourier_plot = X_train_grid_sym_fourier.plot()\n",
    "y_lim_fourier = fourier_plot.axes[0].get_ylim()\n",
    "y_lim_sym_fourier = sym_fourier_plot.axes[0].get_ylim()\n",
    "new_lim = (min(y_lim_fourier[0], y_lim_sym_fourier[0]), max(y_lim_fourier[1], y_lim_sym_fourier[1]))\n",
    "fourier_plot.axes[0].tick_params(axis='x', labelsize=18)\n",
    "fourier_plot.axes[0].tick_params(axis='y', labelsize=18)\n",
    "fourier_plot.axes[0].set_xlabel(r\"$t$\", fontsize=22)\n",
    "fourier_plot.axes[0].set_ylabel(r\"$\\mathcal{X}_j(t)$\", fontsize=22)\n",
    "fourier_plot.axes[0].set_ylim(new_lim)\n",
    "fourier_plot.figure.set_size_inches(fig_size)\n",
    "sym_fourier_plot.axes[0].tick_params(axis='x', labelsize=18)\n",
    "sym_fourier_plot.axes[0].tick_params(axis='y', labelsize=18)\n",
    "sym_fourier_plot.axes[0].set_xlabel(r\"$t$\", fontsize=22)\n",
    "sym_fourier_plot.axes[0].set_ylabel(r\"$\\mathcal{X}_j(t)$\", fontsize=22)\n",
    "sym_fourier_plot.axes[0].set_ylim(new_lim)\n",
    "sym_fourier_plot.figure.set_size_inches(fig_size)"
   ]
  },
  {
   "cell_type": "code",
   "execution_count": null,
   "metadata": {},
   "outputs": [],
   "source": [
    "fourier_plot.savefig(os.path.join(images_path, \"all_functions_fourier.pdf\"), format=\"pdf\")\n",
    "sym_fourier_plot.savefig(os.path.join(images_path, \"all_functions_symmetric_fourier.pdf\"), format=\"pdf\")"
   ]
  }
 ],
 "metadata": {
  "kernelspec": {
   "display_name": ".shapley_fda_experiments",
   "language": "python",
   "name": "python3"
  },
  "language_info": {
   "codemirror_mode": {
    "name": "ipython",
    "version": 3
   },
   "file_extension": ".py",
   "mimetype": "text/x-python",
   "name": "python",
   "nbconvert_exporter": "python",
   "pygments_lexer": "ipython3",
   "version": "3.9.17"
  }
 },
 "nbformat": 4,
 "nbformat_minor": 2
}
