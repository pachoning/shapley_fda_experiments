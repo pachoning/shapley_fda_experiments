{
 "cells": [
  {
   "cell_type": "code",
   "execution_count": 1,
   "metadata": {},
   "outputs": [],
   "source": [
    "%load_ext autoreload\n",
    "%autoreload 2\n",
    "from utils.predict_np import predict_from_np\n",
    "from scipy.stats import norm\n",
    "from shapley.shapley_fda import ShapleyFda\n",
    "from shapley.shaple_fda_mean import ShapleyFdaMean\n",
    "from skfda.misc import inner_product\n",
    "from skfda.ml.regression import KNeighborsRegressor\n",
    "from skfda.representation.basis import BSplineBasis\n",
    "from skfda.representation.grid import FDataGrid\n",
    "import numpy as np"
   ]
  },
  {
   "cell_type": "code",
   "execution_count": null,
   "metadata": {},
   "outputs": [],
   "source": [
    "n_basis_representation = 100\n",
    "ini = 0\n",
    "end = 1\n",
    "std = 0.02\n",
    "total_fun = 100\n",
    "mu_ini_1 = 0.2\n",
    "mu_end_1 = 0.3\n",
    "h_1 = (mu_end_1 - mu_ini_1)/total_fun\n",
    "mu_ini_2 = 0.7\n",
    "mu_end_2 = 0.8\n",
    "h_2 = (mu_end_2 - mu_ini_2)/total_fun\n",
    "domain_range = (ini, end)\n",
    "basis_bsplines = BSplineBasis(n_basis=n_basis_representation, domain_range=domain_range)\n",
    "step = 0.01\n",
    "abscissa_points = np.arange(ini, end + step, step)\n",
    "total_abscissa_points = abscissa_points.shape[0]\n",
    "mean_1 = np.arange(mu_ini_1, mu_end_1, h_1)\n",
    "mean_2 = np.arange(mu_ini_2, mu_end_2, h_2)\n",
    "mean_all = np.concatenate((mean_1, mean_2))\n",
    "num_functions = mean_all.shape[0]\n",
    "X_simulated = np.empty(shape=(num_functions, total_abscissa_points))\n",
    "i = 0\n",
    "for mean in mean_all:\n",
    "    normal_rv = norm(loc=mean, scale=std)\n",
    "    normal_pdf = normal_rv.pdf(abscissa_points)\n",
    "    if mean >= 0.5:\n",
    "        normal_pdf = -normal_pdf\n",
    "    X_simulated[i, :] = normal_pdf\n",
    "    i += 1\n",
    "X_simulated_grid = FDataGrid(\n",
    "    data_matrix=X_simulated,\n",
    "    grid_points=abscissa_points,\n",
    "    domain_range=domain_range\n",
    ")\n",
    "X_basis_bsplines = X_simulated_grid.to_basis(basis_bsplines)"
   ]
  },
  {
   "cell_type": "code",
   "execution_count": null,
   "metadata": {},
   "outputs": [],
   "source": [
    "zzz = X_simulated_grid.plot()"
   ]
  },
  {
   "cell_type": "code",
   "execution_count": null,
   "metadata": {},
   "outputs": [],
   "source": [
    "zzz = X_basis_bsplines.plot()"
   ]
  },
  {
   "cell_type": "code",
   "execution_count": null,
   "metadata": {},
   "outputs": [],
   "source": [
    "fun = np.ones(shape=abscissa_points.shape)\n",
    "fun_grid = FDataGrid(\n",
    "    data_matrix= fun,\n",
    "    grid_points=abscissa_points, \n",
    "    domain_range=(ini, end)\n",
    ")\n",
    "zzz = fun_grid.plot()"
   ]
  },
  {
   "cell_type": "code",
   "execution_count": null,
   "metadata": {},
   "outputs": [],
   "source": [
    "np.random.seed(12345)\n",
    "y = inner_product(X_simulated_grid, fun_grid) + np.random.normal(scale=0.001, size=num_functions)\n",
    "y"
   ]
  },
  {
   "cell_type": "code",
   "execution_count": null,
   "metadata": {},
   "outputs": [],
   "source": [
    "# KNN\n",
    "neigh = KNeighborsRegressor()\n",
    "neigh.fit(X_basis_bsplines, y)"
   ]
  },
  {
   "cell_type": "code",
   "execution_count": null,
   "metadata": {},
   "outputs": [],
   "source": [
    "neigh.predict(X_basis_bsplines)"
   ]
  },
  {
   "cell_type": "code",
   "execution_count": null,
   "metadata": {},
   "outputs": [],
   "source": [
    "# Transform predict function to use a numpy array as input\n",
    "pred_neigh = predict_from_np(\n",
    "    grid_points=abscissa_points,\n",
    "    domain_range=domain_range,\n",
    "    basis=X_basis_bsplines.basis,\n",
    "    predict_fn=neigh.predict\n",
    ")"
   ]
  },
  {
   "cell_type": "code",
   "execution_count": null,
   "metadata": {},
   "outputs": [],
   "source": [
    "num_intervals = 20\n",
    "num_permutations = 100\n",
    "shapley_fda_neigh = ShapleyFda(\n",
    "    predict_fn=pred_neigh,\n",
    "    X=X_simulated,\n",
    "    abscissa_points=abscissa_points,\n",
    "    target=y,\n",
    "    domain_range=domain_range,\n",
    "    verbose=False,\n",
    ")\n",
    "values_shapley_lm = shapley_fda_neigh.compute_shapley_value(\n",
    "    num_intervals=num_intervals,\n",
    "    num_permutations=num_permutations\n",
    ")"
   ]
  },
  {
   "cell_type": "code",
   "execution_count": null,
   "metadata": {},
   "outputs": [],
   "source": [
    "shapley_fda_neigh.plot()"
   ]
  }
 ],
 "metadata": {
  "kernelspec": {
   "display_name": ".shapley_fda_experiments",
   "language": "python",
   "name": "python3"
  },
  "language_info": {
   "codemirror_mode": {
    "name": "ipython",
    "version": 3
   },
   "file_extension": ".py",
   "mimetype": "text/x-python",
   "name": "python",
   "nbconvert_exporter": "python",
   "pygments_lexer": "ipython3",
   "version": "3.9.17"
  }
 },
 "nbformat": 4,
 "nbformat_minor": 2
}
