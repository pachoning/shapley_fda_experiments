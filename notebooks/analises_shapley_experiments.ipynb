{
 "cells": [
  {
   "cell_type": "code",
   "execution_count": null,
   "metadata": {},
   "outputs": [],
   "source": [
    "%load_ext autoreload\n",
    "%autoreload 2\n",
    "from data import data_path\n",
    "from images import images_path\n",
    "from skfda.representation.grid import FDataGrid\n",
    "from utils.utils_workflow import compute_mean_value, plot_step_fn\n",
    "import matplotlib.pyplot as plt\n",
    "import numpy as np\n",
    "import os\n",
    "import pandas as pd\n",
    "import pickle"
   ]
  },
  {
   "cell_type": "code",
   "execution_count": null,
   "metadata": {},
   "outputs": [],
   "source": [
    "last_simulation_finished_list = [99, 63]\n",
    "domain_range = (0, 1)\n",
    "output_data_path = os.path.join(data_path, \"output\")\n",
    "scenarios = os.listdir(output_data_path)\n",
    "shapley_str = \"shapley_{}_{}.pkl\"\n",
    "r2_str = \"r2_test_{}_{}.pkl\"\n",
    "models_considered = [\"fnn\", \"knn\", \"lm\"]"
   ]
  },
  {
   "cell_type": "markdown",
   "metadata": {},
   "source": [
    "# Shapley value"
   ]
  },
  {
   "cell_type": "code",
   "execution_count": null,
   "metadata": {},
   "outputs": [],
   "source": [
    "all_df = []\n",
    "all_r2 = []\n",
    "need_to_load_header = True\n",
    "for scenario, last_simulation_finished  in zip(scenarios, last_simulation_finished_list):\n",
    "    for i_sim in range(last_simulation_finished + 1): \n",
    "        for current_model in models_considered:\n",
    "            shapley_file_name = shapley_str.format(current_model, i_sim)\n",
    "            shapley_file = os.path.join(output_data_path, scenario, shapley_file_name)\n",
    "            with open(shapley_file, \"rb\") as file:\n",
    "                data = pickle.load(file)\n",
    "            if need_to_load_header:\n",
    "                intervals = [x[0] for x in data]\n",
    "                header = compute_mean_value(intervals)\n",
    "                need_to_load_header = False\n",
    "            values = [[x[1] for x in data]]\n",
    "            df = pd.DataFrame(\n",
    "                data=values,\n",
    "                columns=header\n",
    "            )\n",
    "            df[\"scenario\"] = scenario\n",
    "            df[\"model\"] = current_model\n",
    "            df[\"simulation\"] = i_sim\n",
    "            all_df.append(df)\n",
    "            r2_file_name = r2_str.format(current_model, i_sim)\n",
    "            r2_file = os.path.join(output_data_path, scenario, r2_file_name)\n",
    "            with open(r2_file, \"rb\") as file:\n",
    "                data_r2 = pickle.load(file)\n",
    "            df_r2 = pd.DataFrame(\n",
    "                data=[[scenario, current_model, data_r2]],\n",
    "                columns=[\"scenario\", \"model\", \"r2\"]\n",
    "            )\n",
    "            all_r2.append(df_r2)"
   ]
  },
  {
   "cell_type": "code",
   "execution_count": null,
   "metadata": {},
   "outputs": [],
   "source": [
    "df_all = pd.concat(all_df)\n",
    "df_all.head(10)"
   ]
  },
  {
   "cell_type": "code",
   "execution_count": null,
   "metadata": {},
   "outputs": [],
   "source": [
    "df_all.isnull().values.any()"
   ]
  },
  {
   "cell_type": "code",
   "execution_count": null,
   "metadata": {},
   "outputs": [],
   "source": [
    "df_all.shape[0]/3"
   ]
  },
  {
   "cell_type": "code",
   "execution_count": null,
   "metadata": {},
   "outputs": [],
   "source": [
    "df_aggregated = df_all.groupby([\"scenario\", \"model\"]).mean().drop(\"simulation\", axis=\"columns\")"
   ]
  },
  {
   "cell_type": "code",
   "execution_count": null,
   "metadata": {},
   "outputs": [],
   "source": [
    "df_scenario_1 = df_aggregated[df_aggregated.index.get_level_values(\"scenario\").isin([\"scenario_1\"])]\n",
    "df_scenario_2 = df_aggregated[df_aggregated.index.get_level_values(\"scenario\").isin([\"scenario_2\"])]\n",
    "scenario_1_np = df_scenario_1.to_numpy()\n",
    "scenario_2_np = df_scenario_2.to_numpy()"
   ]
  },
  {
   "cell_type": "code",
   "execution_count": null,
   "metadata": {},
   "outputs": [],
   "source": [
    "df_scenario_1.head()"
   ]
  },
  {
   "cell_type": "code",
   "execution_count": null,
   "metadata": {},
   "outputs": [],
   "source": [
    "scenario_1_grid = FDataGrid(\n",
    "    data_matrix=scenario_1_np,\n",
    "    grid_points=header,\n",
    "    domain_range=domain_range,\n",
    "    sample_names=df_scenario_1.index.get_level_values(\"model\"),\n",
    "    coordinate_names=(\"Shapley value\", ),\n",
    ")\n",
    "zzz = scenario_1_grid.plot(\n",
    "    legend=True,\n",
    "    group=df_scenario_1.index.get_level_values(\"model\"),\n",
    ")\n",
    "plt.savefig(os.path.join(images_path, \"scenario_1_shapley.eps\"), format=\"eps\")\n",
    "plt.savefig(os.path.join(images_path, \"scenario_1_shapley.pdf\"), format=\"pdf\")"
   ]
  },
  {
   "cell_type": "code",
   "execution_count": null,
   "metadata": {},
   "outputs": [],
   "source": [
    "x_min = [x[0] for x in intervals]\n",
    "x_max = [x[1] for x in intervals]\n",
    "print(len(x_max))"
   ]
  },
  {
   "cell_type": "code",
   "execution_count": null,
   "metadata": {},
   "outputs": [],
   "source": [
    "plot_step_fn(\n",
    "    x_min=x_min,\n",
    "    x_max=x_max,\n",
    "    values=scenario_1_np,\n",
    "    colors=['tab:blue', 'tab:orange', 'tab:green'],\n",
    "    models=df_scenario_1.index.get_level_values(\"model\").tolist(),\n",
    "    domain_range=domain_range,\n",
    "    x_lab=\"\",\n",
    "    y_lab=\"Shapley value (step function)\",\n",
    "    plt_h_line=True,\n",
    "    plot_v_line=True,\n",
    ")\n",
    "plt.savefig(os.path.join(images_path, \"scenario_1_step_fn.eps\"), format=\"eps\")\n",
    "plt.savefig(os.path.join(images_path, \"scenario_1_step_fn.pdf\"), format=\"pdf\")"
   ]
  },
  {
   "cell_type": "code",
   "execution_count": null,
   "metadata": {},
   "outputs": [],
   "source": [
    "scenario_2_grid = FDataGrid(\n",
    "    data_matrix=scenario_2_np,\n",
    "    grid_points=header,\n",
    "    domain_range=domain_range,\n",
    "    sample_names=df_scenario_2.index.get_level_values(\"model\"),\n",
    "    coordinate_names=(\"Shapley value\", ),\n",
    ")\n",
    "zzz = scenario_2_grid.plot(\n",
    "    legend=True,\n",
    "    group=df_scenario_2.index.get_level_values(\"model\")\n",
    ")\n",
    "plt.savefig(os.path.join(images_path, \"scenario_2_shapley.eps\"), format=\"eps\")\n",
    "plt.savefig(os.path.join(images_path, \"scenario_2_shapley.pdf\"), format=\"pdf\")"
   ]
  },
  {
   "cell_type": "code",
   "execution_count": null,
   "metadata": {},
   "outputs": [],
   "source": [
    "plot_step_fn(\n",
    "    x_min=x_min,\n",
    "    x_max=x_max,\n",
    "    values=scenario_2_np,\n",
    "    colors=['tab:blue', 'tab:orange', 'tab:green'],\n",
    "    models=list(df_scenario_2.index.get_level_values(\"model\")),\n",
    "    domain_range=domain_range,\n",
    "    x_lab=\"\",\n",
    "    y_lab=\"Shapley value (step function)\",\n",
    "    plt_h_line=True,\n",
    "    plot_v_line=True,\n",
    ")\n",
    "plt.savefig(os.path.join(images_path, \"scenario_2_step_fn.eps\"), format=\"eps\")\n",
    "plt.savefig(os.path.join(images_path, \"scenario_2_step_fn.pdf\"), format=\"pdf\")"
   ]
  },
  {
   "cell_type": "markdown",
   "metadata": {},
   "source": [
    "# Compute r^2 metrics "
   ]
  },
  {
   "cell_type": "code",
   "execution_count": null,
   "metadata": {},
   "outputs": [],
   "source": [
    "df_all_r2 = pd.concat(all_r2)\n",
    "df_all_r2.head(10)"
   ]
  },
  {
   "cell_type": "code",
   "execution_count": null,
   "metadata": {},
   "outputs": [],
   "source": [
    "df_all_r2.groupby([\"scenario\", \"model\"]).mean()"
   ]
  },
  {
   "cell_type": "code",
   "execution_count": null,
   "metadata": {},
   "outputs": [],
   "source": [
    "df_all_r2.groupby([\"scenario\", \"model\"]).std()"
   ]
  }
 ],
 "metadata": {
  "kernelspec": {
   "display_name": ".shapley_fda_experiments",
   "language": "python",
   "name": "python3"
  },
  "language_info": {
   "codemirror_mode": {
    "name": "ipython",
    "version": 3
   },
   "file_extension": ".py",
   "mimetype": "text/x-python",
   "name": "python",
   "nbconvert_exporter": "python",
   "pygments_lexer": "ipython3",
   "version": "3.9.17"
  }
 },
 "nbformat": 4,
 "nbformat_minor": 2
}
