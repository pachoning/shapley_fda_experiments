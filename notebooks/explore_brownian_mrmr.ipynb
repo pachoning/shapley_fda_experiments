{
 "cells": [
  {
   "cell_type": "markdown",
   "metadata": {},
   "source": [
    "# Load libraries"
   ]
  },
  {
   "cell_type": "code",
   "execution_count": null,
   "metadata": {},
   "outputs": [],
   "source": [
    "%load_ext autoreload\n",
    "%autoreload 2\n",
    "from images import images_path\n",
    "from utils.simulator import FdaSimulator\n",
    "import matplotlib.pyplot as plt\n",
    "import numpy as np\n",
    "import os"
   ]
  },
  {
   "cell_type": "markdown",
   "metadata": {},
   "source": [
    "# Generate the data"
   ]
  },
  {
   "cell_type": "code",
   "execution_count": null,
   "metadata": {},
   "outputs": [],
   "source": [
    "fda_simulator = FdaSimulator()\n",
    "domain_range = fda_simulator.domain_range\n",
    "abscissa_points = fda_simulator.abscissa_points"
   ]
  },
  {
   "cell_type": "code",
   "execution_count": null,
   "metadata": {},
   "outputs": [],
   "source": [
    "# Prepare some global parameters used to generate data\n",
    "cnt = 30\n",
    "alpha_p =  1 * cnt\n",
    "beta_p = 3 * cnt\n",
    "positions = [0.15, 0.35, 0.55, 0.85]\n",
    "n_basis_simulated_data = 31\n",
    "\n",
    "np.random.seed(1234)\n",
    "X_cov, phi_X, epsilon, beta_data, col_indexes_bct, target_gen = fda_simulator.simulate(\n",
    "    type_covariate=\"brownian_trend\",\n",
    "    type_transformation=\"linear_unimodal\",\n",
    "    sample_size=200,\n",
    "    eta=0.05,\n",
    "    datasets_type = [\"train\"],\n",
    "    # Series representation\n",
    "    n_basis_simulated_data=n_basis_simulated_data,\n",
    "    sd_x=0.01,\n",
    "    # Beta parameters\n",
    "    alpha_param=alpha_p,\n",
    "    beta_param=beta_p,\n",
    "    # Brownian parameters\n",
    "    intercept_brownian=0,\n",
    "    slope_brownian=1,\n",
    "    positions=positions\n",
    ")"
   ]
  },
  {
   "cell_type": "markdown",
   "metadata": {},
   "source": [
    "# Analyse mRMR"
   ]
  },
  {
   "cell_type": "code",
   "execution_count": null,
   "metadata": {},
   "outputs": [],
   "source": [
    "X = X_cov[0]\n",
    "target = target_gen[0]\n",
    "domain_range = fda_simulator.domain_range\n",
    "verbose = False\n",
    "num_permutations = 1\n",
    "predict_fns = None\n",
    "labels_fns = None\n",
    "num_intervals = 20\n",
    "intervals = None\n",
    "seed = None\n",
    "compute_mrmr_distance_correlation = True\n",
    "ini_domain_range = domain_range[0]\n",
    "end_domain_range = domain_range[1]\n",
    "long_domain_range = end_domain_range - ini_domain_range"
   ]
  },
  {
   "cell_type": "code",
   "execution_count": null,
   "metadata": {},
   "outputs": [],
   "source": [
    "X[:4, :4]"
   ]
  },
  {
   "cell_type": "code",
   "execution_count": null,
   "metadata": {},
   "outputs": [],
   "source": [
    "s = plt.plot(X.T)"
   ]
  },
  {
   "cell_type": "code",
   "execution_count": null,
   "metadata": {},
   "outputs": [],
   "source": [
    "col_mean = np.mean(X, axis=0)\n",
    "col_std = np.std(X, axis=0)\n",
    "X_c =np.empty(shape=X.shape)\n",
    "n_col = X.shape[1]\n",
    "for i_col in range(n_col):\n",
    "    X_c[:, i_col] = (X[:, i_col] - col_mean[i_col])/col_std[i_col]"
   ]
  },
  {
   "cell_type": "code",
   "execution_count": null,
   "metadata": {},
   "outputs": [],
   "source": [
    "s = plt.plot(X_c[:20, :20].T)"
   ]
  },
  {
   "cell_type": "code",
   "execution_count": null,
   "metadata": {},
   "outputs": [],
   "source": [
    "s = plt.plot(X_c[:20, 80:100].T)"
   ]
  },
  {
   "cell_type": "code",
   "execution_count": null,
   "metadata": {},
   "outputs": [],
   "source": [
    "intervals_lower_bound = np.array(\n",
    "    [ini_domain_range + i * long_domain_range/num_intervals for i in range(num_intervals)]\n",
    ")\n",
    "intervals_upper_bound = np.array(\n",
    "    [ini_domain_range + (i + 1) * long_domain_range/num_intervals for i in range(num_intervals)]\n",
    ")\n",
    "intervals = np.stack((intervals_lower_bound, intervals_upper_bound), axis=1)\n",
    "set_intervals = intervals.copy()\n",
    "set_intervals_shape = set_intervals.shape\n",
    "map_object = np.full(shape=abscissa_points.shape, fill_value=1, dtype=int)\n",
    "num_intervals = set_intervals_shape[0]\n",
    "last_end_interval = set_intervals[num_intervals-1, 1]\n",
    "i_abscissa = 0\n",
    "for abscissa in abscissa_points:\n",
    "    if(np.abs(abscissa - last_end_interval) < 1e-7):\n",
    "        interval_position = num_intervals - 1\n",
    "    else:\n",
    "        interval_position = np.ravel(np.argwhere((abscissa >= set_intervals[:, 0]) & (abscissa < set_intervals[:, 1])))\n",
    "        interval_position = interval_position[0]\n",
    "    map_object[i_abscissa] = interval_position\n",
    "    i_abscissa += 1\n",
    "middle_points = [(x[0] + x[1])/2 for x in intervals]"
   ]
  },
  {
   "cell_type": "code",
   "execution_count": null,
   "metadata": {},
   "outputs": [],
   "source": [
    "m_list = []\n",
    "redd_list = []\n",
    "rell_list = []\n",
    "for i_num_interval in range(num_intervals):\n",
    "    desired_intervals = [i_num_interval]\n",
    "    x_data = []\n",
    "    num_cols = 0\n",
    "    for i_interval in desired_intervals:\n",
    "        position = np.argwhere(map_object == i_interval)\n",
    "        f_i_interval = np.squeeze(X_c[:, position])\n",
    "        #f_i_interval = np.squeeze(X[:, position])\n",
    "        num_cols = num_cols + f_i_interval.shape[1]\n",
    "        x_data.append(f_i_interval)\n",
    "    f_available_abscissa = np.column_stack(x_data)\n",
    "    corr_cef = np.corrcoef(f_available_abscissa, rowvar=False)\n",
    "    redundancy = np.mean(np.abs(corr_cef))\n",
    "    relevance_matrix = np.corrcoef(f_available_abscissa, target, rowvar=False)\n",
    "    relevance = np.mean(np.abs(relevance_matrix[:, -1]))\n",
    "    metric = relevance/redundancy\n",
    "    m_list.append(metric)\n",
    "    redd_list.append(redundancy)\n",
    "    rell_list.append(relevance)\n"
   ]
  },
  {
   "cell_type": "code",
   "execution_count": null,
   "metadata": {},
   "outputs": [],
   "source": []
  },
  {
   "cell_type": "code",
   "execution_count": null,
   "metadata": {},
   "outputs": [],
   "source": [
    "fig, ax =  plt.subplots(1)\n",
    "plt.plot(middle_points, redd_list, \"o\")\n",
    "ax.tick_params(axis='x', labelsize=18)\n",
    "ax.tick_params(axis='y', labelsize=18)\n",
    "ax.set_xlabel(r\"$t$\", fontsize=18)\n",
    "ax.set_ylabel(r\"$\\text{Red}$\", fontsize=18)\n",
    "plt.savefig(os.path.join(images_path, \"redundancy_brownian.pdf\"), format=\"pdf\", bbox_inches=\"tight\")"
   ]
  },
  {
   "cell_type": "code",
   "execution_count": null,
   "metadata": {},
   "outputs": [],
   "source": [
    "plt.plot(m_list)"
   ]
  },
  {
   "cell_type": "code",
   "execution_count": null,
   "metadata": {},
   "outputs": [],
   "source": [
    "final_list = []\n",
    "relevance_list = []\n",
    "redundancy_list = []\n",
    "\n",
    "for num_1 in range(num_intervals):\n",
    "    metric_list = []\n",
    "    rel_list = []\n",
    "    red_list = []\n",
    "    for num_2 in range(num_intervals):\n",
    "        if num_1 != num_2:\n",
    "            desired_intervals = [num_1, num_2]\n",
    "            x_data = []\n",
    "            num_cols = 0\n",
    "            for i_interval in desired_intervals:\n",
    "                position = np.argwhere(map_object == i_interval)\n",
    "                f_i_interval = np.squeeze(X[:, position])\n",
    "                num_cols = num_cols + f_i_interval.shape[1]\n",
    "                x_data.append(f_i_interval)\n",
    "            f_available_abscissa = np.column_stack(x_data)\n",
    "            corr_cef = np.corrcoef(f_available_abscissa, rowvar=False)\n",
    "            redundancy = np.mean(np.abs(corr_cef))\n",
    "            relevance_matrix = np.corrcoef(f_available_abscissa, target, rowvar=False)\n",
    "            relevance = np.mean(np.abs(relevance_matrix[:-1, -1]))\n",
    "            metric = relevance/redundancy\n",
    "            metric_list.append(metric)\n",
    "            rel_list.append(relevance)\n",
    "            red_list.append(redundancy)\n",
    "    final_list.append(np.mean(metric_list))\n",
    "    relevance_list.append(np.mean(rel_list))\n",
    "    redundancy_list.append(np.mean(red_list))"
   ]
  },
  {
   "cell_type": "code",
   "execution_count": null,
   "metadata": {},
   "outputs": [],
   "source": [
    "plt.plot(relevance_list)"
   ]
  },
  {
   "cell_type": "code",
   "execution_count": null,
   "metadata": {},
   "outputs": [],
   "source": [
    "plt.plot(redundancy_list)"
   ]
  },
  {
   "cell_type": "code",
   "execution_count": null,
   "metadata": {},
   "outputs": [],
   "source": [
    "plt.plot(final_list)"
   ]
  },
  {
   "cell_type": "code",
   "execution_count": null,
   "metadata": {},
   "outputs": [],
   "source": [
    "print(rell_list)\n",
    "print(relevance_list)\n",
    "\n",
    "print(redd_list)\n",
    "print(redundancy_list)\n",
    "\n",
    "print(m_list)\n",
    "print(final_list)"
   ]
  },
  {
   "cell_type": "code",
   "execution_count": null,
   "metadata": {},
   "outputs": [],
   "source": [
    "#x_min = [x[0] for x in intervals]\n",
    "#x_max = [x[1] for x in intervals]\n",
    "#plt.hlines(\n",
    "#    metric_list,\n",
    "#    x_min,\n",
    "#    x_max,\n",
    "#    linewidth=3,\n",
    "#)\n",
    "#plt.step(\n",
    "#    x_min,\n",
    "#    metric_list,\n",
    "#    where=\"post\",\n",
    "#    linestyle=(0, (1, 5)),\n",
    "#)"
   ]
  }
 ],
 "metadata": {
  "kernelspec": {
   "display_name": ".shapley_fda_experiments",
   "language": "python",
   "name": "python3"
  },
  "language_info": {
   "codemirror_mode": {
    "name": "ipython",
    "version": 3
   },
   "file_extension": ".py",
   "mimetype": "text/x-python",
   "name": "python",
   "nbconvert_exporter": "python",
   "pygments_lexer": "ipython3",
   "version": "3.9.17"
  }
 },
 "nbformat": 4,
 "nbformat_minor": 2
}
