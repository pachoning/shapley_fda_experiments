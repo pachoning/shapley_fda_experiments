{
 "cells": [
  {
   "cell_type": "code",
   "execution_count": 37,
   "metadata": {},
   "outputs": [],
   "source": [
    "import os\n",
    "import shutil"
   ]
  },
  {
   "cell_type": "code",
   "execution_count": 42,
   "metadata": {},
   "outputs": [],
   "source": [
    "data_path = \"/Users/cristianpachon/Documents/technical/shapley_fda_experiments/data_20241007\"\n",
    "data_origin = \"/Users/cristianpachon/Documents/technical/shapley_fda_experiments/data_all_scenarios\"\n",
    "data_missing = \"/Users/cristianpachon/Documents/technical/shapley_fda_experiments/data_missing\"\n",
    "output_data_path = os.path.join(data_path, \"output\")"
   ]
  },
  {
   "cell_type": "code",
   "execution_count": 43,
   "metadata": {},
   "outputs": [],
   "source": [
    "scenarios_list = [x for x in os.listdir(output_data_path) if x != \".DS_Store\"]\n",
    "missing_simulations = {}\n",
    "for scenario_name in scenarios_list:\n",
    "    current_scenario_path = os.path.join(output_data_path, scenario_name)\n",
    "    shapley_files_current_scenario = [\n",
    "        x for x in os.listdir(current_scenario_path) if \"shapley\" in x\n",
    "    ]\n",
    "    for i_sim in range(100):\n",
    "        shapley_name = f\"shapley_{i_sim}.pkl\"\n",
    "        if not shapley_name in shapley_files_current_scenario:\n",
    "            if scenario_name in missing_simulations.keys():\n",
    "                missing_simulations[scenario_name].append(shapley_name)\n",
    "            else:\n",
    "                missing_simulations[scenario_name] = [shapley_name]"
   ]
  },
  {
   "cell_type": "code",
   "execution_count": 44,
   "metadata": {},
   "outputs": [],
   "source": [
    "for scenario in missing_simulations.keys():\n",
    "    dest_path = os.path.join(data_missing, scenario)\n",
    "    if not scenario in os.listdir(data_missing):\n",
    "        os.makedirs(dest_path)\n",
    "    for shapley_file in missing_simulations[scenario]:\n",
    "        num_sm = int(shapley_file[8:-4])\n",
    "        origin_path = os.path.join(data_origin, scenario)\n",
    "        files_to_copy = [\n",
    "            f\"col_indexes_ld_test_{num_sm}.pkl\",\n",
    "            f\"col_indexes_ld_train_{num_sm}.pkl\",\n",
    "            f\"col_indexes_ld_validation_{num_sm}.pkl\",\n",
    "            f\"target_sim_test_{num_sm}.csv\",\n",
    "            f\"target_sim_train_{num_sm}.csv\",\n",
    "            f\"target_sim_validation_{num_sm}.csv\",\n",
    "            f\"X_sim_test_{num_sm}.csv\",\n",
    "            f\"X_sim_train_{num_sm}.csv\",\n",
    "            f\"X_sim_validation_{num_sm}.csv\",\n",
    "        ]\n",
    "        for file in files_to_copy:\n",
    "            origin_file = os.path.join(origin_path, file)\n",
    "            dest_file = os.path.join(dest_path, file)\n",
    "            shutil.copyfile(origin_file, dest_file)"
   ]
  }
 ],
 "metadata": {
  "kernelspec": {
   "display_name": ".shapley_fda_experiments",
   "language": "python",
   "name": "python3"
  },
  "language_info": {
   "codemirror_mode": {
    "name": "ipython",
    "version": 3
   },
   "file_extension": ".py",
   "mimetype": "text/x-python",
   "name": "python",
   "nbconvert_exporter": "python",
   "pygments_lexer": "ipython3",
   "version": "3.9.17"
  }
 },
 "nbformat": 4,
 "nbformat_minor": 2
}
