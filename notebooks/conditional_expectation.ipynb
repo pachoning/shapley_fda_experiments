{
 "cells": [
  {
   "cell_type": "code",
   "execution_count": null,
   "metadata": {},
   "outputs": [],
   "source": [
    "%load_ext autoreload\n",
    "%autoreload 2\n",
    "import numpy as np"
   ]
  },
  {
   "cell_type": "code",
   "execution_count": null,
   "metadata": {},
   "outputs": [],
   "source": [
    "np.random.seed(1234)\n",
    "X = np.random.normal(size=(100, 5))\n",
    "var_matrix = np.cov(X, rowvar=False)\n",
    "X_1 = X[:, :2]\n",
    "X_2 = X[:, 2:]\n",
    "var_matrix_11 = var_matrix[:2, :2]\n",
    "var_matrix_12 = var_matrix[:2, 2:]\n",
    "var_matrix_21 = var_matrix[2:, :2]\n",
    "var_matrix_22 = var_matrix[2:, 2:]\n",
    "var_matrix_22_inv = np.linalg.inv(var_matrix_22)\n",
    "mean_1 = np.reshape(np.mean(X_1, axis=0), newshape=(-1, 1))\n",
    "mean_2 = np.reshape(np.mean(X_2, axis=0), newshape=(-1, 1))\n",
    "total_ind = X.shape[0]"
   ]
  },
  {
   "cell_type": "code",
   "execution_count": null,
   "metadata": {},
   "outputs": [],
   "source": [
    "cond_exp = np.full(shape=(X.shape[0], X_1.shape[1]), fill_value=np.nan)\n",
    "for i in range(total_ind):\n",
    "    x_2_i = np.reshape(X_2[i, :], newshape=(-1, 1))\n",
    "    value = np.add(\n",
    "        mean_1,\n",
    "        np.matmul(\n",
    "            np.matmul(var_matrix_12, var_matrix_22_inv),\n",
    "            np.subtract(x_2_i, mean_2)\n",
    "        )\n",
    "    )\n",
    "    cond_exp[i, :] = value[:, 0]"
   ]
  },
  {
   "cell_type": "code",
   "execution_count": null,
   "metadata": {},
   "outputs": [],
   "source": [
    "ones_vector = np.full(shape=(X.shape[0], 1), fill_value=1)\n",
    "cond_exp_2 = np.add(\n",
    "    np.matmul(ones_vector, mean_1.T),\n",
    "    np.matmul(\n",
    "        np.subtract(\n",
    "            X_2,\n",
    "            np.matmul(ones_vector, mean_2.T)\n",
    "        ),\n",
    "        np.matmul(\n",
    "            var_matrix_22_inv,\n",
    "            var_matrix_12.T\n",
    "        ),\n",
    "    )\n",
    ")"
   ]
  },
  {
   "cell_type": "code",
   "execution_count": null,
   "metadata": {},
   "outputs": [],
   "source": [
    "diff_abs = np.abs(np.subtract(cond_exp, cond_exp_2))\n",
    "np.max(diff_abs)"
   ]
  }
 ],
 "metadata": {
  "kernelspec": {
   "display_name": ".shapley_fda_experiments",
   "language": "python",
   "name": "python3"
  },
  "language_info": {
   "codemirror_mode": {
    "name": "ipython",
    "version": 3
   },
   "file_extension": ".py",
   "mimetype": "text/x-python",
   "name": "python",
   "nbconvert_exporter": "python",
   "pygments_lexer": "ipython3",
   "version": "3.9.17"
  }
 },
 "nbformat": 4,
 "nbformat_minor": 2
}
