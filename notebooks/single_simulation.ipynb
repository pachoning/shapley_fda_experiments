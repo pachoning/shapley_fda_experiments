{
 "cells": [
  {
   "cell_type": "markdown",
   "metadata": {},
   "source": [
    "# Load libraries and utils"
   ]
  },
  {
   "cell_type": "code",
   "execution_count": null,
   "metadata": {},
   "outputs": [],
   "source": [
    "%load_ext autoreload\n",
    "%autoreload 2\n",
    "from hyperopt.fnn import HyperOptFnn\n",
    "from hyperopt.sklearn_gridsearch import HyperOptScikitFda\n",
    "from images import images_path\n",
    "from shapley.shapley_fda import ShapleyFda\n",
    "from skfda.ml.regression import KNeighborsRegressor, LinearRegression\n",
    "from skfda.representation.basis import BSplineBasis\n",
    "from utils.simulator import FdaSimulator\n",
    "from utils.utils_workflow import predict_no_verbose, predict_np_reshape\n",
    "import keras_tuner\n",
    "import matplotlib.pyplot as plt\n",
    "import numpy as np\n",
    "import os"
   ]
  },
  {
   "cell_type": "code",
   "execution_count": null,
   "metadata": {},
   "outputs": [],
   "source": [
    "fda_simulator = FdaSimulator()\n",
    "domain_range = fda_simulator.domain_range"
   ]
  },
  {
   "cell_type": "markdown",
   "metadata": {},
   "source": [
    "# Create data"
   ]
  },
  {
   "cell_type": "code",
   "execution_count": null,
   "metadata": {},
   "outputs": [],
   "source": [
    "# Prepare some global parameters used to generate data\n",
    "cnt = 30\n",
    "alpha_p =  1 * cnt\n",
    "beta_p = 3 * cnt\n",
    "positions = [0.15, 0.35, 0.55, 0.85]\n",
    "n_basis_simulated_data = 31\n",
    "\n",
    "X, phi_X, epsilon, beta_data, col_indexes_bct, target = fda_simulator.simulate(\n",
    "    #type_covariate=\"fourier_expansion\",\n",
    "    #type_transformation=\"linear_unimodal\",\n",
    "    type_covariate=\"brownian_trend\",\n",
    "    type_transformation=\"linear_unimodal\",\n",
    "    sample_size=200,\n",
    "    eta=0.05,\n",
    "    datasets_type = [\"train\", \"validation\", \"test\"],\n",
    "    # Series representation\n",
    "    n_basis_simulated_data=n_basis_simulated_data,\n",
    "    sd_x=0.01,\n",
    "    # Beta parameters\n",
    "    alpha_param=alpha_p,\n",
    "    beta_param=beta_p,\n",
    "    # Brownian parameters\n",
    "    intercept_brownian=0,\n",
    "    slope_brownian=1,\n",
    "    positions=positions\n",
    ")"
   ]
  },
  {
   "cell_type": "code",
   "execution_count": null,
   "metadata": {},
   "outputs": [],
   "source": [
    "X_train, X_validation, X_test = X\n",
    "X_full = np.row_stack((X_train, X_validation))\n",
    "\n",
    "target_train, target_validation, target_test = target\n",
    "target_full = np.row_stack((target_train, target_validation))\n",
    "\n",
    "beta_train, beta_validation, beta_test = beta_data\n",
    "epsilon_train, epsilon_validation, epsilon_test = epsilon\n",
    "\n",
    "X_train_grid = fda_simulator.to_fdata_grid(X_train)\n",
    "X_validation_grid = fda_simulator.to_fdata_grid(X_validation)\n",
    "X_test_grid = fda_simulator.to_fdata_grid(X_test)\n",
    "X_full_grid = fda_simulator.to_fdata_grid(X_full)\n",
    "zzz = X_full_grid.plot()\n",
    "if False:\n",
    "    plt.savefig(os.path.join(images_path, \"scenario_1_covariate.eps\"), format=\"eps\")\n",
    "    plt.savefig(os.path.join(images_path, \"scenario_1_covariate.pdf\"), format=\"pdf\")"
   ]
  },
  {
   "cell_type": "code",
   "execution_count": null,
   "metadata": {},
   "outputs": [],
   "source": [
    "phi_train, phi_validation, phi_test = phi_X"
   ]
  },
  {
   "cell_type": "code",
   "execution_count": null,
   "metadata": {},
   "outputs": [],
   "source": [
    "np.var(epsilon_train)/(np.var(phi_train) + np.var(epsilon_train))"
   ]
  },
  {
   "cell_type": "code",
   "execution_count": null,
   "metadata": {},
   "outputs": [],
   "source": [
    "if not beta_train is None:\n",
    "    beta_data_grid = fda_simulator.to_fdata_grid(beta_train)\n",
    "    plt.plot(\n",
    "        fda_simulator.abscissa_points,\n",
    "        np.reshape(beta_train, newshape=(1, -1))[0], '-'\n",
    "    )"
   ]
  },
  {
   "cell_type": "markdown",
   "metadata": {},
   "source": [
    "# Linear model"
   ]
  },
  {
   "cell_type": "code",
   "execution_count": null,
   "metadata": {},
   "outputs": [],
   "source": [
    "hyperopt_lm = HyperOptScikitFda(\n",
    "    LinearRegression,\n",
    "    abscissa_points=fda_simulator.abscissa_points,\n",
    "    domain_range=fda_simulator.domain_range,\n",
    ")\n",
    "n_basis_list = list(range(4, 30, 1))\n",
    "hist_lm = hyperopt_lm.search(\n",
    "    X_train=X_train,\n",
    "    y_train=target_train[:, 0],\n",
    "    X_val=X_validation,\n",
    "    y_val=target_validation[:, 0],\n",
    "    basis=BSplineBasis,\n",
    "    n_basis_list=n_basis_list,\n",
    ")\n",
    "best_score_lm_list = [x.best_score_ for x in hist_lm]\n",
    "position_best_score_lm = np.argmax(best_score_lm_list)\n",
    "best_n_basis_lm = n_basis_list[position_best_score_lm]\n",
    "best_params_lm = hist_lm[position_best_score_lm].best_params_\n",
    "best_model_lm = hyperopt_lm.cls_estimator(**best_params_lm)"
   ]
  },
  {
   "cell_type": "code",
   "execution_count": null,
   "metadata": {},
   "outputs": [],
   "source": [
    "best_basis_lm = BSplineBasis(\n",
    "    n_basis=best_n_basis_lm,\n",
    "    domain_range=domain_range,\n",
    ")\n",
    "X_full_bspline = X_full_grid.to_basis(best_basis_lm)\n",
    "X_test_bspline = X_test_grid.to_basis(best_basis_lm)"
   ]
  },
  {
   "cell_type": "code",
   "execution_count": null,
   "metadata": {},
   "outputs": [],
   "source": [
    "_ = best_model_lm.fit(X_full_bspline, target_full[:, 0])"
   ]
  },
  {
   "cell_type": "code",
   "execution_count": null,
   "metadata": {},
   "outputs": [],
   "source": [
    "# Transform predict function to use a numpy array as input\n",
    "predict_best_model_lm = predict_np_reshape(\n",
    "    grid_points=fda_simulator.abscissa_points,\n",
    "    domain_range=fda_simulator.domain_range,\n",
    "    basis=X_full_bspline.basis,\n",
    "    predict_fn=best_model_lm.predict\n",
    ")"
   ]
  },
  {
   "cell_type": "code",
   "execution_count": null,
   "metadata": {},
   "outputs": [],
   "source": [
    "predictions_lm = predict_best_model_lm(X_test)\n",
    "plt.scatter(predictions_lm, target_test)"
   ]
  },
  {
   "cell_type": "code",
   "execution_count": null,
   "metadata": {},
   "outputs": [],
   "source": [
    "zzz = best_model_lm.coef_[0].plot()"
   ]
  },
  {
   "cell_type": "markdown",
   "metadata": {},
   "source": [
    "# Knn model"
   ]
  },
  {
   "cell_type": "code",
   "execution_count": null,
   "metadata": {},
   "outputs": [],
   "source": [
    "hyperopt_knn = HyperOptScikitFda(\n",
    "    KNeighborsRegressor,\n",
    "    abscissa_points=fda_simulator.abscissa_points,\n",
    "    domain_range=domain_range,\n",
    ")\n",
    "hist_knn = hyperopt_knn.search(\n",
    "    params={\"n_neighbors\": range(3, 30, 1)},\n",
    "    X_train=X_train,\n",
    "    y_train=target_train,\n",
    "    X_val=X_validation,\n",
    "    y_val=target_validation\n",
    ")\n",
    "best_score_knn_list = [x.best_score_ for x in hist_knn]\n",
    "position_best_score_knn = np.argmax(best_score_knn_list)\n",
    "best_params_knn = hist_knn[position_best_score_knn].best_params_\n",
    "best_model_knn = hyperopt_knn.cls_estimator(**best_params_knn)\n",
    "_ = best_model_knn.fit(X_full, target_full)"
   ]
  },
  {
   "cell_type": "code",
   "execution_count": null,
   "metadata": {},
   "outputs": [],
   "source": [
    "predictions_knn = best_model_knn.predict(X_test)\n",
    "plt.scatter(predictions_knn, target_test)"
   ]
  },
  {
   "cell_type": "markdown",
   "metadata": {},
   "source": [
    "# Neural network"
   ]
  },
  {
   "cell_type": "code",
   "execution_count": null,
   "metadata": {},
   "outputs": [],
   "source": [
    "hyperopt_fnn = HyperOptFnn(\n",
    "    input_shape=(X_train.shape[1], 1),\n",
    "    resolution=X_train.shape[1]\n",
    ")\n",
    "\n",
    "tuner_fnn = keras_tuner.RandomSearch(\n",
    "    hyperopt_fnn,\n",
    "    objective=\"val_loss\",\n",
    "    max_trials=20,\n",
    "    #max_trials=1,\n",
    "    overwrite=True,\n",
    "    directory=\".\",\n",
    "    project_name=\"tune_hypermodel\",\n",
    ")\n",
    "\n",
    "tuner_fnn.search(\n",
    "    X_train,\n",
    "    target_train,\n",
    "    validation_data=(X_validation, target_validation),\n",
    "    verbose=False,\n",
    ")"
   ]
  },
  {
   "cell_type": "code",
   "execution_count": null,
   "metadata": {},
   "outputs": [],
   "source": [
    "# Data of the best fnn model\n",
    "best_params_fnn = tuner_fnn.get_best_hyperparameters()[0]\n",
    "best_epochs_fnn = best_params_fnn.get(\"epochs\")\n",
    "best_batch_size_fnn = best_params_fnn.get(\"batch_size\")\n",
    "print(\"best_epochs_fnn:\", best_epochs_fnn)\n",
    "print(\"best_batch_size_fnn:\", best_batch_size_fnn)\n",
    "tuner_fnn.get_best_models(1)[0].summary()"
   ]
  },
  {
   "cell_type": "code",
   "execution_count": null,
   "metadata": {},
   "outputs": [],
   "source": [
    "hyperopt_best_fnn = HyperOptFnn(\n",
    "    input_shape=(X_train.shape[1], 1),\n",
    "    resolution=X_train.shape[1]\n",
    ")\n",
    "best_model_fnn = hyperopt_best_fnn.build(best_params_fnn)\n",
    "history_best_fnn = hyperopt_best_fnn.fit(\n",
    "    hp=best_params_fnn,\n",
    "    model=best_model_fnn,\n",
    "    X=X_full,\n",
    "    y=target_full,\n",
    "    epochs=best_epochs_fnn,\n",
    "    batch_size=best_batch_size_fnn,\n",
    "    verbose=False\n",
    ")"
   ]
  },
  {
   "cell_type": "code",
   "execution_count": null,
   "metadata": {},
   "outputs": [],
   "source": [
    "best_model_fnn.summary()"
   ]
  },
  {
   "cell_type": "code",
   "execution_count": null,
   "metadata": {},
   "outputs": [],
   "source": [
    "predict_best_model_fnn = predict_no_verbose(best_model_fnn.predict)"
   ]
  },
  {
   "cell_type": "code",
   "execution_count": null,
   "metadata": {},
   "outputs": [],
   "source": [
    "predictions_fnn = predict_best_model_fnn(X_test)\n",
    "plt.scatter(predictions_fnn, target_test)"
   ]
  },
  {
   "cell_type": "markdown",
   "metadata": {},
   "source": [
    "# Shapley values"
   ]
  },
  {
   "cell_type": "code",
   "execution_count": null,
   "metadata": {},
   "outputs": [],
   "source": [
    "#num_permutations = 1000\n",
    "num_permutations = 10\n",
    "#num_intervals = 20\n",
    "num_intervals = 4"
   ]
  },
  {
   "cell_type": "code",
   "execution_count": null,
   "metadata": {},
   "outputs": [],
   "source": [
    "shapley_fda_knn = ShapleyFda(\n",
    "    X=X_test,\n",
    "    abscissa_points=fda_simulator.abscissa_points,\n",
    "    target=target_test,\n",
    "    domain_range=fda_simulator.domain_range,\n",
    "    verbose=False,\n",
    ")\n",
    "\n",
    "shapley_values = shapley_fda_knn.compute_shapley_value(\n",
    "    num_permutations=num_permutations,\n",
    "    predict_fns=[predict_best_model_lm, best_model_knn.predict, predict_best_model_fnn],\n",
    "    labels_fns=[\"lm\", \"knn\", \"fnn\"],\n",
    "    num_intervals=num_intervals,\n",
    ")"
   ]
  },
  {
   "cell_type": "code",
   "execution_count": null,
   "metadata": {},
   "outputs": [],
   "source": [
    "shapley_fda_knn.plot()"
   ]
  }
 ],
 "metadata": {
  "kernelspec": {
   "display_name": ".shapley_fda_experiments",
   "language": "python",
   "name": "python3"
  },
  "language_info": {
   "codemirror_mode": {
    "name": "ipython",
    "version": 3
   },
   "file_extension": ".py",
   "mimetype": "text/x-python",
   "name": "python",
   "nbconvert_exporter": "python",
   "pygments_lexer": "ipython3",
   "version": "3.9.17"
  }
 },
 "nbformat": 4,
 "nbformat_minor": 2
}
