{
 "cells": [
  {
   "cell_type": "code",
   "execution_count": null,
   "metadata": {},
   "outputs": [],
   "source": [
    "%load_ext autoreload\n",
    "%autoreload 2\n",
    "from hyperopt.fnn import HyperOptFnn\n",
    "from hyperopt.sklearn_gridsearch import HyperOptScikitFda\n",
    "from shapley.shapley_fda import ShapleyFda\n",
    "from skfda.misc.operators import LinearDifferentialOperator\n",
    "from skfda.misc.regularization import L2Regularization\n",
    "from skfda.ml.regression import KNeighborsRegressor, LinearRegression\n",
    "from skfda.representation.basis import FDataBasis, BSplineBasis\n",
    "from skfda.representation.grid import FDataGrid\n",
    "from utils.predict_np import predict_from_np\n",
    "from utils.simulator import FdaSimulator\n",
    "import matplotlib.pyplot as plt\n",
    "import numpy as np"
   ]
  },
  {
   "cell_type": "code",
   "execution_count": null,
   "metadata": {},
   "outputs": [],
   "source": [
    "n_basis_representation = 10\n",
    "basis_bsplines = BSplineBasis(\n",
    "    n_basis=n_basis_representation,\n",
    "    domain_range=(0 ,1)\n",
    ")"
   ]
  },
  {
   "cell_type": "code",
   "execution_count": null,
   "metadata": {},
   "outputs": [],
   "source": [
    "fda_simulator = FdaSimulator()"
   ]
  },
  {
   "cell_type": "code",
   "execution_count": null,
   "metadata": {},
   "outputs": [],
   "source": [
    "# Prepare some global parameters used to generate data\n",
    "cnt = 30\n",
    "alpha_p =  1 * cnt\n",
    "beta_p = 3 * cnt\n",
    "positions = [0.15, 0.35, 0.55, 0.85]\n",
    "n_basis_simulated_data = 11\n",
    "\n",
    "X, phi_X, epsilon, beta_data, col_indexes_bct, target = fda_simulator.simulate(\n",
    "    type_covariate=\"fourier_expansion\",\n",
    "    type_transformation=\"linear_bimodal\",\n",
    "    sample_size=200,\n",
    "    eta=0.05,\n",
    "    datasets_type = [\"train\", \"validation\", \"test\"],\n",
    "    # Series representation\n",
    "    n_basis_simulated_data=n_basis_simulated_data,\n",
    "    sd_x=0.01,\n",
    "    # Beta parameters\n",
    "    alpha_param=alpha_p,\n",
    "    beta_param=beta_p,\n",
    "    # Brownian parameters\n",
    "    intercept_brownian=0,\n",
    "    slope_brownian=1,\n",
    "    positions=positions\n",
    ")"
   ]
  },
  {
   "cell_type": "code",
   "execution_count": null,
   "metadata": {},
   "outputs": [],
   "source": [
    "X_train, X_validation, X_test = X\n",
    "X_full = np.row_stack((X_train, X_validation))\n",
    "\n",
    "target_train, target_validation, target_test = target\n",
    "target_full = np.row_stack((target_train, target_validation))\n",
    "\n",
    "beta_train, beta_validation, beta_test = beta_data\n",
    "\n",
    "X_train_grid = fda_simulator.to_fdata_grid(X_train)\n",
    "X_validation_grid = fda_simulator.to_fdata_grid(X_validation)\n",
    "X_test_grid = fda_simulator.to_fdata_grid(X_test)\n",
    "X_full_grid = fda_simulator.to_fdata_grid(X_full)\n",
    "\n",
    "X_train_bspline = X_train_grid.to_basis(basis_bsplines)\n",
    "X_validation_bspline = X_validation_grid.to_basis(basis_bsplines)\n",
    "X_test_bspline = X_test_grid.to_basis(basis_bsplines)\n",
    "X_full_bspline = X_full_grid.to_basis(basis_bsplines)\n",
    "zzz = X_full_grid.plot()"
   ]
  },
  {
   "cell_type": "code",
   "execution_count": null,
   "metadata": {},
   "outputs": [],
   "source": [
    "if not beta_train is None:\n",
    "    beta_data_grid = fda_simulator.to_fdata_grid(beta_train)\n",
    "    plt.plot(\n",
    "        fda_simulator.abscissa_points,\n",
    "        np.reshape(beta_train, newshape=(1, -1))[0], '-o'\n",
    "    )"
   ]
  },
  {
   "cell_type": "markdown",
   "metadata": {},
   "source": [
    "# Linear model"
   ]
  },
  {
   "cell_type": "code",
   "execution_count": null,
   "metadata": {},
   "outputs": [],
   "source": [
    "def L2reg(lambda_value):\n",
    "    operator = L2Regularization(\n",
    "        linear_operator=LinearDifferentialOperator(2),\n",
    "        regularization_parameter=lambda_value\n",
    "    )\n",
    "    return operator"
   ]
  },
  {
   "cell_type": "code",
   "execution_count": null,
   "metadata": {},
   "outputs": [],
   "source": [
    "hyperopt_lm = HyperOptScikitFda(\n",
    "    LinearRegression,\n",
    "    abscissa_points=fda_simulator.abscissa_points,\n",
    "    domain_range=fda_simulator.domain_range,\n",
    ")\n",
    "reg_list = [L2reg(x) for x in np.arange(0.2, 1.5, 0.2)]\n",
    "reg_list.append(None)\n",
    "params_lm = {\n",
    "    \"regularization\": reg_list\n",
    "}\n",
    "hist_lm = hyperopt_lm.search(\n",
    "    params=params_lm,\n",
    "    X_train=X_train_bspline,\n",
    "    y_train=target_train[:, 0],\n",
    "    X_val=X_validation_bspline,\n",
    "    y_val=target_validation[:, 0]\n",
    ")"
   ]
  },
  {
   "cell_type": "code",
   "execution_count": null,
   "metadata": {},
   "outputs": [],
   "source": [
    "best_params_lm = hist_lm.best_params_\n",
    "print(best_params_lm)\n",
    "best_model_lm = hyperopt_lm.cls_estimator(**best_params_lm)"
   ]
  },
  {
   "cell_type": "code",
   "execution_count": null,
   "metadata": {},
   "outputs": [],
   "source": [
    "_ = best_model_lm.fit(X_full_bspline, target_full[:, 0])"
   ]
  },
  {
   "cell_type": "code",
   "execution_count": null,
   "metadata": {},
   "outputs": [],
   "source": [
    "num_intervals = 20\n",
    "num_permutations = 1000"
   ]
  },
  {
   "cell_type": "code",
   "execution_count": null,
   "metadata": {},
   "outputs": [],
   "source": [
    "# Transform predict function to use a numpy array as input\n",
    "pred_lm = predict_from_np(\n",
    "    grid_points=fda_simulator.abscissa_points,\n",
    "    domain_range=fda_simulator.domain_range,\n",
    "    basis=X_full_bspline.basis,\n",
    "    predict_fn=best_model_lm.predict\n",
    ")\n",
    "\n",
    "shapley_fda_lm = ShapleyFda(\n",
    "    predict_fn=pred_lm,\n",
    "    X=X_test,\n",
    "    abscissa_points=fda_simulator.abscissa_points,\n",
    "    target=target_test[:, 0],\n",
    "    domain_range=fda_simulator.domain_range,\n",
    "    verbose=False,\n",
    ")\n",
    "\n",
    "values_shapley_lm = shapley_fda_lm.compute_shapley_value(\n",
    "    num_intervals=num_intervals,\n",
    "    num_permutations=num_permutations,\n",
    "    seed=10,\n",
    ")\n",
    "shapley_fda_lm.plot()"
   ]
  },
  {
   "cell_type": "code",
   "execution_count": null,
   "metadata": {},
   "outputs": [],
   "source": [
    "#linear_reg_2 = LinearRegression()\n",
    "#_ = linear_reg_2.fit(X_full_bspline, target_full[:, 0])\n",
    "#pred_lm_2 = predict_from_np(\n",
    "#    grid_points=fda_simulator.abscissa_points,\n",
    "#    domain_range=fda_simulator.domain_range,\n",
    "#    basis=X_full_bspline.basis,\n",
    "#    predict_fn=linear_reg_2.predict\n",
    "#)\n",
    "#shapley_fda_lm_2 = ShapleyFda(\n",
    "#    predict_fn=pred_lm_2,\n",
    "#    X=X_test,\n",
    "#    abscissa_points=fda_simulator.abscissa_points,\n",
    "#    target=target_test[:, 0],\n",
    "#    domain_range=fda_simulator.domain_range,\n",
    "#    verbose=False,\n",
    "#)\n",
    "#values_shapley_lm_2 = shapley_fda_lm_2.compute_shapley_value(\n",
    "#    num_intervals=num_intervals,\n",
    "#    num_permutations=num_permutations,\n",
    "#    seed=10,\n",
    "#)\n",
    "#shapley_fda_lm_2.plot()"
   ]
  },
  {
   "cell_type": "markdown",
   "metadata": {},
   "source": [
    "# Knn"
   ]
  },
  {
   "cell_type": "code",
   "execution_count": null,
   "metadata": {},
   "outputs": [],
   "source": [
    "hyperopt_knn = HyperOptScikitFda(\n",
    "    KNeighborsRegressor,\n",
    "    abscissa_points=fda_simulator.abscissa_points,\n",
    "    domain_range=fda_simulator.domain_range,\n",
    ")\n",
    "\n",
    "hist_knn = hyperopt_knn.search(\n",
    "    params={\"n_neighbors\": range(3, 12, 2)},\n",
    "    X_train=X_train,\n",
    "    y_train=target_train,\n",
    "    X_val=X_validation,\n",
    "    y_val=target_validation\n",
    ")\n",
    "\n",
    "best_params_knn = hist_knn.best_params_\n",
    "print(best_params_knn)\n",
    "best_model_knn = hyperopt_knn.cls_estimator(**best_params_knn)\n",
    "_ = best_model_knn.fit(X_full, target_full)"
   ]
  },
  {
   "cell_type": "code",
   "execution_count": null,
   "metadata": {},
   "outputs": [],
   "source": [
    "shapley_fda_knn = ShapleyFda(\n",
    "    predict_fn=best_model_knn.predict,\n",
    "    X=X_test,\n",
    "    abscissa_points=fda_simulator.abscissa_points,\n",
    "    target=target_test,\n",
    "    domain_range=fda_simulator.domain_range,\n",
    "    verbose=False,\n",
    ")\n",
    "\n",
    "values_shapley_knn = shapley_fda_knn.compute_shapley_value(\n",
    "    num_intervals=num_intervals,\n",
    "    num_permutations=num_permutations,\n",
    ")\n",
    "shapley_fda_knn.plot()"
   ]
  },
  {
   "cell_type": "markdown",
   "metadata": {},
   "source": [
    "# Neural networks"
   ]
  },
  {
   "cell_type": "code",
   "execution_count": null,
   "metadata": {},
   "outputs": [],
   "source": [
    "def predict_no_verbose(predict_fn):\n",
    "    def inner(*args, **kwargs):\n",
    "        return predict_fn(*args, verbose=False, **kwargs)\n",
    "    return inner"
   ]
  },
  {
   "cell_type": "code",
   "execution_count": null,
   "metadata": {},
   "outputs": [],
   "source": [
    "hyperopt_fnn = HyperOptFnn(\n",
    "    input_shape=(X_train.shape[1], 1),\n",
    "    resolution=X_train.shape[1]\n",
    ")\n",
    "\n",
    "tuner_fnn = hyperopt_fnn.build_tuner(\n",
    "    objective=\"val_loss\",\n",
    "    max_trials=3,\n",
    "    overwrite=True,\n",
    "    directory=\".\",\n",
    "    project_name=\"tune_hypermodel\",\n",
    ")\n",
    "\n",
    "tuner_fnn.search(\n",
    "    X_train,\n",
    "    target_train,\n",
    "    epochs=10,\n",
    "    batch_size=32,\n",
    "    validation_data=(X_validation, target_validation)\n",
    ")"
   ]
  },
  {
   "cell_type": "code",
   "execution_count": null,
   "metadata": {},
   "outputs": [],
   "source": [
    "best_model_fnn = HyperOptFnn(\n",
    "    input_shape=(X_train.shape[1], 1),\n",
    "    resolution=X_train.shape[1]\n",
    ")\n",
    "best_params_fnn = tuner_fnn.get_best_hyperparameters(5)[0]\n",
    "model_fnn = best_model_fnn.build(best_params_fnn)\n",
    "history = best_model_fnn.fit(best_params_fnn, model_fnn, X_full, target_full, batch_size=32, epochs=1)"
   ]
  },
  {
   "cell_type": "code",
   "execution_count": null,
   "metadata": {},
   "outputs": [],
   "source": [
    "history.history"
   ]
  },
  {
   "cell_type": "code",
   "execution_count": null,
   "metadata": {},
   "outputs": [],
   "source": [
    "shapley_fda_fnn = ShapleyFda(\n",
    "    predict_fn=predict_no_verbose(model_fnn.predict),\n",
    "    #predict_fn=model_fnn.predict,\n",
    "    X=X_test,\n",
    "    abscissa_points=fda_simulator.abscissa_points,\n",
    "    target=target_test,\n",
    "    domain_range=fda_simulator.domain_range,\n",
    "    verbose=False,\n",
    ")\n",
    "\n",
    "values_shapley_fnn = shapley_fda_fnn.compute_shapley_value(\n",
    "    num_intervals=num_intervals,\n",
    "    num_permutations=num_permutations,\n",
    ")\n",
    "shapley_fda_fnn.plot()"
   ]
  }
 ],
 "metadata": {
  "kernelspec": {
   "display_name": ".shapley_fda_experiments",
   "language": "python",
   "name": "python3"
  },
  "language_info": {
   "codemirror_mode": {
    "name": "ipython",
    "version": 3
   },
   "file_extension": ".py",
   "mimetype": "text/x-python",
   "name": "python",
   "nbconvert_exporter": "python",
   "pygments_lexer": "ipython3",
   "version": "3.9.17"
  }
 },
 "nbformat": 4,
 "nbformat_minor": 2
}
