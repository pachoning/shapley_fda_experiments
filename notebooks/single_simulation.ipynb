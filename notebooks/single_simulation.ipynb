{
 "cells": [
  {
   "cell_type": "code",
   "execution_count": null,
   "metadata": {},
   "outputs": [],
   "source": [
    "%load_ext autoreload\n",
    "%autoreload 2\n",
    "from functional_neural_networks.dense import FunctionalDense\n",
    "from hyperopt.fnn import HyperOptFnn\n",
    "from hyperopt.sklearn_gridsearch import HyperOptScikitFda\n",
    "from images import images_path\n",
    "from shapley.shapley_fda import ShapleyFda\n",
    "from skfda.exploratory.stats import cov\n",
    "from skfda.misc.operators import LinearDifferentialOperator\n",
    "from skfda.misc.regularization import L2Regularization\n",
    "from skfda.ml.regression import KNeighborsRegressor, LinearRegression\n",
    "from skfda.representation.basis import BSplineBasis\n",
    "from utils.predict_np import predict_from_np\n",
    "from utils.simulator import FdaSimulator\n",
    "from utils.utils_workflow import l2_reg, predict_no_verbose\n",
    "import matplotlib.pyplot as plt\n",
    "import numpy as np\n",
    "import os\n",
    "import tensorflow as tf"
   ]
  },
  {
   "cell_type": "code",
   "execution_count": null,
   "metadata": {},
   "outputs": [],
   "source": [
    "n_basis_representation = 51\n",
    "domain_range = (0, 1)\n",
    "basis_bsplines = BSplineBasis(\n",
    "    n_basis=n_basis_representation,\n",
    "    domain_range=domain_range\n",
    ")"
   ]
  },
  {
   "cell_type": "code",
   "execution_count": null,
   "metadata": {},
   "outputs": [],
   "source": [
    "fda_simulator = FdaSimulator()"
   ]
  },
  {
   "cell_type": "code",
   "execution_count": null,
   "metadata": {},
   "outputs": [],
   "source": [
    "# Prepare some global parameters used to generate data\n",
    "cnt = 30\n",
    "alpha_p =  1 * cnt\n",
    "beta_p = 3 * cnt\n",
    "positions = [0.15, 0.35, 0.55, 0.85]\n",
    "n_basis_simulated_data = 31\n",
    "\n",
    "X, phi_X, epsilon, beta_data, col_indexes_bct, target = fda_simulator.simulate(\n",
    "    #type_covariate=\"fourier_expansion\",\n",
    "    #type_transformation=\"linear_unimodal\",\n",
    "    type_covariate=\"fourier_expansion\",\n",
    "    type_transformation=\"linear_unimodal\",\n",
    "    sample_size=200,\n",
    "    eta=0.05,\n",
    "    datasets_type = [\"train\", \"validation\", \"test\"],\n",
    "    # Series representation\n",
    "    n_basis_simulated_data=n_basis_simulated_data,\n",
    "    sd_x=0.01,\n",
    "    # Beta parameters\n",
    "    alpha_param=alpha_p,\n",
    "    beta_param=beta_p,\n",
    "    # Brownian parameters\n",
    "    intercept_brownian=0,\n",
    "    slope_brownian=1,\n",
    "    positions=positions\n",
    ")"
   ]
  },
  {
   "cell_type": "code",
   "execution_count": null,
   "metadata": {},
   "outputs": [],
   "source": [
    "X_train, X_validation, X_test = X\n",
    "X_full = np.row_stack((X_train, X_validation))\n",
    "\n",
    "target_train, target_validation, target_test = target\n",
    "target_full = np.row_stack((target_train, target_validation))\n",
    "\n",
    "beta_train, beta_validation, beta_test = beta_data\n",
    "epsilon_train, epsilon_validation, epsilon_test = epsilon\n",
    "\n",
    "X_train_grid = fda_simulator.to_fdata_grid(X_train)\n",
    "X_validation_grid = fda_simulator.to_fdata_grid(X_validation)\n",
    "X_test_grid = fda_simulator.to_fdata_grid(X_test)\n",
    "X_full_grid = fda_simulator.to_fdata_grid(X_full)\n",
    "\n",
    "X_train_bspline = X_train_grid.to_basis(basis_bsplines)\n",
    "X_validation_bspline = X_validation_grid.to_basis(basis_bsplines)\n",
    "X_test_bspline = X_test_grid.to_basis(basis_bsplines)\n",
    "X_full_bspline = X_full_grid.to_basis(basis_bsplines)\n",
    "zzz = X_full_grid.plot()\n",
    "plt.savefig(os.path.join(images_path, \"scenario_1_covariate.eps\"), format=\"eps\")\n",
    "plt.savefig(os.path.join(images_path, \"scenario_1_covariate.pdf\"), format=\"pdf\")"
   ]
  },
  {
   "cell_type": "code",
   "execution_count": null,
   "metadata": {},
   "outputs": [],
   "source": [
    "phi_train, phi_validation, phi_test = phi_X"
   ]
  },
  {
   "cell_type": "code",
   "execution_count": null,
   "metadata": {},
   "outputs": [],
   "source": [
    "np.var(epsilon_train)/(np.var(phi_train) + np.var(epsilon_train))"
   ]
  },
  {
   "cell_type": "code",
   "execution_count": null,
   "metadata": {},
   "outputs": [],
   "source": [
    "if not beta_train is None:\n",
    "    beta_data_grid = fda_simulator.to_fdata_grid(beta_train)\n",
    "    plt.plot(\n",
    "        fda_simulator.abscissa_points,\n",
    "        np.reshape(beta_train, newshape=(1, -1))[0], '-'\n",
    "    )\n",
    "    if False:\n",
    "        plt.savefig(os.path.join(images_path, \"scenario_1_beta_real.eps\"), format=\"eps\")\n",
    "        plt.savefig(os.path.join(images_path, \"scenario_1_beta_real.pdf\"), format=\"pdf\")"
   ]
  },
  {
   "cell_type": "markdown",
   "metadata": {},
   "source": [
    "# Linear model"
   ]
  },
  {
   "cell_type": "code",
   "execution_count": null,
   "metadata": {},
   "outputs": [],
   "source": [
    "np.var(target_train)"
   ]
  },
  {
   "cell_type": "code",
   "execution_count": null,
   "metadata": {},
   "outputs": [],
   "source": [
    "ss_target_train = np.var(target_train) * target_train.shape[0]\n",
    "print(ss_target_train)"
   ]
  },
  {
   "cell_type": "code",
   "execution_count": null,
   "metadata": {},
   "outputs": [],
   "source": [
    "hyperopt_lm = HyperOptScikitFda(\n",
    "    LinearRegression,\n",
    "    abscissa_points=fda_simulator.abscissa_points,\n",
    "    domain_range=fda_simulator.domain_range,\n",
    ")\n",
    "#reg_list = [l2_reg(np.exp(x) * ss_target_train) for x  in np.arange(-35, -5, 2)]\n",
    "reg_list = [l2_reg(np.exp(x) * ss_target_train) for x  in np.arange(-25, 15, 3)]\n",
    "reg_list.append(None)\n",
    "params_lm = {\n",
    "    \"regularization\": reg_list\n",
    "}\n",
    "hist_lm = hyperopt_lm.search(\n",
    "    params=params_lm,\n",
    "    X_train=X_train_bspline,\n",
    "    y_train=target_train[:, 0],\n",
    "    X_val=X_validation_bspline,\n",
    "    y_val=target_validation[:, 0]\n",
    ")"
   ]
  },
  {
   "cell_type": "code",
   "execution_count": null,
   "metadata": {},
   "outputs": [],
   "source": [
    "print(len(reg_list))\n",
    "print(reg_list)"
   ]
  },
  {
   "cell_type": "code",
   "execution_count": null,
   "metadata": {},
   "outputs": [],
   "source": [
    "best_params_lm = hist_lm.best_params_\n",
    "print(best_params_lm)\n",
    "best_model_lm = hyperopt_lm.cls_estimator(**best_params_lm)"
   ]
  },
  {
   "cell_type": "code",
   "execution_count": null,
   "metadata": {},
   "outputs": [],
   "source": [
    "_ = best_model_lm.fit(X_full_bspline, target_full[:, 0])"
   ]
  },
  {
   "cell_type": "code",
   "execution_count": null,
   "metadata": {},
   "outputs": [],
   "source": [
    "pred_lm = best_model_lm.predict(X_test_bspline)\n",
    "plt.scatter(pred_lm, target_test)"
   ]
  },
  {
   "cell_type": "code",
   "execution_count": null,
   "metadata": {},
   "outputs": [],
   "source": [
    "zzz = best_model_lm.coef_[0].plot()\n",
    "if False:\n",
    "    plt.savefig(os.path.join(images_path, \"scenario_1_beta_lm.eps\"), format=\"eps\")\n",
    "    plt.savefig(os.path.join(images_path, \"scenario_1_beta_lm.pdf\"), format=\"pdf\")"
   ]
  },
  {
   "cell_type": "code",
   "execution_count": null,
   "metadata": {},
   "outputs": [],
   "source": [
    "# Transform predict function to use a numpy array as input\n",
    "pred_best_model_lm_fn = predict_from_np(\n",
    "    grid_points=fda_simulator.abscissa_points,\n",
    "    domain_range=fda_simulator.domain_range,\n",
    "    basis=X_full_bspline.basis,\n",
    "    predict_fn=best_model_lm.predict\n",
    ")"
   ]
  },
  {
   "cell_type": "code",
   "execution_count": null,
   "metadata": {},
   "outputs": [],
   "source": [
    "compute_mrmr_r2 = True\n",
    "compute_mrmr_distance_correlation = True\n",
    "num_intervals = 20\n",
    "#num_intervals = 4\n",
    "num_permutations = 1000\n",
    "#num_permutations = 5\n",
    "shapley_fda_lm = ShapleyFda(\n",
    "    X=X_test,\n",
    "    abscissa_points=fda_simulator.abscissa_points,\n",
    "    target=target_test[:, 0],\n",
    "    domain_range=fda_simulator.domain_range,\n",
    "    verbose=False,\n",
    ")\n",
    "\n",
    "values_shapley_lm = shapley_fda_lm.compute_shapley_value(\n",
    "    num_intervals=num_intervals,\n",
    "    num_permutations=num_permutations,\n",
    "    compute_mrmr_r2=compute_mrmr_r2,\n",
    "    compute_mrmr_distance_correlation=compute_mrmr_distance_correlation,\n",
    "    #predict_fns=[pred_best_model_lm_fn, pred_best_model_lm_fn],\n",
    "    predict_fns=pred_best_model_lm_fn,\n",
    ")"
   ]
  },
  {
   "cell_type": "code",
   "execution_count": null,
   "metadata": {},
   "outputs": [],
   "source": [
    "shapley_fda_lm.plot()"
   ]
  },
  {
   "cell_type": "markdown",
   "metadata": {},
   "source": [
    "# Knn"
   ]
  },
  {
   "cell_type": "code",
   "execution_count": null,
   "metadata": {},
   "outputs": [],
   "source": [
    "hyperopt_knn = HyperOptScikitFda(\n",
    "    KNeighborsRegressor,\n",
    "    abscissa_points=fda_simulator.abscissa_points,\n",
    "    domain_range=fda_simulator.domain_range,\n",
    ")\n",
    "\n",
    "hist_knn = hyperopt_knn.search(\n",
    "    params={\"n_neighbors\": range(3, 30, 1)},\n",
    "    X_train=X_train,\n",
    "    y_train=target_train,\n",
    "    X_val=X_validation,\n",
    "    y_val=target_validation\n",
    ")\n",
    "\n",
    "best_params_knn = hist_knn.best_params_\n",
    "print(best_params_knn)\n",
    "best_model_knn = hyperopt_knn.cls_estimator(**best_params_knn)\n",
    "_ = best_model_knn.fit(X_full, target_full)"
   ]
  },
  {
   "cell_type": "code",
   "execution_count": null,
   "metadata": {},
   "outputs": [],
   "source": [
    "pred_knn = best_model_knn.predict(X_test)\n",
    "plt.scatter(pred_knn, target_test)"
   ]
  },
  {
   "cell_type": "code",
   "execution_count": null,
   "metadata": {},
   "outputs": [],
   "source": [
    "target_test.shape"
   ]
  },
  {
   "cell_type": "code",
   "execution_count": null,
   "metadata": {},
   "outputs": [],
   "source": [
    "shapley_fda_knn = ShapleyFda(\n",
    "    predict_fn=best_model_knn.predict,\n",
    "    X=X_test,\n",
    "    abscissa_points=fda_simulator.abscissa_points,\n",
    "    target=target_test,\n",
    "    domain_range=fda_simulator.domain_range,\n",
    "    verbose=False,\n",
    ")\n",
    "\n",
    "values_shapley_knn = shapley_fda_knn.compute_shapley_value(\n",
    "    num_intervals=num_intervals,\n",
    "    num_permutations=num_permutations,\n",
    ")"
   ]
  },
  {
   "cell_type": "code",
   "execution_count": null,
   "metadata": {},
   "outputs": [],
   "source": [
    "shapley_fda_knn.plot(which=\"mrmr_based\")"
   ]
  },
  {
   "cell_type": "code",
   "execution_count": null,
   "metadata": {},
   "outputs": [],
   "source": [
    "shapley_fda_knn.plot(which=\"model_based\")"
   ]
  },
  {
   "cell_type": "markdown",
   "metadata": {},
   "source": [
    "# Neural network"
   ]
  },
  {
   "cell_type": "code",
   "execution_count": null,
   "metadata": {},
   "outputs": [],
   "source": [
    "hyperopt_fnn = HyperOptFnn(\n",
    "    input_shape=(X_train.shape[1], 1),\n",
    "    resolution=X_train.shape[1]\n",
    ")\n",
    "\n",
    "tuner_fnn = hyperopt_fnn.build_tuner(\n",
    "    objective=\"val_loss\",\n",
    "    max_trials=10,\n",
    "    overwrite=True,\n",
    "    directory=\".\",\n",
    "    project_name=\"tune_hypermodel\",\n",
    ")\n",
    "\n",
    "tuner_fnn.search(\n",
    "    X_train,\n",
    "    target_train,\n",
    "    validation_data=(X_validation, target_validation),\n",
    "    verbose=False,\n",
    ")"
   ]
  },
  {
   "cell_type": "code",
   "execution_count": null,
   "metadata": {},
   "outputs": [],
   "source": [
    "best_params_fnn = tuner_fnn.get_best_hyperparameters(1)[0]\n",
    "best_epochs_fnn = best_params_fnn.get(\"epochs\")\n",
    "print(\"best_epochs_fnn:\", best_epochs_fnn)"
   ]
  },
  {
   "cell_type": "code",
   "execution_count": null,
   "metadata": {},
   "outputs": [],
   "source": [
    "hyperopt_best_fnn = HyperOptFnn(\n",
    "    input_shape=(X_train.shape[1], 1),\n",
    "    resolution=X_train.shape[1]\n",
    ")\n",
    "best_model_fnn = hyperopt_best_fnn.build(best_params_fnn)\n",
    "history_best_fnn = hyperopt_best_fnn.fit(\n",
    "    best_params_fnn,\n",
    "    best_model_fnn,\n",
    "    X_full,\n",
    "    target_full,\n",
    "    epochs=best_epochs_fnn,\n",
    "    verbose=False\n",
    ")"
   ]
  },
  {
   "cell_type": "code",
   "execution_count": null,
   "metadata": {},
   "outputs": [],
   "source": [
    "best_model_fnn.summary()"
   ]
  },
  {
   "cell_type": "code",
   "execution_count": null,
   "metadata": {},
   "outputs": [],
   "source": [
    "tuner_fnn.get_best_models(1)[0].summary()"
   ]
  },
  {
   "cell_type": "code",
   "execution_count": null,
   "metadata": {},
   "outputs": [],
   "source": [
    "pred_fnn = best_model_fnn.predict(X_test)\n",
    "plt.scatter(pred_fnn, target_test)"
   ]
  },
  {
   "cell_type": "code",
   "execution_count": null,
   "metadata": {},
   "outputs": [],
   "source": [
    "shapley_fda_fnn = ShapleyFda(\n",
    "    predict_fn=predict_no_verbose(best_model_fnn.predict),\n",
    "    X=X_test,\n",
    "    abscissa_points=fda_simulator.abscissa_points,\n",
    "    target=target_test,\n",
    "    domain_range=fda_simulator.domain_range,\n",
    "    verbose=False,\n",
    ")\n",
    "\n",
    "values_shapley_fnn = shapley_fda_fnn.compute_shapley_value(\n",
    "    num_intervals=num_intervals,\n",
    "    num_permutations=num_permutations,\n",
    ")"
   ]
  },
  {
   "cell_type": "code",
   "execution_count": null,
   "metadata": {},
   "outputs": [],
   "source": [
    "shapley_fda_fnn.plot(which=\"mrmr_based\")"
   ]
  },
  {
   "cell_type": "code",
   "execution_count": null,
   "metadata": {},
   "outputs": [],
   "source": [
    "shapley_fda_fnn.plot(which=\"model_based\")"
   ]
  },
  {
   "cell_type": "markdown",
   "metadata": {},
   "source": [
    "## LM, KNN and FNN Shapley"
   ]
  },
  {
   "cell_type": "code",
   "execution_count": null,
   "metadata": {},
   "outputs": [],
   "source": [
    "shapley_fda_lm_2 = ShapleyFda(\n",
    "    predict_fn=pred_best_model_lm_fn,\n",
    "    X=X_test,\n",
    "    abscissa_points=fda_simulator.abscissa_points,\n",
    "    target=target_test[:, 0],\n",
    "    domain_range=fda_simulator.domain_range,\n",
    "    verbose=False,\n",
    ")\n",
    "\n",
    "values_shapley_lm_2 = shapley_fda_lm_2.compute_shapley_value(\n",
    "    num_intervals=num_intervals,\n",
    "    num_permutations=num_permutations,\n",
    ")\n",
    "\n",
    "shapley_fda_knn_2 = ShapleyFda(\n",
    "    predict_fn=best_model_knn.predict,\n",
    "    X=X_test,\n",
    "    abscissa_points=fda_simulator.abscissa_points,\n",
    "    target=target_test,\n",
    "    domain_range=fda_simulator.domain_range,\n",
    "    verbose=False,\n",
    ")\n",
    "\n",
    "values_shapley_knn_2 = shapley_fda_knn_2.compute_shapley_value(\n",
    "    num_intervals=num_intervals,\n",
    "    num_permutations=num_permutations,\n",
    ")\n",
    "\n",
    "shapley_fda_fnn_2 = ShapleyFda(\n",
    "    predict_fn=predict_no_verbose(best_model_fnn.predict),\n",
    "    X=X_test,\n",
    "    abscissa_points=fda_simulator.abscissa_points,\n",
    "    target=target_test,\n",
    "    domain_range=fda_simulator.domain_range,\n",
    "    verbose=False,\n",
    ")\n",
    "\n",
    "values_shapley_fnn_2 = shapley_fda_fnn_2.compute_shapley_value(\n",
    "    num_intervals=num_intervals,\n",
    "    num_permutations=num_permutations,\n",
    ")"
   ]
  },
  {
   "cell_type": "code",
   "execution_count": null,
   "metadata": {},
   "outputs": [],
   "source": [
    "shapley_fda_lm_2.plot()\n",
    "shapley_fda_knn_2.plot()\n",
    "shapley_fda_fnn_2.plot()"
   ]
  },
  {
   "cell_type": "code",
   "execution_count": null,
   "metadata": {},
   "outputs": [],
   "source": [
    "val_lm = [x[1] for x in values_shapley_lm]\n",
    "print(sum(val_lm))\n",
    "np.corrcoef(pred_lm, target_test, rowvar=False)[0, 1] ** 2"
   ]
  },
  {
   "cell_type": "code",
   "execution_count": null,
   "metadata": {},
   "outputs": [],
   "source": [
    "val_knn = [x[1] for x in values_shapley_knn_2]\n",
    "print(sum(val_knn))\n",
    "np.corrcoef(pred_knn, target_test, rowvar=False)[0, 1] ** 2"
   ]
  },
  {
   "cell_type": "code",
   "execution_count": null,
   "metadata": {},
   "outputs": [],
   "source": [
    "val_fnn = [x[1] for x in values_shapley_fnn_2]\n",
    "print(sum(val_fnn))\n",
    "np.corrcoef(pred_fnn, target_test, rowvar=False)[0, 1] ** 2"
   ]
  },
  {
   "cell_type": "markdown",
   "metadata": {},
   "source": [
    "# LM no optimisation"
   ]
  },
  {
   "cell_type": "code",
   "execution_count": null,
   "metadata": {},
   "outputs": [],
   "source": [
    "lm_no_reg = LinearRegression(\n",
    "    regularization=L2Regularization(\n",
    "        linear_operator=LinearDifferentialOperator(0),\n",
    "        regularization_parameter=1e-5\n",
    "    )\n",
    ")"
   ]
  },
  {
   "cell_type": "code",
   "execution_count": null,
   "metadata": {},
   "outputs": [],
   "source": [
    "lm_no_reg.fit(X_train_bspline, target_train[:,0])"
   ]
  },
  {
   "cell_type": "markdown",
   "metadata": {},
   "source": [
    "# Neural Networks no optimisation"
   ]
  },
  {
   "cell_type": "code",
   "execution_count": null,
   "metadata": {},
   "outputs": [],
   "source": [
    "input_shape = (X_train.shape[1], 1)\n",
    "resolution = X_train.shape[1]\n",
    "input_layer = tf.keras.layers.Input(shape=input_shape)\n",
    "num_hidden_layers = 2\n",
    "n_neurons = 10\n",
    "n_epcohs = 50\n",
    "layer_options = []\n",
    "for i_layer in range(num_hidden_layers):\n",
    "    dict_layer = {\n",
    "        \"n_neurons\": n_neurons,\n",
    "        \"basis_options\": {\n",
    "            \"n_functions\": 6,\n",
    "            \"resolution\": resolution,\n",
    "            \"basis_type\": \"Legendre\",\n",
    "        },\n",
    "        \"activation\": \"relu\",\n",
    "        \"pooling\": False\n",
    "    }\n",
    "    layer_options.append(dict_layer)\n",
    "\n",
    "layer = input_layer\n",
    "for i_layer, layer_option in enumerate(layer_options):\n",
    "    layer = FunctionalDense(\n",
    "        **layer_option,\n",
    "        name=f\"FunctionalDense_{i_layer}\"\n",
    "    )(layer)\n",
    "\n",
    "output_layer_options = {\n",
    "    \"n_neurons\": 1,\n",
    "    \"basis_options\": {\n",
    "        \"n_functions\": 3,\n",
    "        \"resolution\": resolution,\n",
    "        \"basis_type\": \"Fourier\"\n",
    "    },\n",
    "    \"activation\": \"linear\",\n",
    "    \"pooling\": True\n",
    "}\n",
    "output_layer = FunctionalDense(\n",
    "    **output_layer_options,\n",
    "    name=f\"OutputLayer\"\n",
    ")(layer)\n",
    "model_fnn_no_hyper = tf.keras.Model(inputs=input_layer, outputs=output_layer)\n",
    "model_fnn_no_hyper.compile(\n",
    "    loss=tf.keras.losses.MeanSquaredError(),\n",
    "    optimizer=\"adam\",\n",
    ")\n",
    "\n",
    "model_fnn_no_hyper.fit(X_full, target_full, epochs=n_epcohs)"
   ]
  },
  {
   "cell_type": "code",
   "execution_count": null,
   "metadata": {},
   "outputs": [],
   "source": [
    "model_fnn_no_hyper.summary()"
   ]
  },
  {
   "cell_type": "code",
   "execution_count": null,
   "metadata": {},
   "outputs": [],
   "source": [
    "plt.scatter(model_fnn_no_hyper.predict(X_full), target_full)"
   ]
  },
  {
   "cell_type": "code",
   "execution_count": null,
   "metadata": {},
   "outputs": [],
   "source": [
    "plt.scatter(model_fnn_no_hyper.predict(X_test), target_test)"
   ]
  },
  {
   "cell_type": "code",
   "execution_count": null,
   "metadata": {},
   "outputs": [],
   "source": [
    "shapley_fda_fnn_no_hyper = ShapleyFda(\n",
    "    predict_fn=predict_no_verbose(model_fnn_no_hyper.predict),\n",
    "    X=X_test,\n",
    "    abscissa_points=fda_simulator.abscissa_points,\n",
    "    target=target_test,\n",
    "    domain_range=fda_simulator.domain_range,\n",
    "    verbose=False,\n",
    ")\n",
    "\n",
    "values_shapley_fnn_no_hyper = shapley_fda_fnn_no_hyper.compute_shapley_value(\n",
    "    num_intervals=num_intervals,\n",
    "    num_permutations=num_permutations,\n",
    ")\n",
    "shapley_fda_fnn_no_hyper.plot()"
   ]
  },
  {
   "cell_type": "markdown",
   "metadata": {},
   "source": [
    "## Misc."
   ]
  },
  {
   "cell_type": "code",
   "execution_count": null,
   "metadata": {},
   "outputs": [],
   "source": [
    "X_full_bspline_cov = cov(X_full_grid)"
   ]
  },
  {
   "cell_type": "code",
   "execution_count": null,
   "metadata": {},
   "outputs": [],
   "source": [
    "X_full_bspline_cov.heatmap()\n",
    "#cov_fdata"
   ]
  },
  {
   "cell_type": "code",
   "execution_count": null,
   "metadata": {},
   "outputs": [],
   "source": [
    "corr_mat = np.corrcoef(X_full.T)\n",
    "plt.plot(corr_mat)"
   ]
  }
 ],
 "metadata": {
  "kernelspec": {
   "display_name": ".shapley_fda_experiments",
   "language": "python",
   "name": "python3"
  },
  "language_info": {
   "codemirror_mode": {
    "name": "ipython",
    "version": 3
   },
   "file_extension": ".py",
   "mimetype": "text/x-python",
   "name": "python",
   "nbconvert_exporter": "python",
   "pygments_lexer": "ipython3",
   "version": "3.9.17"
  }
 },
 "nbformat": 4,
 "nbformat_minor": 2
}
