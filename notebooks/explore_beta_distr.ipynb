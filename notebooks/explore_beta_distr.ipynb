{
 "cells": [
  {
   "cell_type": "code",
   "execution_count": null,
   "metadata": {},
   "outputs": [],
   "source": [
    "%load_ext autoreload\n",
    "%autoreload 2\n",
    "from images import images_path\n",
    "from scipy.stats import beta\n",
    "import matplotlib.pyplot as plt\n",
    "import numpy as np\n",
    "import os"
   ]
  },
  {
   "cell_type": "code",
   "execution_count": null,
   "metadata": {},
   "outputs": [],
   "source": [
    "aspect_ratio = 6.4/4.8\n",
    "fig_size = [8*6.4/4.8, 8]"
   ]
  },
  {
   "cell_type": "code",
   "execution_count": null,
   "metadata": {},
   "outputs": [],
   "source": [
    "x_val = np.arange(0, 1 + 0.01, 0.01)\n",
    "alpha_param = 30\n",
    "beta_param = 90\n",
    "beta_1 = beta(alpha_param, beta_param)\n",
    "beta_2 = beta(beta_param, alpha_param)\n",
    "beta_1_fn = np.reshape(beta_1.pdf(x_val), newshape=(-1, 1))\n",
    "beta_2_fn = np.reshape(beta_2.pdf(x_val), newshape=(-1, 1))\n",
    "beta_sum_fn = 1/2 * (beta_1_fn + beta_2_fn)"
   ]
  },
  {
   "cell_type": "code",
   "execution_count": null,
   "metadata": {},
   "outputs": [],
   "source": [
    "fig, ax =  plt.subplots(1)\n",
    "plt.plot(x_val, beta_1_fn)\n",
    "ax.set_ylim(-0.5, 10.5)\n",
    "ax.tick_params(axis='x', labelsize=24)\n",
    "ax.tick_params(axis='y', labelsize=24)\n",
    "ax.set_xlabel(r\"$t$\", fontsize=28)\n",
    "#ax.set_ylabel(r\"$\\beta_u(t)$\", fontsize=28)\n",
    "ax.set_ylabel(r\"$\\ell_u(t)$\", fontsize=28)\n",
    "fig.set_size_inches(fig_size)\n",
    "ax.set_facecolor(\"white\")\n",
    "fig.set_facecolor(\"none\")\n",
    "fig.savefig(\n",
    "    os.path.join(images_path, \"linear_unimodal.pdf\"),\n",
    "    format=\"pdf\",\n",
    ")"
   ]
  },
  {
   "cell_type": "code",
   "execution_count": null,
   "metadata": {},
   "outputs": [],
   "source": [
    "beta_1_fn.shape"
   ]
  },
  {
   "cell_type": "code",
   "execution_count": null,
   "metadata": {},
   "outputs": [],
   "source": [
    "fig, ax =  plt.subplots(1)\n",
    "plt.plot(x_val, beta_sum_fn)\n",
    "ax.set_ylim(-0.5, 10.5)\n",
    "ax.tick_params(axis='x', labelsize=24)\n",
    "ax.tick_params(axis='y', labelsize=24)\n",
    "ax.set_xlabel(r\"$t$\", fontsize=28)\n",
    "#ax.set_ylabel(r\"$\\beta_b(t)$\", fontsize=28)\n",
    "ax.set_ylabel(r\"$\\ell_b(t)$\", fontsize=28)\n",
    "fig.set_size_inches(fig_size)\n",
    "ax.set_facecolor(\"white\")\n",
    "fig.set_facecolor(\"none\")\n",
    "fig.savefig(\n",
    "    os.path.join(images_path, \"linear_bimodal.pdf\"),\n",
    "    format=\"pdf\"\n",
    ")"
   ]
  },
  {
   "cell_type": "code",
   "execution_count": null,
   "metadata": {},
   "outputs": [],
   "source": [
    "nl = np.reshape(np.max(np.column_stack((beta_1_fn, beta_2_fn)), axis=1), newshape=(-1, 1))\n",
    "fig, ax =  plt.subplots(1)\n",
    "plt.plot(x_val, nl)\n",
    "ax.set_ylim(-0.5, 10.5)\n",
    "ax.tick_params(axis='x', labelsize=24)\n",
    "ax.tick_params(axis='y', labelsize=24)\n",
    "ax.set_xlabel(r\"$t$\", fontsize=28)\n",
    "ax.set_ylabel(r\"$n_{\\ell}(t)$\", fontsize=28)\n",
    "fig.set_size_inches(fig_size)\n",
    "ax.set_facecolor(\"white\")\n",
    "fig.set_facecolor(\"none\")\n",
    "fig.savefig(\n",
    "    os.path.join(images_path, \"non_linear.pdf\"),\n",
    "    format=\"pdf\",\n",
    ")"
   ]
  },
  {
   "cell_type": "code",
   "execution_count": null,
   "metadata": {},
   "outputs": [],
   "source": [
    "fig, ax =  plt.subplots(1)\n",
    "ax.set_ylim(-5.5, 5.5)\n",
    "ax.set_xlim(0, 1)\n",
    "fig.set_size_inches(fig_size)\n",
    "ax.tick_params(axis='x', labelsize=24)\n",
    "ax.tick_params(axis='y', labelsize=24)\n",
    "ax.set_xlabel(r\"$t$\", fontsize=28)\n",
    "ax.set_ylabel(r\"d$(t)$\", fontsize=28)\n",
    "x_points = [0.15, 0.35, 0.55, 0.85]\n",
    "y_min = [-3, -2, -4, -1]\n",
    "y_max = [2, 4, 1, 3]\n",
    "col = [\"green\", \"red\", \"black\", \"orange\"]\n",
    "i = 0\n",
    "for i in range(len(x_points)):\n",
    "    plt.vlines(x=x_points[i], ymin=y_min[i], ymax=y_max[i], colors = col[i])\n",
    "plt.hlines(y=0, xmin=0, xmax=1)\n",
    "ax.set_facecolor(\"white\")\n",
    "fig.set_facecolor(\"none\")\n",
    "fig.savefig(\n",
    "    os.path.join(images_path, \"discrete.pdf\"),\n",
    "    format=\"pdf\",\n",
    ")"
   ]
  }
 ],
 "metadata": {
  "kernelspec": {
   "display_name": ".shapley_fda_experiments",
   "language": "python",
   "name": "python3"
  },
  "language_info": {
   "codemirror_mode": {
    "name": "ipython",
    "version": 3
   },
   "file_extension": ".py",
   "mimetype": "text/x-python",
   "name": "python",
   "nbconvert_exporter": "python",
   "pygments_lexer": "ipython3",
   "version": "3.9.17"
  }
 },
 "nbformat": 4,
 "nbformat_minor": 2
}
