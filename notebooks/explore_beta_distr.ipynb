{
 "cells": [
  {
   "cell_type": "code",
   "execution_count": null,
   "metadata": {},
   "outputs": [],
   "source": [
    "%load_ext autoreload\n",
    "%autoreload 2\n",
    "from images import images_path\n",
    "from scipy.stats import beta\n",
    "import matplotlib.pyplot as plt\n",
    "import numpy as np\n",
    "import os"
   ]
  },
  {
   "cell_type": "code",
   "execution_count": null,
   "metadata": {},
   "outputs": [],
   "source": [
    "aspect_ratio = 6.4/4.8\n",
    "fig_size = [8*6.4/4.8, 8]"
   ]
  },
  {
   "cell_type": "code",
   "execution_count": null,
   "metadata": {},
   "outputs": [],
   "source": [
    "x_val = np.arange(0, 1 + 0.01, 0.01)\n",
    "alpha_param = 30\n",
    "beta_param = 90\n",
    "beta_1 = beta(alpha_param, beta_param)\n",
    "beta_2 = beta(beta_param, alpha_param)\n",
    "beta_1_fn = np.reshape(beta_1.pdf(x_val), newshape=(-1, 1))\n",
    "beta_2_fn = np.reshape(beta_2.pdf(x_val), newshape=(-1, 1))\n",
    "beta_sum_fn = 1/2 * (beta_1_fn + beta_2_fn)"
   ]
  },
  {
   "cell_type": "code",
   "execution_count": null,
   "metadata": {},
   "outputs": [],
   "source": [
    "fig, ax =  plt.subplots(1)\n",
    "plt.plot(x_val, beta_1_fn)\n",
    "ax.set_ylim(-0.5, 10.5)\n",
    "ax.tick_params(axis='x', labelsize=24)\n",
    "ax.tick_params(axis='y', labelsize=24)\n",
    "ax.set_xlabel(r\"$t$\", fontsize=28)\n",
    "ax.set_ylabel(r\"$\\beta_u(t)$\", fontsize=28)\n",
    "fig.set_size_inches(fig_size)\n",
    "fig.savefig(\n",
    "    os.path.join(images_path, \"beta_30_90.pdf\"),\n",
    "    format=\"pdf\",\n",
    ")"
   ]
  },
  {
   "cell_type": "code",
   "execution_count": null,
   "metadata": {},
   "outputs": [],
   "source": [
    "fig, ax =  plt.subplots(1)\n",
    "plt.plot(x_val, beta_sum_fn)\n",
    "ax.set_ylim(-0.5, 10.5)\n",
    "ax.tick_params(axis='x', labelsize=24)\n",
    "ax.tick_params(axis='y', labelsize=24)\n",
    "ax.set_xlabel(r\"$t$\", fontsize=28)\n",
    "ax.set_ylabel(r\"$\\beta_b(t)$\", fontsize=28)\n",
    "fig.set_size_inches(fig_size)\n",
    "fig.savefig(\n",
    "    os.path.join(images_path, \"beta_bimodal_30_90.pdf\"),\n",
    "    format=\"pdf\"\n",
    ")"
   ]
  }
 ],
 "metadata": {
  "kernelspec": {
   "display_name": ".shapley_fda_experiments",
   "language": "python",
   "name": "python3"
  },
  "language_info": {
   "codemirror_mode": {
    "name": "ipython",
    "version": 3
   },
   "file_extension": ".py",
   "mimetype": "text/x-python",
   "name": "python",
   "nbconvert_exporter": "python",
   "pygments_lexer": "ipython3",
   "version": "3.9.17"
  }
 },
 "nbformat": 4,
 "nbformat_minor": 2
}
