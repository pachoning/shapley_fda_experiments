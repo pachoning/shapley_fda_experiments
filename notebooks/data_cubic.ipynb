{
 "cells": [
  {
   "cell_type": "code",
   "execution_count": 1,
   "metadata": {},
   "outputs": [],
   "source": [
    "%load_ext autoreload\n",
    "%autoreload 2\n",
    "from utils.predict_np import predict_from_np\n",
    "from shapley.shapley_fda import ShapleyFda\n",
    "from skfda.ml.regression import LinearRegression\n",
    "from skfda.representation.basis import MonomialBasis\n",
    "from skfda.representation.grid import FDataGrid\n",
    "import matplotlib.pyplot as plt\n",
    "import numpy as np"
   ]
  },
  {
   "cell_type": "code",
   "execution_count": null,
   "metadata": {},
   "outputs": [],
   "source": [
    "# Prepare the data\n",
    "np.random.seed(1234)\n",
    "num_functions = 100\n",
    "rate_important_intervals = 0.7\n",
    "n_basis = 10\n",
    "basis = MonomialBasis(n_basis=n_basis)\n",
    "ini = 0\n",
    "end = 1\n",
    "domain_range = (ini, end)\n",
    "step = 0.05\n",
    "abscissa_points = np.arange(ini, end + step, step)\n",
    "total_abscissa_points = abscissa_points.shape[0]\n",
    "total_important_abscissa = int(np.floor(rate_important_intervals * abscissa_points.shape[0]))\n",
    "col_vector_ones_num_functions = np.full(shape=(num_functions, 1), fill_value=1)\n",
    "row_vector_ones_total_important_abscissa = np.full(shape=(1, total_important_abscissa), fill_value=1)\n",
    "vector_fun = np.array([x ** 3 for x in abscissa_points[:total_important_abscissa]], ndmin=2)\n",
    "X_no_noise = np.dot(col_vector_ones_num_functions, vector_fun) * (1 + np.random.normal(loc=0, scale=0.2, size=(num_functions, total_important_abscissa)))\n",
    "X_last_abs = np.dot(np.reshape(X_no_noise[:, -1], newshape=(-1, 1)), row_vector_ones_total_important_abscissa)\n",
    "X_no_noise = np.divide(X_no_noise, X_last_abs)\n",
    "#X_no_noise = np.dot(vector_col_ones_num_functions, vector_fun) + np.random.normal(loc=0, scale=0.001, size=(num_functions, total_important_abscissa))\n",
    "X_last_abscissa = np.reshape(X_no_noise[:, -1], newshape=(-1, 1))\n",
    "X_noise = np.random.normal(loc=X_last_abscissa, scale= 0.01, size=(num_functions, total_abscissa_points - total_important_abscissa))\n",
    "y = np.empty(shape=num_functions)\n",
    "for i in range(num_functions):\n",
    "    y[i] = np.dot(X_no_noise[i, :], X_no_noise[i, :])\n",
    "y = y - np.mean(y)\n",
    "X = np.column_stack((X_no_noise, X_noise))\n",
    "X_grid = FDataGrid(data_matrix=X, grid_points=abscissa_points, domain_range=domain_range)\n",
    "X_basis = X_grid.to_basis(basis)\n",
    "# Derivative\n",
    "derivative_X = np.squeeze(X_basis.derivative().to_grid().data_matrix)\n",
    "# Plot\n",
    "zzz = X_grid.plot()\n",
    "yyy = X_basis.plot()"
   ]
  },
  {
   "cell_type": "code",
   "execution_count": null,
   "metadata": {},
   "outputs": [],
   "source": [
    "# Fit the model\n",
    "linear_reg = LinearRegression()\n",
    "_ = linear_reg.fit(X_basis, y)"
   ]
  },
  {
   "cell_type": "code",
   "execution_count": null,
   "metadata": {},
   "outputs": [],
   "source": [
    "predict_function = predict_from_np(\n",
    "    grid_points=abscissa_points,\n",
    "    domain_range=domain_range,\n",
    "    basis=basis,\n",
    "    predict_fn = linear_reg.predict\n",
    ")"
   ]
  },
  {
   "cell_type": "code",
   "execution_count": null,
   "metadata": {},
   "outputs": [],
   "source": [
    "y_pred = predict_function(X)"
   ]
  },
  {
   "cell_type": "code",
   "execution_count": null,
   "metadata": {},
   "outputs": [],
   "source": [
    "plt.scatter(y_pred, y)"
   ]
  },
  {
   "cell_type": "code",
   "execution_count": null,
   "metadata": {},
   "outputs": [],
   "source": [
    "shapley_fda = ShapleyFda(\n",
    "    predict_fn=predict_function,\n",
    "    X=X,\n",
    "    derivative_X=derivative_X,\n",
    "    abscissa_points=abscissa_points,\n",
    "    target=y,\n",
    "    domain_range=domain_range,\n",
    "    verbose=True,\n",
    ")\n",
    "values_shapley = shapley_fda.compute_shapley_value(num_intervals=5, num_permutations=1)\n",
    "#print(\"relevance:\\n\", values_shapley, \"\\n\")"
   ]
  },
  {
   "cell_type": "code",
   "execution_count": null,
   "metadata": {},
   "outputs": [],
   "source": [
    "print(\"relevance:\\n\", values_shapley, \"\\n\")"
   ]
  },
  {
   "cell_type": "code",
   "execution_count": null,
   "metadata": {},
   "outputs": [],
   "source": [
    "np.power(0.1, 1/10)"
   ]
  },
  {
   "cell_type": "code",
   "execution_count": null,
   "metadata": {},
   "outputs": [],
   "source": [
    "np.power(2,3)"
   ]
  }
 ],
 "metadata": {
  "kernelspec": {
   "display_name": ".shapley_fda_experiments",
   "language": "python",
   "name": "python3"
  },
  "language_info": {
   "codemirror_mode": {
    "name": "ipython",
    "version": 3
   },
   "file_extension": ".py",
   "mimetype": "text/x-python",
   "name": "python",
   "nbconvert_exporter": "python",
   "pygments_lexer": "ipython3",
   "version": "3.9.17"
  }
 },
 "nbformat": 4,
 "nbformat_minor": 2
}
