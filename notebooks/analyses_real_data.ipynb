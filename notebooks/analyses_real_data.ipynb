{
 "cells": [
  {
   "cell_type": "markdown",
   "metadata": {},
   "source": [
    "# Imports"
   ]
  },
  {
   "cell_type": "code",
   "execution_count": null,
   "metadata": {},
   "outputs": [],
   "source": [
    "%load_ext autoreload\n",
    "%autoreload 2\n",
    "from data import data_path\n",
    "from functional_neural_networks.dense import FunctionalDense\n",
    "from functional_neural_networks.convolution import FunctionalConvolution\n",
    "from hyperopt.sklearn_gridsearch import HyperOptScikitFda\n",
    "from images import images_path\n",
    "from shapley.shapley_fda import ShapleyFda\n",
    "from skfda.datasets import fetch_tecator\n",
    "from skfda.ml.regression import KNeighborsRegressor, LinearRegression\n",
    "from skfda.representation.basis import BSplineBasis\n",
    "from skfda.representation.grid import FDataGrid\n",
    "from sklearn.model_selection import train_test_split\n",
    "from utils.utils_workflow import obtain_score, plot_shapley_function, plot_shapley_value, predict_from_np, predict_no_verbose_squeeze\n",
    "import pickle\n",
    "import matplotlib.pyplot as plt\n",
    "import numpy as np\n",
    "import os\n",
    "import tensorflow as tf"
   ]
  },
  {
   "cell_type": "markdown",
   "metadata": {},
   "source": [
    "# Exploratory"
   ]
  },
  {
   "cell_type": "code",
   "execution_count": null,
   "metadata": {},
   "outputs": [],
   "source": [
    "save_figures = False"
   ]
  },
  {
   "cell_type": "code",
   "execution_count": null,
   "metadata": {},
   "outputs": [],
   "source": [
    "data_output_path = os.path.join(data_path, \"other\")"
   ]
  },
  {
   "cell_type": "code",
   "execution_count": null,
   "metadata": {},
   "outputs": [],
   "source": [
    "original_size = [6.4, 4.8]\n",
    "aspect_ratio = original_size[0]/original_size[1]\n",
    "new_size = [10 * aspect_ratio, 10]"
   ]
  },
  {
   "cell_type": "code",
   "execution_count": null,
   "metadata": {},
   "outputs": [],
   "source": [
    "X, y = fetch_tecator(return_X_y=True, as_frame=True)\n",
    "f = X.iloc[:, 0].values\n",
    "fat = y[\"fat\"].values\n",
    "f.argument_names = None\n",
    "f.coordinate_names = None\n",
    "f.dataset_name = None\n",
    "zzz = f.plot()\n",
    "zzz.axes[0].tick_params(axis='x', labelsize=24)\n",
    "zzz.axes[0].tick_params(axis='y', labelsize=24)\n",
    "zzz.axes[0].set_xlabel(r\"$w$\", fontsize=24)\n",
    "zzz.axes[0].set_ylabel(r\"$A_j(w)$\", fontsize=24)\n",
    "zzz.figure.set_size_inches(new_size)\n",
    "left = zzz.axes[0].figure.subplotpars.left\n",
    "bottom = zzz.axes[0].figure.subplotpars.bottom\n",
    "print(left, bottom)\n",
    "zzz.figure.subplots_adjust(left=1.3 * left)\n",
    "zzz.figure.subplots_adjust(bottom=1.3 * bottom)\n",
    "zzz.figure.set_facecolor(\"none\")\n",
    "zzz.axes[0].set_facecolor(\"white\")\n",
    "if save_figures:\n",
    "    zzz.figure.savefig(\n",
    "        os.path.join(images_path, \"tecator_raw_no_name.pdf\"),\n",
    "        format=\"pdf\",\n",
    "    )"
   ]
  },
  {
   "cell_type": "code",
   "execution_count": null,
   "metadata": {},
   "outputs": [],
   "source": [
    "fig, ax = plt.subplots(1)\n",
    "plt.plot(fat, \".\")\n",
    "ax.tick_params(axis='x', labelsize=24)\n",
    "ax.tick_params(axis='y', labelsize=24)\n",
    "ax.set_xlabel(\"identifier\", fontsize=24)\n",
    "ax.set_ylabel(\"% fat\", fontsize=24)\n",
    "ax.set_facecolor(\"white\")\n",
    "fig.set_size_inches(new_size)\n",
    "fig.set_facecolor(\"none\")\n",
    "print(left, bottom)\n",
    "fig.subplots_adjust(left=1.3 * left)\n",
    "fig.subplots_adjust(bottom=1.3 * bottom)\n",
    "if save_figures:\n",
    "    fig.savefig(\n",
    "        os.path.join(images_path, \"tecator_fat.pdf\"),\n",
    "        format=\"pdf\",\n",
    "    )"
   ]
  },
  {
   "cell_type": "code",
   "execution_count": null,
   "metadata": {},
   "outputs": [],
   "source": [
    "fig, ax = plt.subplots(1)\n",
    "ax.tick_params(axis='x', labelsize=24)\n",
    "ax.tick_params(axis='y', labelsize=24)\n",
    "ax.set_xlabel(\"% fat\", fontsize=24)\n",
    "ax.set_ylabel(\"Density\", fontsize=24)\n",
    "ax.set_facecolor(\"white\")\n",
    "fig.set_size_inches(new_size)\n",
    "fig.set_facecolor(\"none\")\n",
    "fig.subplots_adjust(left=1.3 * left)\n",
    "fig.subplots_adjust(bottom=1.3 * bottom)\n",
    "plt.hist(fat, density=True, color='skyblue', edgecolor='black')\n",
    "if save_figures:\n",
    "    fig.savefig(\n",
    "        os.path.join(images_path, \"tecator_fat_hist.pdf\"),\n",
    "        format=\"pdf\",\n",
    "    )\n"
   ]
  },
  {
   "cell_type": "code",
   "execution_count": null,
   "metadata": {},
   "outputs": [],
   "source": [
    "df = f.derivative()\n",
    "zzz = df.plot()\n",
    "zzz.axes[0].tick_params(axis='x', labelsize=24)\n",
    "zzz.axes[0].tick_params(axis='y', labelsize=24)\n",
    "zzz.axes[0].set_xlabel(r\"$w$\", fontsize=24)\n",
    "zzz.axes[0].set_ylabel(r\"$A_j'(w)$\", fontsize=24)\n",
    "zzz.figure.set_size_inches(new_size)\n",
    "#left = zzz.axes[0].figure.subplotpars.left\n",
    "#bottom = zzz.axes[0].figure.subplotpars.bottom\n",
    "#print(left, bottom)\n",
    "zzz.figure.subplots_adjust(left=1.3 * left)\n",
    "zzz.figure.subplots_adjust(bottom=1.3 * bottom)\n",
    "zzz.figure.set_facecolor(\"none\")\n",
    "zzz.axes[0].set_facecolor(\"white\")\n",
    "if save_figures:\n",
    "    zzz.figure.savefig(os.path.join(images_path, \"tecator_first_der_no_name.pdf\"), format=\"pdf\")"
   ]
  },
  {
   "cell_type": "code",
   "execution_count": null,
   "metadata": {},
   "outputs": [],
   "source": [
    "ddf = f.derivative(order=2)\n",
    "zzz = ddf.plot()\n",
    "zzz.axes[0].tick_params(axis='x', labelsize=24)\n",
    "zzz.axes[0].tick_params(axis='y', labelsize=24)\n",
    "zzz.axes[0].set_xlabel(r\"$w$\", fontsize=24)\n",
    "zzz.axes[0].set_ylabel(r\"$A_j''(w)$\", fontsize=24)\n",
    "zzz.figure.set_size_inches(new_size)\n",
    "#left = zzz.axes[0].figure.subplotpars.left\n",
    "#bottom = zzz.axes[0].figure.subplotpars.bottom\n",
    "#print(left, bottom)\n",
    "zzz.figure.subplots_adjust(left=1.3 * left)\n",
    "zzz.figure.subplots_adjust(bottom=1.3 * bottom)\n",
    "zzz.figure.set_facecolor(\"none\")\n",
    "zzz.axes[0].set_facecolor(\"white\")\n",
    "if save_figures:\n",
    "    zzz.figure.savefig(os.path.join(images_path, \"tecator_second_der_no_name.pdf\"), format=\"pdf\")"
   ]
  },
  {
   "cell_type": "markdown",
   "metadata": {},
   "source": [
    "# Data treatment"
   ]
  },
  {
   "cell_type": "code",
   "execution_count": null,
   "metadata": {},
   "outputs": [],
   "source": [
    "domain_range = f.domain_range[0]\n",
    "abscissa_points = np.array([x for x in f.grid_points])\n",
    "abscissa_points = abscissa_points[0, :]\n",
    "n_basis_representation = 31\n",
    "basis_bsplines = BSplineBasis(\n",
    "    n_basis=n_basis_representation,\n",
    "    domain_range=domain_range\n",
    ")\n",
    "print(type(abscissa_points))\n",
    "print(abscissa_points.shape)"
   ]
  },
  {
   "cell_type": "code",
   "execution_count": null,
   "metadata": {},
   "outputs": [],
   "source": [
    "# Divide intro train, val and test\n",
    "last_id_train_val = 160\n",
    "rate_val = 0.2\n",
    "# Get the data\n",
    "#X_np = np.squeeze(ddf.data_matrix)\n",
    "X_np = np.squeeze(ddf.data_matrix)\n",
    "X_full = X_np[:last_id_train_val, :]\n",
    "target_full = fat[:last_id_train_val]\n",
    "X_train, X_validation, target_train, target_validation = train_test_split(\n",
    "    X_full,\n",
    "    target_full,\n",
    "    test_size=rate_val,\n",
    "    random_state=4\n",
    ")\n",
    "\n",
    "X_test = X_np[last_id_train_val:, :]\n",
    "target_test = fat[last_id_train_val:]\n",
    "\n",
    "# To Grid\n",
    "X_train_grid = FDataGrid(X_train, f.grid_points)\n",
    "X_validation_grid = FDataGrid(X_validation, f.grid_points)\n",
    "X_test_grid = FDataGrid(X_test, f.grid_points)\n",
    "X_full_grid = FDataGrid(X_full, f.grid_points)\n",
    "\n",
    "# To basis\n",
    "X_train_bspline = X_train_grid.to_basis(basis_bsplines)\n",
    "X_validation_bspline = X_validation_grid.to_basis(basis_bsplines)\n",
    "X_test_bspline = X_test_grid.to_basis(basis_bsplines)\n",
    "X_full_bspline = X_full_grid.to_basis(basis_bsplines)\n",
    "\n",
    "print(X_np.shape)\n",
    "print(X_train.shape)\n",
    "print(X_validation.shape)\n",
    "print(X_test.shape)\n",
    "zzz = X_full_grid.plot()\n",
    "zzz = X_full_bspline.plot()"
   ]
  },
  {
   "cell_type": "markdown",
   "metadata": {},
   "source": [
    "# Linear model"
   ]
  },
  {
   "cell_type": "code",
   "execution_count": null,
   "metadata": {},
   "outputs": [],
   "source": [
    "hyperopt_lm = HyperOptScikitFda(\n",
    "    LinearRegression,\n",
    "    abscissa_points=abscissa_points,\n",
    "    domain_range=domain_range,\n",
    ")\n",
    "n_basis_list = list(range(4, 30, 1))\n",
    "hist_lm = hyperopt_lm.search(\n",
    "    X_train=X_train,\n",
    "    y_train=target_train,\n",
    "    X_val=X_validation,\n",
    "    y_val=target_validation,\n",
    "    basis=BSplineBasis,\n",
    "    n_basis_list=n_basis_list,\n",
    ")"
   ]
  },
  {
   "cell_type": "code",
   "execution_count": null,
   "metadata": {},
   "outputs": [],
   "source": [
    "best_score_lm_list = [x.best_score_ for x in hist_lm]\n",
    "position_best_score_lm = np.argmax(best_score_lm_list)\n",
    "best_n_basis_lm = n_basis_list[position_best_score_lm]\n",
    "best_params_lm = hist_lm[position_best_score_lm].best_params_\n",
    "best_model_lm = hyperopt_lm.cls_estimator(**best_params_lm)\n",
    "best_basis_lm = BSplineBasis(\n",
    "    n_basis=best_n_basis_lm,\n",
    "    domain_range=domain_range,\n",
    ")\n",
    "X_full_bspline = X_full_grid.to_basis(best_basis_lm)\n",
    "X_test_bspline = X_test_grid.to_basis(best_basis_lm)\n",
    "_ = best_model_lm.fit(X_full_bspline, target_full)"
   ]
  },
  {
   "cell_type": "code",
   "execution_count": null,
   "metadata": {},
   "outputs": [],
   "source": [
    "predicted_test_lm = best_model_lm.predict(X_test_bspline)\n",
    "best_model_prediction_fn_np_lm = predict_from_np(\n",
    "    grid_points=f.grid_points,\n",
    "    domain_range=domain_range,\n",
    "    basis=best_basis_lm,\n",
    "    predict_fn=best_model_lm.predict,\n",
    ")\n",
    "predicted_test_lm = best_model_prediction_fn_np_lm(X_test)\n",
    "plt.scatter(predicted_test_lm, target_test)"
   ]
  },
  {
   "cell_type": "code",
   "execution_count": null,
   "metadata": {},
   "outputs": [],
   "source": [
    "r2_test_lm = obtain_score(predicted_test_lm, target_test)\n",
    "print(r2_test_lm)"
   ]
  },
  {
   "cell_type": "markdown",
   "metadata": {},
   "source": [
    "# KNN"
   ]
  },
  {
   "cell_type": "code",
   "execution_count": null,
   "metadata": {},
   "outputs": [],
   "source": [
    "hyperopt_knn = HyperOptScikitFda(\n",
    "    KNeighborsRegressor,\n",
    "    abscissa_points=abscissa_points,\n",
    "    domain_range=domain_range,\n",
    ")\n",
    "hist_knn = hyperopt_knn.search(\n",
    "    params={\"n_neighbors\": range(3, 30, 1)},\n",
    "    X_train=X_train,\n",
    "    y_train=target_train,\n",
    "    X_val=X_validation,\n",
    "    y_val=target_validation\n",
    ")"
   ]
  },
  {
   "cell_type": "code",
   "execution_count": null,
   "metadata": {},
   "outputs": [],
   "source": [
    "best_score_knn_list = [x.best_score_ for x in hist_knn]\n",
    "position_best_score_knn = np.argmax(best_score_knn_list)\n",
    "best_params_knn = hist_knn[position_best_score_knn].best_params_\n",
    "best_model_knn = hyperopt_knn.cls_estimator(**best_params_knn)\n",
    "_ = best_model_knn.fit(X_full, target_full)"
   ]
  },
  {
   "cell_type": "code",
   "execution_count": null,
   "metadata": {},
   "outputs": [],
   "source": [
    "predicted_test_knn = best_model_knn.predict(X_test)\n",
    "plt.scatter(predicted_test_knn, target_test)"
   ]
  },
  {
   "cell_type": "code",
   "execution_count": null,
   "metadata": {},
   "outputs": [],
   "source": [
    "r2_test_knn = obtain_score(predicted_test_knn, target_test)\n",
    "print(r2_test_knn)"
   ]
  },
  {
   "cell_type": "markdown",
   "metadata": {},
   "source": [
    "# FNN"
   ]
  },
  {
   "cell_type": "code",
   "execution_count": null,
   "metadata": {},
   "outputs": [],
   "source": [
    "input_shape = (X_test.shape[1], 1)\n",
    "filter_options = [\n",
    "    {\n",
    "        \"n_filters\": 20,\n",
    "        \"basis_options\": {\n",
    "            \"n_functions\": 7,\n",
    "            \"resolution\": 25,\n",
    "            \"basis_type\": \"Legendre\"\n",
    "        },\n",
    "        \"activation\": \"elu\"\n",
    "    },\n",
    "    {\n",
    "        \"n_filters\": 5,\n",
    "        \"basis_options\": {\n",
    "            \"n_functions\": 7,\n",
    "            \"resolution\": 25,\n",
    "            \"basis_type\": \"Legendre\"\n",
    "        },\n",
    "        \"activation\": \"elu\"\n",
    "    }\n",
    "]\n",
    "layer_options = [\n",
    "    {\n",
    "        \"n_neurons\": 1,\n",
    "        \"basis_options\":\n",
    "        {\n",
    "            \"n_functions\": 1,\n",
    "            \"resolution\": 52,\n",
    "            \"basis_type\": \"Fourier\"\n",
    "        },\n",
    "        \"activation\": \"elu\",\n",
    "        \"pooling\": True\n",
    "    }\n",
    "]\n",
    "loss = \"mse\"\n",
    "inputs = tf.keras.layers.Input(shape=input_shape)\n",
    "norm_axes = list(range(len(input_shape) - 1))\n",
    "layer = tf.keras.layers.LayerNormalization(\n",
    "    axis=norm_axes,\n",
    "    center=False,\n",
    "    scale=False,\n",
    "    epsilon=1e-10,\n",
    "    name=\"Normalization\"\n",
    ")(inputs)\n",
    "\n",
    "for i, filter_option in enumerate(filter_options):\n",
    "    layer = FunctionalConvolution(\n",
    "        **filter_option,\n",
    "        name=f\"FunctionalConvolution_{i}\"\n",
    "    )(layer)\n",
    "\n",
    "for i, layer_option in enumerate(layer_options):\n",
    "    layer = FunctionalDense(\n",
    "        **layer_option,\n",
    "        name=f\"FunctionalDense_{i}\"\n",
    "    )(layer)\n",
    "\n",
    "outputs = layer\n",
    "#tf.keras.utils.set_random_seed(1234)\n",
    "best_model_fnn = tf.keras.Model(inputs=inputs, outputs=outputs, name=\"Example_FNN\")\n",
    "best_model_fnn.summary()"
   ]
  },
  {
   "cell_type": "code",
   "execution_count": null,
   "metadata": {},
   "outputs": [],
   "source": [
    "best_model_fnn.compile(loss=loss, optimizer=\"adam\")\n",
    "best_model_fnn.fit(\n",
    "    X_train,\n",
    "    target_train,\n",
    "    epochs=600,\n",
    "    validation_data=(X_validation, target_validation),\n",
    "    batch_size=64,\n",
    "    #steps_per_epoch=1000,\n",
    "    verbose=0\n",
    ")"
   ]
  },
  {
   "cell_type": "code",
   "execution_count": null,
   "metadata": {},
   "outputs": [],
   "source": [
    "best_model_prediction_fn_squeeze_fnn = predict_no_verbose_squeeze(best_model_fnn.predict)\n",
    "predicted_test_fnn = best_model_prediction_fn_squeeze_fnn(X_test)\n",
    "plt.scatter(predicted_test_fnn, target_test)"
   ]
  },
  {
   "cell_type": "code",
   "execution_count": null,
   "metadata": {},
   "outputs": [],
   "source": [
    "r2_test_fnn = obtain_score(predicted_test_fnn, target_test)\n",
    "print(r2_test_fnn)"
   ]
  },
  {
   "cell_type": "markdown",
   "metadata": {},
   "source": [
    "# Shapley"
   ]
  },
  {
   "cell_type": "code",
   "execution_count": null,
   "metadata": {},
   "outputs": [],
   "source": [
    "num_intervals = 20\n",
    "num_permutations = 5000\n",
    "save_shapley_file = False"
   ]
  },
  {
   "cell_type": "code",
   "execution_count": null,
   "metadata": {},
   "outputs": [],
   "source": [
    "shapley_fda = ShapleyFda(\n",
    "    X=X_test,\n",
    "    abscissa_points=abscissa_points,\n",
    "    target=target_test,\n",
    "    domain_range=domain_range,\n",
    "    verbose=False,\n",
    ")\n",
    "shapley_value = shapley_fda.compute_shapley_value(\n",
    "    num_permutations=num_permutations,\n",
    "    predict_fns=[\n",
    "        best_model_prediction_fn_np_lm,\n",
    "        best_model_knn.predict,\n",
    "        best_model_prediction_fn_squeeze_fnn\n",
    "    ],\n",
    "    labels_fns=[\n",
    "        \"lm\",\n",
    "        \"knn\",\n",
    "        \"fnn\"\n",
    "    ],\n",
    "    num_intervals=num_intervals,\n",
    "    compute_mrmr_r2=True,\n",
    "    compute_mrmr_distance_correlation=True,\n",
    ")\n",
    "\n",
    "if save_shapley_file:\n",
    "    with open(os.path.join(data_output_path, f\"real_dataset_shapley_{num_permutations}_{num_intervals}.pkl\"), \"wb\") as fs_wb:\n",
    "        pickle.dump(shapley_value, fs_wb)"
   ]
  },
  {
   "cell_type": "markdown",
   "metadata": {},
   "source": [
    "# Plots"
   ]
  },
  {
   "cell_type": "code",
   "execution_count": null,
   "metadata": {},
   "outputs": [],
   "source": [
    "load_from_file = True"
   ]
  },
  {
   "cell_type": "code",
   "execution_count": null,
   "metadata": {},
   "outputs": [],
   "source": [
    "if load_from_file:\n",
    "    with open(os.path.join(data_output_path, \"real_dataset_shapley_5000_20.pkl\"), \"rb\") as f_rb:\n",
    "        shapley_value = pickle.load(f_rb)"
   ]
  },
  {
   "cell_type": "code",
   "execution_count": null,
   "metadata": {},
   "outputs": [],
   "source": [
    "shapley_value_normalised = shapley_value.copy()\n",
    "main_keys = [\"intervals\", \"middle_points\"]\n",
    "shapley_value_keys = shapley_value_normalised.keys()\n",
    "max_val = -np.Inf\n",
    "# Normalise distance correlation\n",
    "for k in shapley_value_keys:\n",
    "    if k == \"mRMR_distance_correlation\":\n",
    "        val = shapley_value_normalised[k]\n",
    "        total = np.sum(val)\n",
    "        shapley_value_normalised[k] = np.multiply(val, total)\n",
    "    if k != \"mRMR_r2\" and not k in main_keys:\n",
    "        current_max = np.max(shapley_value_normalised[k])\n",
    "        if current_max > max_val:\n",
    "            max_val = current_max\n",
    "# Adjust mRMR\n",
    "val_r2 = shapley_value_normalised[\"mRMR_r2\"]\n",
    "shapley_value_normalised[\"mRMR_r2\"] = np.multiply(val_r2, max_val/np.max(val_r2))\n",
    "\n",
    "if \"execution_time\" in shapley_value_normalised.keys():\n",
    "    del shapley_value_normalised[\"execution_time\"]"
   ]
  },
  {
   "cell_type": "code",
   "execution_count": null,
   "metadata": {},
   "outputs": [],
   "source": [
    "translation_dict = {\n",
    "    \"fnn\": \"FNN\",\n",
    "    \"knn\": \"FKNN\",\n",
    "    \"lm\": \"FLM\",\n",
    "    \"mRMR_distance_correlation\": \"distance_corr\",\n",
    "    \"mRMR_r2\": \"mRMR\",\n",
    "}"
   ]
  },
  {
   "cell_type": "code",
   "execution_count": null,
   "metadata": {},
   "outputs": [],
   "source": [
    "print(shapley_value_normalised[\"intervals\"])\n",
    "print(shapley_value_normalised[\"fnn\"])\n",
    "print(np.argmax(shapley_value_normalised[\"fnn\"]))\n",
    "print(shapley_value_normalised[\"intervals\"][np.argmax(shapley_value_normalised[\"fnn\"])])\n",
    "print(shapley_value_normalised[\"fnn\"][np.argmax(shapley_value_normalised[\"fnn\"])])\n",
    "print(shapley_value_normalised[\"fnn\"][-1])"
   ]
  },
  {
   "cell_type": "markdown",
   "metadata": {},
   "source": [
    "### Shapley relevance functions"
   ]
  },
  {
   "cell_type": "code",
   "execution_count": null,
   "metadata": {},
   "outputs": [],
   "source": [
    "# Step function\n",
    "plot_shapley_function(\n",
    "    obj=shapley_value_normalised,\n",
    "    domain_range=domain_range,\n",
    "    translation_dict =translation_dict,\n",
    "    plot_h_line=True,\n",
    "    plot_v_line=True,\n",
    "    disregard_feature_selection=True,\n",
    ")\n",
    "if save_figures:\n",
    "    plt.savefig(\n",
    "        os.path.join(images_path, f\"tecator_step_fn_{num_permutations}_{num_intervals}.pdf\"),\n",
    "        format=\"pdf\",\n",
    "        bbox_inches=\"tight\"\n",
    "    )"
   ]
  },
  {
   "cell_type": "code",
   "execution_count": null,
   "metadata": {},
   "outputs": [],
   "source": [
    "y_max = 0\n",
    "for k in shapley_value_normalised.keys():\n",
    "    if not k in main_keys:\n",
    "        current_max = np.max(shapley_value_normalised[k])\n",
    "        if  current_max > y_max:\n",
    "            y_max = current_max"
   ]
  },
  {
   "cell_type": "code",
   "execution_count": null,
   "metadata": {},
   "outputs": [],
   "source": [
    "# Polygonal function\n",
    "shapley_intervals = shapley_value_normalised[\"intervals\"]\n",
    "fig, ax = plt.subplots(1)\n",
    "ax.tick_params(axis='x', labelsize=8)\n",
    "ax.tick_params(axis='y', labelsize=8)\n",
    "ax.set_xlabel(r\"$w$\", fontsize=10)\n",
    "ax.set_ylabel(r\"$\\mathcal{R}(w)$\", fontsize=10)\n",
    "plot_shapley_value(\n",
    "    obj=shapley_value_normalised,\n",
    "    domain_range=domain_range,\n",
    "    translation_dict =translation_dict,\n",
    "    display_legend=True,\n",
    "    display_legend_top=True,\n",
    "    display_legend_below=False,\n",
    "    disregard_feature_selection=True,\n",
    ")\n",
    "i = 0\n",
    "idx_points = [22, 28, 41, 52, 78, 97]\n",
    "special_interval = [970, 980]\n",
    "special_x_point = 975\n",
    "special_color = \"grey\"\n",
    "color = [\"blue\", \"orange\", \"green\", \"red\", \"purple\", \"tab:brown\"]\n",
    "for x in idx_points:\n",
    "    current_abscissa = abscissa_points[x]\n",
    "    i_interval = None\n",
    "    for current_interval in shapley_intervals:\n",
    "        if (current_interval[0] <= current_abscissa) and (current_interval[1] >= current_abscissa):\n",
    "            i_interval = current_interval\n",
    "    print(current_abscissa, i_interval)\n",
    "    plt.fill_between(\n",
    "        i_interval,\n",
    "        0.00965,\n",
    "        color=color[i],\n",
    "        alpha=0.5,\n",
    "    )\n",
    "    i += 1\n",
    "\n",
    "plt.fill_between(\n",
    "        special_interval,\n",
    "        0.00965,\n",
    "        color=special_color,\n",
    "        alpha=0.5,\n",
    "    )\n",
    "if save_figures:\n",
    "    ax.set_facecolor(\"white\")\n",
    "    fig.set_facecolor(\"none\")\n",
    "    plt.savefig(\n",
    "        os.path.join(images_path, \"tecator_shapley_value_5000_20.pdf\"),\n",
    "        format=\"pdf\",\n",
    "    )"
   ]
  },
  {
   "cell_type": "code",
   "execution_count": null,
   "metadata": {},
   "outputs": [],
   "source": [
    "# Polygonal function\n",
    "shapley_intervals = shapley_value_normalised[\"intervals\"]\n",
    "fig, ax = plt.subplots(1)\n",
    "ax.tick_params(axis='x', labelsize=8)\n",
    "ax.tick_params(axis='y', labelsize=8)\n",
    "ax.set_xlabel(r\"$w$\", fontsize=10)\n",
    "ax.set_ylabel(r\"$\\mathcal{R}(w)$\", fontsize=10)\n",
    "plot_shapley_value(\n",
    "    obj=shapley_value_normalised,\n",
    "    domain_range=domain_range,\n",
    "    translation_dict =translation_dict,\n",
    "    display_legend=True,\n",
    "    display_legend_top=False,\n",
    "    display_legend_below=False,\n",
    "    display_legend_lower_left=True,\n",
    "    disregard_feature_selection=True,\n",
    "    plot_h_line=False,\n",
    "    plot_v_line=False,\n",
    ")\n",
    "if save_figures:\n",
    "    ax.set_facecolor(\"white\")\n",
    "    fig.set_facecolor(\"none\")\n",
    "    plt.savefig(\n",
    "        os.path.join(images_path, \"tecator_shapley_value_5000_20_no_vlines.pdf\"),\n",
    "        format=\"pdf\",\n",
    "    )"
   ]
  },
  {
   "cell_type": "markdown",
   "metadata": {},
   "source": [
    "### Tecator dataset"
   ]
  },
  {
   "cell_type": "code",
   "execution_count": null,
   "metadata": {},
   "outputs": [],
   "source": [
    "raw_data = f.copy()\n",
    "second_der = f.derivative(order=2)\n",
    "third_der =  f.derivative(order=3)\n",
    "fourth_der = f.derivative(order=4)\n",
    "fifth_der = f.derivative(order=5)\n",
    "\n",
    "second_der.dataset_name = None\n",
    "second_der_np = np.squeeze(second_der.data_matrix)\n",
    "third_der_np = np.squeeze(third_der.data_matrix)\n",
    "fourth_der_np = np.squeeze(fourth_der.data_matrix)\n",
    "fifth_der_np = np.squeeze(fifth_der.data_matrix)\n",
    "\n",
    "mean_second_der = np.mean(second_der_np, axis=0)\n",
    "mean_third_der = np.mean(third_der_np, axis=0)\n",
    "mean_fourth_der = np.mean(fourth_der_np, axis=0)\n",
    "mean_fifth_der = np.mean(fifth_der_np, axis=0)\n",
    "idx_arg_sort = np.argsort(mean_second_der)"
   ]
  },
  {
   "cell_type": "code",
   "execution_count": null,
   "metadata": {},
   "outputs": [],
   "source": [
    "raw_data.argument_names = None\n",
    "raw_data.coordinate_names = None\n",
    "raw_data.dataset_name = None\n",
    "second_der.argument_names = None\n",
    "second_der.coordinate_names = None\n",
    "second_der.dataset_name = None"
   ]
  },
  {
   "cell_type": "code",
   "execution_count": null,
   "metadata": {},
   "outputs": [],
   "source": [
    "zzz = second_der.plot()\n",
    "zzz.axes[0].tick_params(axis='x', labelsize=8)\n",
    "zzz.axes[0].tick_params(axis='y', labelsize=8)\n",
    "zzz.axes[0].set_xlabel(r\"$w$\", fontsize=10)\n",
    "zzz.axes[0].set_ylabel(r\"$A_j''(w)$\", fontsize=10)\n",
    "\n",
    "new_lim = zzz.axes[0].get_ylim()\n",
    "i = 0\n",
    "for x in idx_points:\n",
    "    abs_p = abscissa_points[x]\n",
    "    print(x, abs_p)\n",
    "    plt.axvline(x=abs_p, color=color[i])\n",
    "    i += 1\n",
    "\n",
    "plt.axvline(x=special_x_point, color=special_color, linestyle=\"--\")\n",
    "\n",
    "if save_figures:\n",
    "    zzz.figure.set_facecolor(\"none\")\n",
    "    zzz.axes[0].set_facecolor(\"white\")\n",
    "    plt.savefig(\n",
    "        os.path.join(images_path, \"tecator_second_der_vertical_lines.pdf\"),\n",
    "        format=\"pdf\",\n",
    "    )"
   ]
  },
  {
   "cell_type": "code",
   "execution_count": null,
   "metadata": {},
   "outputs": [],
   "source": [
    "zzz = second_der.plot()\n",
    "zzz.axes[0].tick_params(axis='x', labelsize=8)\n",
    "zzz.axes[0].tick_params(axis='y', labelsize=8)\n",
    "zzz.axes[0].set_xlabel(r\"$w$\", fontsize=10)\n",
    "zzz.axes[0].set_ylabel(r\"$A_j''(w)$\", fontsize=10)\n",
    "\n",
    "new_lim = zzz.axes[0].get_ylim()\n",
    "current_size = zzz.get_size_inches()\n",
    "if save_figures:\n",
    "    zzz.figure.set_facecolor(\"none\")\n",
    "    zzz.axes[0].set_facecolor(\"white\")\n",
    "    plt.savefig(\n",
    "        os.path.join(images_path, \"tecator_second_der_no_vlines.pdf\"),\n",
    "        format=\"pdf\",\n",
    "    )"
   ]
  },
  {
   "cell_type": "code",
   "execution_count": null,
   "metadata": {},
   "outputs": [],
   "source": [
    "fig, ax = plt.subplots(1)\n",
    "plt.plot(abscissa_points,mean_second_der.T)\n",
    "plt.ylim(new_lim)\n",
    "ax.tick_params(axis='x', labelsize=8)\n",
    "ax.tick_params(axis='y', labelsize=8)\n",
    "ax.set_xlabel(r\"$w$\", fontsize=10)\n",
    "ax.set_ylabel(r\"$\\overline{A''}(w)$\", fontsize=10)\n",
    "\n",
    "i = 0\n",
    "for x in idx_points:\n",
    "    abs_p = abscissa_points[x]\n",
    "    plt.axvline(x=abs_p, color=color[i])\n",
    "    i += 1\n",
    "\n",
    "plt.axvline(x=special_x_point, color=special_color, linestyle=\"--\")\n",
    "\n",
    "if save_figures:\n",
    "    ax.set_facecolor(\"white\")\n",
    "    fig.set_facecolor(\"none\")\n",
    "    plt.savefig(\n",
    "        os.path.join(images_path, \"tecator_second_der_mean.pdf\"),\n",
    "        format=\"pdf\",\n",
    "    )"
   ]
  },
  {
   "cell_type": "code",
   "execution_count": null,
   "metadata": {},
   "outputs": [],
   "source": [
    "fig, ax = plt.subplots(1)\n",
    "plt.plot(abscissa_points,mean_second_der.T)\n",
    "plt.ylim(new_lim)\n",
    "ax.tick_params(axis='x', labelsize=8)\n",
    "ax.tick_params(axis='y', labelsize=8)\n",
    "ax.set_xlabel(r\"$w$\", fontsize=10)\n",
    "ax.set_ylabel(r\"$\\overline{A''}(w)$\", fontsize=10)\n",
    "if save_figures:\n",
    "    ax.set_facecolor(\"white\")\n",
    "    fig.set_facecolor(\"none\")\n",
    "    plt.savefig(\n",
    "        os.path.join(images_path, \"tecator_second_der_mean_no_vlines.pdf\"),\n",
    "        format=\"pdf\",\n",
    "    )"
   ]
  },
  {
   "cell_type": "markdown",
   "metadata": {},
   "source": [
    "### Linear model"
   ]
  },
  {
   "cell_type": "code",
   "execution_count": null,
   "metadata": {},
   "outputs": [],
   "source": [
    "#fig, ax = plt.subplots(1)\n",
    "zzz = best_model_lm.coef_[0].plot()\n",
    "zzz.axes[0].tick_params(axis='x', labelsize=8)\n",
    "zzz.axes[0].tick_params(axis='y', labelsize=8)\n",
    "zzz.axes[0].set_xlabel(r\"$w$\", fontsize=10)\n",
    "zzz.axes[0].set_ylabel(r\"$\\hat{\\beta}_\\mathrm{FLM}(w)$\", fontsize=10)\n",
    "zzz.set_size_inches(current_size)\n",
    "\n",
    "if save_figures:\n",
    "        plt.savefig(\n",
    "                os.path.join(images_path, \"tecator_raw_beta_lm.pdf\"),\n",
    "                format=\"pdf\"\n",
    "        )\n"
   ]
  }
 ],
 "metadata": {
  "kernelspec": {
   "display_name": ".shapley_fda_experiments",
   "language": "python",
   "name": "python3"
  },
  "language_info": {
   "codemirror_mode": {
    "name": "ipython",
    "version": 3
   },
   "file_extension": ".py",
   "mimetype": "text/x-python",
   "name": "python",
   "nbconvert_exporter": "python",
   "pygments_lexer": "ipython3",
   "version": "3.9.17"
  }
 },
 "nbformat": 4,
 "nbformat_minor": 2
}
