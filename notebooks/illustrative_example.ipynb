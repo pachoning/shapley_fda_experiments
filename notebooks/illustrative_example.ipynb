{
 "cells": [
  {
   "cell_type": "code",
   "execution_count": null,
   "metadata": {},
   "outputs": [],
   "source": [
    "%load_ext autoreload\n",
    "%autoreload 2\n",
    "from shapley.shapley_fda import ShapleyFda\n",
    "from images import images_path\n",
    "from matplotlib.ticker import FormatStrFormatter\n",
    "from utils.utils_workflow import plot_shapley_function, plot_shapley_value\n",
    "import matplotlib.pyplot as plt\n",
    "import numpy as np\n",
    "import os\n",
    "import seaborn as sns"
   ]
  },
  {
   "cell_type": "code",
   "execution_count": null,
   "metadata": {},
   "outputs": [],
   "source": [
    "def generate_data(m, T, set_abscissas, mu, mu_range=None):\n",
    "    X = np.full(shape=(m, T), fill_value=np.nan)\n",
    "    if mu_range:\n",
    "        mu_vector = np.random.uniform(low=mu_range[0], high=mu_range[1],size=m)\n",
    "    else:\n",
    "        mu_vector = [mu for _ in range(m)]\n",
    "    for i in range(m):\n",
    "        x_i = np.ravel(np.array([(x - mu_vector[i]) **2 for x in set_abscissas]))\n",
    "        X[i] = x_i\n",
    "    return X\n",
    "\n",
    "def predict_fn(X):\n",
    "    min_x = np.min(X, axis=1) \n",
    "    return min_x"
   ]
  },
  {
   "cell_type": "code",
   "execution_count": null,
   "metadata": {},
   "outputs": [],
   "source": [
    "save_figures = True\n",
    "T = 100\n",
    "m = 100\n",
    "interval = [0, 1]\n",
    "#mu_range = [0.45, 0.55]\n",
    "mu_range = None\n",
    "mu = 0.5\n",
    "step = (interval[1] - interval[0])/(T - 1)\n",
    "set_abscissas = np.arange(interval[0], interval[1] + step, step)\n",
    "random_walk = np.random.normal(loc=0, scale=0.01, size=(m, T))\n",
    "deterministic = generate_data(m=m, T=T, set_abscissas=set_abscissas, mu_range=mu_range, mu=mu)\n",
    "functional_data = deterministic + random_walk\n",
    "target = predict_fn(functional_data)\n"
   ]
  },
  {
   "cell_type": "code",
   "execution_count": null,
   "metadata": {},
   "outputs": [],
   "source": [
    "aspect_ratio = 6.4/4.8\n",
    "fig_size = [8*6.4/4.8, 8]\n",
    "fig, ax = plt.subplots()\n",
    "ax.tick_params(axis='x', labelsize=24)\n",
    "ax.tick_params(axis='y', labelsize=24)\n",
    "ax.set_xlabel(r\"$t$\", fontsize=28)\n",
    "ax.set_ylabel(r\"$\\mathcal{X}_j(t)$\", fontsize=28)\n",
    "fig.set_size_inches(fig_size)\n",
    "fig.set_facecolor(\"none\")\n",
    "ax.set_facecolor(\"white\")\n",
    "zzz = plt.plot(set_abscissas, functional_data.T)\n",
    "if save_figures:\n",
    "    fig.savefig(os.path.join(images_path, \"toy_functional_covariates.pdf\"), format=\"pdf\")\n",
    "    plt.close()"
   ]
  },
  {
   "cell_type": "code",
   "execution_count": null,
   "metadata": {},
   "outputs": [],
   "source": [
    "argmin_x = set_abscissas[np.argmin(functional_data, axis=1)]\n",
    "fig, ax = plt.subplots()\n",
    "ax.tick_params(axis='x', labelsize=24)\n",
    "ax.tick_params(axis='y', labelsize=24)\n",
    "ax.set_xlabel(r\"$t$\", fontsize=28)\n",
    "ax.set_ylabel(\"Density\", fontsize=28)\n",
    "fig.set_size_inches(fig_size)\n",
    "fig.set_facecolor(\"none\")\n",
    "ax.set_facecolor(\"white\")\n",
    "sns.kdeplot(argmin_x)\n",
    "ax.set_xlim(0, 1)\n",
    "if save_figures:\n",
    "    fig.savefig(os.path.join(images_path, \"toy_density_argmin.pdf\"), format=\"pdf\")\n",
    "    plt.close()"
   ]
  },
  {
   "cell_type": "code",
   "execution_count": null,
   "metadata": {},
   "outputs": [],
   "source": [
    "num_permutations = 120\n",
    "num_intervals = 5\n",
    "shapley_fda = ShapleyFda(\n",
    "    X=functional_data,\n",
    "    abscissa_points=set_abscissas,\n",
    "    target=target,\n",
    "    domain_range=interval,\n",
    "    verbose=False,\n",
    ")\n",
    "\n",
    "shapley_values = shapley_fda.compute_shapley_value(\n",
    "    num_permutations=num_permutations,\n",
    "    predict_fns=predict_fn,\n",
    "    num_intervals=num_intervals,\n",
    "    compute_mrmr_r2=False,\n",
    "    compute_mrmr_distance_correlation=False,\n",
    ")\n",
    "\n",
    "fig, ax = plt.subplots(1)\n",
    "plot_shapley_value(\n",
    "    obj=shapley_values,\n",
    "    domain_range=interval,\n",
    "    display_legend=False,\n",
    "    translation_dict={0: None},\n",
    ")\n",
    "ax.tick_params(axis='x', labelsize=28)\n",
    "ax.tick_params(axis='y', labelsize=28)\n",
    "fig.set_size_inches(fig_size)\n",
    "ax.set_facecolor(\"white\")\n",
    "fig.set_facecolor(\"none\")\n",
    "ax.set_xlabel(r\"$t$\", fontsize=30)\n",
    "ax.set_ylabel(r\"$\\mathcal{R}(t)$\", fontsize=30)\n",
    "ax.yaxis.set_major_formatter(FormatStrFormatter('%.1f'))\n",
    "if save_figures:\n",
    "    fig.savefig(os.path.join(images_path, \"toy_polygonal.pdf\"), format=\"pdf\")\n",
    "    plt.close()"
   ]
  },
  {
   "cell_type": "code",
   "execution_count": null,
   "metadata": {},
   "outputs": [],
   "source": [
    "fig, ax = plt.subplots(1)\n",
    "plot_shapley_function(\n",
    "    obj=shapley_values,\n",
    "    domain_range=interval,\n",
    "    plot_h_line=True,\n",
    "    plot_v_line=True,\n",
    "    display_legend=False,\n",
    "    translation_dict={0: None},\n",
    ")\n",
    "ax.tick_params(axis='x', labelsize=28)\n",
    "ax.tick_params(axis='y', labelsize=28)\n",
    "fig.set_size_inches(fig_size)\n",
    "ax.set_facecolor(\"white\")\n",
    "fig.set_facecolor(\"none\")\n",
    "ax.set_xlabel(r\"$t$\", fontsize=30)\n",
    "ax.set_ylabel(r\"$\\mathcal{R}(t)$\", fontsize=30)\n",
    "ax.yaxis.set_major_formatter(FormatStrFormatter('%.1f'))\n",
    "if save_figures:\n",
    "    fig.savefig(os.path.join(images_path, \"toy_histogram.pdf\"), format=\"pdf\")\n",
    "    plt.close()"
   ]
  }
 ],
 "metadata": {
  "kernelspec": {
   "display_name": ".shapley_fda_experiments",
   "language": "python",
   "name": "python3"
  },
  "language_info": {
   "codemirror_mode": {
    "name": "ipython",
    "version": 3
   },
   "file_extension": ".py",
   "mimetype": "text/x-python",
   "name": "python",
   "nbconvert_exporter": "python",
   "pygments_lexer": "ipython3",
   "version": "3.9.17"
  }
 },
 "nbformat": 4,
 "nbformat_minor": 2
}
