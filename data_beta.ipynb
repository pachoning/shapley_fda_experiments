{
 "cells": [
  {
   "cell_type": "code",
   "execution_count": null,
   "metadata": {},
   "outputs": [],
   "source": [
    "%load_ext autoreload\n",
    "%autoreload 2\n",
    "from utils.predict_np import predict_from_np\n",
    "from scipy.stats import beta\n",
    "from shapley_fda import ShapleyFda\n",
    "from shaple_fda_mean import ShapleyFdaMean\n",
    "from skfda.misc import inner_product\n",
    "from skfda.ml.regression import LinearRegression\n",
    "from skfda.representation.basis import FourierBasis\n",
    "from skfda.representation.basis import BSplineBasis\n",
    "from skfda.representation.grid import FDataGrid\n",
    "import matplotlib.pyplot as plt\n",
    "import numpy as np"
   ]
  },
  {
   "cell_type": "code",
   "execution_count": null,
   "metadata": {},
   "outputs": [],
   "source": [
    "# Build Fourier-related data\n",
    "wanted_symmetry = False\n",
    "num_functions = 200\n",
    "n_basis_representation = 20\n",
    "n_basis_simulated_data = 5\n",
    "ini = 0\n",
    "end = 1\n",
    "period = np.pi/2\n",
    "domain_range = (ini, end)\n",
    "step = 0.01\n",
    "abscissa_points = np.arange(ini, end + step, step)\n",
    "if n_basis_simulated_data % 2 == 0:\n",
    "    n_basis_simulated_data = n_basis_simulated_data + 1\n",
    "basis_fourier = FourierBasis(n_basis=n_basis_simulated_data, period=period, domain_range=domain_range)\n",
    "basis_bsplines = BSplineBasis(n_basis=n_basis_representation, domain_range=domain_range)\n",
    "total_abscissa_points = abscissa_points.shape[0]\n",
    "row_vector_ones_total_abscissa_points = np.ones(shape=(1, total_abscissa_points))\n",
    "col_vector_ones_num_functions = np.ones(shape=(num_functions, 1))\n",
    "X_simulated = np.empty(shape=(num_functions, total_abscissa_points))\n",
    "basis_fourier_evaluated = np.squeeze(basis_fourier(abscissa_points))\n",
    "#lambda_coefficients = np.array([1/(2 ** i) for i in range(1, n_basis_simulated_data + 1)], ndmin=2)\n",
    "#lambda_coefficients = np.array([1 for i in range(1, n_basis_simulated_data + 1)], ndmin=2)\n",
    "lambda_coefficients = np.array([1/i for i in range(1, n_basis_simulated_data + 1)], ndmin=2)\n",
    "lambda_matrix = np.dot(lambda_coefficients.T, row_vector_ones_total_abscissa_points)\n",
    "for i in range(num_functions):\n",
    "    np.random.seed(1234 + i)\n",
    "    normal_vector = np.random.normal(scale=0.01, size=(1, n_basis_simulated_data))\n",
    "    normal_matrix = np.dot(normal_vector.T, row_vector_ones_total_abscissa_points)\n",
    "    # Each basis is multiplied by the same coefficient. Therefore, given a basis (a row), we use\n",
    "    # the same coefficient for all the columns (time)\n",
    "    coefficients_basis_matrix = np.multiply(normal_matrix, lambda_matrix)\n",
    "    basis_with_coefficients_matrix = np.multiply(basis_fourier_evaluated, coefficients_basis_matrix)\n",
    "    sum_basis = np.sum(basis_with_coefficients_matrix, axis=0)\n",
    "    X_simulated[i, :] = sum_basis\n",
    "if wanted_symmetry:\n",
    "    X_simulated = X_simulated + np.flip(X_simulated, axis=1)\n",
    "X_simulated_grid = FDataGrid(data_matrix=X_simulated, grid_points=abscissa_points, domain_range=domain_range)\n",
    "X_basis_fourier = X_simulated_grid.to_basis(basis_fourier)\n",
    "X_basis_bsplines = X_simulated_grid.to_basis(basis_bsplines)\n",
    "zzz = X_simulated_grid.plot()"
   ]
  },
  {
   "cell_type": "code",
   "execution_count": null,
   "metadata": {},
   "outputs": [],
   "source": [
    "# Build beta distribution data\n",
    "cnt = 30\n",
    "alpha_1 =  1 * cnt\n",
    "beta_1 = 3 * cnt\n",
    "beta_distr_1 = beta(alpha_1, beta_1)\n",
    "beta_distr_2 = beta(beta_1, alpha_1)\n",
    "beta_pdf_abscissa_1 = np.reshape(beta_distr_1.pdf(abscissa_points), newshape=(1, -1))\n",
    "beta_pdf_abscissa_2 = np.reshape(beta_distr_2.pdf(abscissa_points), newshape=(1, -1))\n",
    "beta_pdf_abscissa_3 = 0.5 * (beta_pdf_abscissa_1 + beta_pdf_abscissa_2)\n",
    "beta_pdf_abscissa = beta_pdf_abscissa_3\n",
    "plt.plot(abscissa_points, beta_pdf_abscissa[0], '-o')"
   ]
  },
  {
   "cell_type": "code",
   "execution_count": null,
   "metadata": {},
   "outputs": [],
   "source": [
    "num_fun = 3\n",
    "ones_vector_column = np.full(\n",
    "    shape = (num_fun, 1),\n",
    "    fill_value=1\n",
    ")\n",
    "beta_pdf_matrix = np.matmul(ones_vector_column, beta_pdf_abscissa_1)\n",
    "beta_pdf_matrix_flip = np.flip(beta_pdf_matrix, axis=1)\n",
    "bbbb = np.max(beta_pdf_matrix, axis=0)\n",
    "print(np.max(beta_pdf_matrix_flip, axis=0).shape)"
   ]
  },
  {
   "cell_type": "code",
   "execution_count": null,
   "metadata": {},
   "outputs": [],
   "source": [
    "# Transform beta distribution to grid and basis\n",
    "beta_grid = FDataGrid(\n",
    "    data_matrix= beta_pdf_abscissa[0],\n",
    "    grid_points=abscissa_points, \n",
    "    domain_range=(ini, end)\n",
    ")\n",
    "beta_basis_fourier = beta_grid.to_basis(basis_bsplines)\n",
    "beta_basis_bsplines = beta_grid.to_basis(basis_bsplines)\n",
    "zzzz = beta_basis_bsplines.plot()"
   ]
  },
  {
   "cell_type": "code",
   "execution_count": null,
   "metadata": {},
   "outputs": [],
   "source": [
    "# Build the target\n",
    "np.random.seed(12345)\n",
    "y = inner_product(X_simulated_grid, beta_grid) + np.random.normal(scale=0.001, size=num_functions)"
   ]
  },
  {
   "cell_type": "code",
   "execution_count": null,
   "metadata": {},
   "outputs": [],
   "source": [
    "y.shape"
   ]
  },
  {
   "cell_type": "code",
   "execution_count": null,
   "metadata": {},
   "outputs": [],
   "source": [
    "plt.scatter(inner_product(X_simulated_grid, beta_grid), y)"
   ]
  },
  {
   "cell_type": "code",
   "execution_count": null,
   "metadata": {},
   "outputs": [],
   "source": [
    "def my_predict(grid_points, domain_range, beta_grid):\n",
    "    def inner_pred(X):\n",
    "        X_grid = FDataGrid(\n",
    "            data_matrix=X,\n",
    "            grid_points=grid_points, \n",
    "            domain_range=domain_range\n",
    "        )\n",
    "        result = inner_product(X_grid, beta_grid)\n",
    "        return result\n",
    "    return inner_pred"
   ]
  },
  {
   "cell_type": "code",
   "execution_count": null,
   "metadata": {},
   "outputs": [],
   "source": [
    "pred_gold = my_predict(abscissa_points, domain_range, beta_grid)"
   ]
  },
  {
   "cell_type": "code",
   "execution_count": null,
   "metadata": {},
   "outputs": [],
   "source": [
    "num_intervals = 20\n",
    "num_permutations = 1000\n",
    "shapley_fda = ShapleyFda(\n",
    "    predict_fn=pred_gold,\n",
    "    X=X_simulated,\n",
    "    abscissa_points=abscissa_points,\n",
    "    target=y,\n",
    "    domain_range=domain_range,\n",
    "    verbose=False,\n",
    ")\n",
    "values_shapley = shapley_fda.compute_shapley_value(\n",
    "    num_intervals=num_intervals,\n",
    "    num_permutations=num_permutations\n",
    ")"
   ]
  },
  {
   "cell_type": "code",
   "execution_count": null,
   "metadata": {},
   "outputs": [],
   "source": [
    "shapley_fda.plot()"
   ]
  },
  {
   "cell_type": "code",
   "execution_count": null,
   "metadata": {},
   "outputs": [],
   "source": [
    "mean_f = np.mean(X_simulated, axis=0)\n",
    "set_1 = shapley_fda.covariate_computed[\"\"]\n",
    "set_2 = shapley_fda.covariate_computed[\"0\"]\n",
    "i = 8\n",
    "plt.plot(mean_f, label = \"mean_f\")\n",
    "plt.plot(X_simulated[i, :], label = \"true\")\n",
    "plt.plot(set_1[i, :], label = \"rec_sin\")\n",
    "plt.plot(set_2[i, :], label = \"rec_con\")\n",
    "plt.legend()\n",
    "plt.show()"
   ]
  },
  {
   "cell_type": "code",
   "execution_count": null,
   "metadata": {},
   "outputs": [],
   "source": [
    "shapley_fda_mean = ShapleyFdaMean(\n",
    "    predict_fn=pred_gold,\n",
    "    X=X_simulated,\n",
    "    abscissa_points=abscissa_points,\n",
    "    target=y,\n",
    "    domain_range=domain_range,\n",
    "    verbose=False,\n",
    ")\n",
    "values_shapley_mean = shapley_fda_mean.compute_shapley_value(\n",
    "    num_intervals=num_intervals,\n",
    "    num_permutations=num_permutations\n",
    ")"
   ]
  },
  {
   "cell_type": "code",
   "execution_count": null,
   "metadata": {},
   "outputs": [],
   "source": [
    "shapley_fda_mean.plot()"
   ]
  },
  {
   "cell_type": "code",
   "execution_count": null,
   "metadata": {},
   "outputs": [],
   "source": [
    "set_1_mean = shapley_fda_mean.covariate_computed[\"\"]\n",
    "set_2_mean = shapley_fda_mean.covariate_computed[\"0\"]\n",
    "plt.plot(mean_f, label = \"mean_f\")\n",
    "plt.plot(X_simulated[i, :], label = \"true\")\n",
    "plt.plot(set_1_mean[i, :], label = \"rec_sin\")\n",
    "plt.plot(set_2_mean[i, :], label = \"rec_con\")\n",
    "plt.legend()\n",
    "plt.show()"
   ]
  },
  {
   "cell_type": "code",
   "execution_count": null,
   "metadata": {},
   "outputs": [],
   "source": [
    "# Fit a scikit fda model\n",
    "X_lm = X_basis_bsplines.copy()\n",
    "linear_reg = LinearRegression()\n",
    "_ = linear_reg.fit(X_lm, y)"
   ]
  },
  {
   "cell_type": "code",
   "execution_count": null,
   "metadata": {},
   "outputs": [],
   "source": [
    "zzz = linear_reg.coef_[0].plot()"
   ]
  },
  {
   "cell_type": "code",
   "execution_count": null,
   "metadata": {},
   "outputs": [],
   "source": [
    "# Transform predict function to use a numpy array as input\n",
    "pred_lm = predict_from_np(\n",
    "    grid_points=abscissa_points,\n",
    "    domain_range=domain_range,\n",
    "    basis=X_lm.basis,\n",
    "    predict_fn=linear_reg.predict\n",
    ")"
   ]
  },
  {
   "cell_type": "code",
   "execution_count": null,
   "metadata": {},
   "outputs": [],
   "source": [
    "shapley_fda_lm = ShapleyFda(\n",
    "    predict_fn=pred_lm,\n",
    "    X=X_simulated,\n",
    "    abscissa_points=abscissa_points,\n",
    "    target=y,\n",
    "    domain_range=domain_range,\n",
    "    verbose=False,\n",
    ")\n",
    "values_shapley_lm = shapley_fda_lm.compute_shapley_value(\n",
    "    num_intervals=num_intervals,\n",
    "    num_permutations=num_permutations\n",
    ")"
   ]
  },
  {
   "cell_type": "code",
   "execution_count": null,
   "metadata": {},
   "outputs": [],
   "source": [
    "shapley_fda_lm.plot()"
   ]
  },
  {
   "cell_type": "code",
   "execution_count": null,
   "metadata": {},
   "outputs": [],
   "source": [
    "shapley_fda_mean_lm = ShapleyFdaMean(\n",
    "    predict_fn=pred_lm,\n",
    "    X=X_simulated,\n",
    "    abscissa_points=abscissa_points,\n",
    "    target=y,\n",
    "    domain_range=domain_range,\n",
    "    verbose=False,\n",
    ")\n",
    "values_shapley_mean_lm = shapley_fda_mean_lm.compute_shapley_value(\n",
    "    num_intervals=num_intervals,\n",
    "    num_permutations=num_permutations\n",
    ")"
   ]
  },
  {
   "cell_type": "code",
   "execution_count": null,
   "metadata": {},
   "outputs": [],
   "source": [
    "shapley_fda_mean_lm.plot()"
   ]
  }
 ],
 "metadata": {
  "kernelspec": {
   "display_name": ".shapley_fda_experiments",
   "language": "python",
   "name": "python3"
  },
  "language_info": {
   "codemirror_mode": {
    "name": "ipython",
    "version": 3
   },
   "file_extension": ".py",
   "mimetype": "text/x-python",
   "name": "python",
   "nbconvert_exporter": "python",
   "pygments_lexer": "ipython3",
   "version": "3.9.17"
  }
 },
 "nbformat": 4,
 "nbformat_minor": 2
}
