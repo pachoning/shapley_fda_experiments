{
 "cells": [
  {
   "cell_type": "code",
   "execution_count": null,
   "metadata": {},
   "outputs": [],
   "source": [
    "%load_ext autoreload\n",
    "%autoreload 2\n",
    "from predict_np import predict_from_np\n",
    "from shapley_fda import ShapleyFda\n",
    "from scipy.stats import beta\n",
    "from skfda.misc import inner_product\n",
    "from skfda.ml.regression import LinearRegression\n",
    "from skfda.representation.basis import FourierBasis\n",
    "from skfda.representation.basis import BSplineBasis\n",
    "from skfda.representation.grid import FDataGrid\n",
    "from skfda.misc.operators import LinearDifferentialOperator\n",
    "from skfda.misc.regularization import L2Regularization\n",
    "import matplotlib.pyplot as plt\n",
    "import numpy as np"
   ]
  },
  {
   "cell_type": "code",
   "execution_count": null,
   "metadata": {},
   "outputs": [],
   "source": [
    "# Build Fourier-related data\n",
    "num_functions = 100\n",
    "n_basis_representation = 11\n",
    "if n_basis_representation % 2 == 0:\n",
    "    n_basis_representation = n_basis_representation + 1\n",
    "basis = FourierBasis(n_basis=n_basis_representation)\n",
    "basis_bsplines = BSplineBasis(n_basis=n_basis_representation)\n",
    "ini = 0\n",
    "end = 1\n",
    "period = 1\n",
    "domain_range = (ini, end)\n",
    "step = 0.01\n",
    "abscissa_points = np.arange(ini, end + step, step)\n",
    "total_abscissa_points = abscissa_points.shape[0]\n",
    "row_vector_ones_total_abscissa_points = np.ones(shape=(1, total_abscissa_points))\n",
    "col_vector_ones_num_functions = np.ones(shape=(num_functions, 1))\n",
    "X_simulated = np.empty(shape=(num_functions, total_abscissa_points))\n",
    "basis_evaluated = np.squeeze(basis(abscissa_points))\n",
    "#lambda_coefficients = np.array([1/(2 ** i) for i in range(1, n_basis_representation + 1)], ndmin=2)\n",
    "lambda_coefficients = np.array([1 for i in range(1, n_basis_representation + 1)], ndmin=2)\n",
    "lambda_matrix = np.dot(lambda_coefficients.T, row_vector_ones_total_abscissa_points)\n",
    "for i in range(num_functions):\n",
    "    np.random.seed(1234 + i)\n",
    "    normal_vector = np.random.normal(scale=0.01, size=(1, n_basis_representation))\n",
    "    normal_matrix = np.dot(normal_vector.T, row_vector_ones_total_abscissa_points)\n",
    "    # Each basis is multiplied by the same coefficient. Therefore, given a basis (a row), we use\n",
    "    # the same coefficient for all the columns (time)\n",
    "    coefficients_basis_matrix = np.multiply(normal_matrix, lambda_matrix)\n",
    "    basis_with_coefficients_matrix = np.multiply(basis_evaluated, coefficients_basis_matrix)\n",
    "    sum_basis = np.sum(basis_with_coefficients_matrix, axis=0)\n",
    "    X_simulated[i, :] = sum_basis\n",
    "X_simulated_grid = FDataGrid(data_matrix=X_simulated, grid_points=abscissa_points, domain_range=domain_range)\n",
    "X_basis_fourier = X_simulated_grid.to_basis(basis)\n",
    "X_basis_bsplines = X_simulated_grid.to_basis(basis_bsplines)\n",
    "zzz = X_simulated_grid.plot()"
   ]
  },
  {
   "cell_type": "code",
   "execution_count": null,
   "metadata": {},
   "outputs": [],
   "source": [
    "zzz = X_basis_bsplines.plot()"
   ]
  },
  {
   "cell_type": "code",
   "execution_count": null,
   "metadata": {},
   "outputs": [],
   "source": [
    "zzz = X_basis_fourier.plot()"
   ]
  },
  {
   "cell_type": "code",
   "execution_count": null,
   "metadata": {},
   "outputs": [],
   "source": [
    "# Build beta distribution data\n",
    "cnt = 20\n",
    "alpha_1 =  1 * cnt\n",
    "beta_1 = 4 * cnt\n",
    "beta_distr = beta(alpha_1, beta_1)\n",
    "beta_pdf_abscissa = np.reshape(beta_distr.pdf(abscissa_points), newshape=(1, -1))\n",
    "beta_pdf_matrix = np.dot(col_vector_ones_num_functions, beta_pdf_abscissa)\n",
    "plt.plot(abscissa_points, beta_pdf_abscissa[0], '-o')"
   ]
  },
  {
   "cell_type": "code",
   "execution_count": null,
   "metadata": {},
   "outputs": [],
   "source": [
    "beta_grid = FDataGrid(\n",
    "    data_matrix= beta_pdf_abscissa[0],\n",
    "    grid_points=abscissa_points, \n",
    "    domain_range=(ini, end)\n",
    ")\n",
    "#beta_basis = beta_grid_important_abs.to_basis(basis)\n",
    "beta_basis = beta_grid.to_basis(basis_bsplines)\n",
    "zzzz = beta_basis.plot()"
   ]
  },
  {
   "cell_type": "code",
   "execution_count": null,
   "metadata": {},
   "outputs": [],
   "source": [
    "# Build the target\n",
    "#rate_important_abscissa = 1\n",
    "#num_important_abscissa = int(np.floor(rate_important_abscissa * abscissa_points.shape[0]))\n",
    "#important_abscissa_points = abscissa_points[:num_important_abscissa]\n",
    "#X_grid_fourier_important_abs = FDataGrid(\n",
    "#    data_matrix=X_fourier[:, :num_important_abscissa],\n",
    "#    grid_points=important_abscissa_points, \n",
    "#    domain_range=(ini, important_abscissa_points[-1])\n",
    "#)\n",
    "np.random.seed(12345)\n",
    "y = inner_product(X_simulated_grid, beta_grid) + np.random.normal(scale=0.001, size=num_functions)\n",
    "y"
   ]
  },
  {
   "cell_type": "code",
   "execution_count": null,
   "metadata": {},
   "outputs": [],
   "source": [
    "plt.scatter(X_simulated[:, 21], y)"
   ]
  },
  {
   "cell_type": "code",
   "execution_count": null,
   "metadata": {},
   "outputs": [],
   "source": [
    "regularization = L2Regularization(\n",
    "    LinearDifferentialOperator(2),\n",
    ")\n",
    "type(regularization)"
   ]
  },
  {
   "cell_type": "code",
   "execution_count": null,
   "metadata": {},
   "outputs": [],
   "source": [
    "# Fit the model\n",
    "# Instead of using beta_grid_important_abs, we use X_basis_fourier, since\n",
    "# we want to see that the last intervals are not releveant (they do not account in beta_grid_important_abs)\n",
    "#linear_reg = LinearRegression(regularization=regularization)\n",
    "linear_reg = LinearRegression()\n",
    "#_ = linear_reg.fit(X_basis_fourier, y)\n",
    "_ = linear_reg.fit(X_basis_bsplines, y)\n",
    "beta_estimated = linear_reg.coef_[0]\n",
    "#predicted_values = linear_reg.predict(X_basis_fourier)\n",
    "predicted_values = linear_reg.predict(X_basis_bsplines)\n",
    "print(beta_estimated)\n",
    "_n_plot = beta_estimated.plot()"
   ]
  },
  {
   "cell_type": "code",
   "execution_count": null,
   "metadata": {},
   "outputs": [],
   "source": [
    "def my_predict(grid_points, domain_range, beta_grid):\n",
    "    def inner_pred(X):\n",
    "        X_grid = FDataGrid(\n",
    "            data_matrix=X,\n",
    "            grid_points=grid_points, \n",
    "            domain_range=domain_range\n",
    "        )\n",
    "        result = inner_product(X_grid, beta_grid)\n",
    "        return result\n",
    "    return inner_pred"
   ]
  },
  {
   "cell_type": "code",
   "execution_count": null,
   "metadata": {},
   "outputs": [],
   "source": [
    "pred_gold = my_predict(abscissa_points, domain_range, beta_grid)"
   ]
  },
  {
   "cell_type": "code",
   "execution_count": null,
   "metadata": {},
   "outputs": [],
   "source": [
    "plt.scatter(pred_gold(X_simulated), y)"
   ]
  },
  {
   "cell_type": "code",
   "execution_count": null,
   "metadata": {},
   "outputs": [],
   "source": [
    "n_plot2 = plt.scatter(predicted_values, y)"
   ]
  },
  {
   "cell_type": "code",
   "execution_count": null,
   "metadata": {},
   "outputs": [],
   "source": [
    "predict_function = predict_from_np(\n",
    "    grid_points=abscissa_points,\n",
    "    domain_range=domain_range,\n",
    "    basis=basis,\n",
    "    predict_fn = linear_reg.predict\n",
    ")"
   ]
  },
  {
   "cell_type": "code",
   "execution_count": null,
   "metadata": {},
   "outputs": [],
   "source": [
    "print(abscissa_points)"
   ]
  },
  {
   "cell_type": "code",
   "execution_count": null,
   "metadata": {},
   "outputs": [],
   "source": [
    "derivative_X = np.squeeze(X_basis_fourier.derivative().to_grid().data_matrix)"
   ]
  },
  {
   "cell_type": "code",
   "execution_count": null,
   "metadata": {},
   "outputs": [],
   "source": [
    "shapley_fda = ShapleyFda(\n",
    "    #predict_fn=predict_function,\n",
    "    predict_fn=pred_gold,\n",
    "    X=X_simulated,\n",
    "    derivative_X=derivative_X,\n",
    "    abscissa_points=abscissa_points,\n",
    "    target=y,\n",
    "    domain_range=domain_range,\n",
    "    verbose=False,\n",
    ")\n",
    "values_shapley = shapley_fda.compute_shapley_value(num_intervals=10, num_permutations=1)"
   ]
  },
  {
   "cell_type": "code",
   "execution_count": null,
   "metadata": {},
   "outputs": [],
   "source": [
    "values_shapley"
   ]
  }
 ],
 "metadata": {
  "kernelspec": {
   "display_name": ".sk_fda",
   "language": "python",
   "name": "python3"
  },
  "language_info": {
   "codemirror_mode": {
    "name": "ipython",
    "version": 3
   },
   "file_extension": ".py",
   "mimetype": "text/x-python",
   "name": "python",
   "nbconvert_exporter": "python",
   "pygments_lexer": "ipython3",
   "version": "3.9.17"
  }
 },
 "nbformat": 4,
 "nbformat_minor": 2
}
