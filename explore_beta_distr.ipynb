{
 "cells": [
  {
   "cell_type": "code",
   "execution_count": 7,
   "metadata": {},
   "outputs": [],
   "source": [
    "target_mean = 0.1\n",
    "target_var = 0.05\n",
    "a = 0.01\n",
    "h_a = 0.01\n",
    "lim_a = 100\n",
    "b_ini = 0.01\n",
    "b = b_ini\n",
    "h_b = 0.01\n",
    "lim_b = 100\n",
    "a_required = None\n",
    "b_required = None\n",
    "dist_best = 1e10\n",
    "while a <=lim_a:\n",
    "    while b <= lim_b:\n",
    "        mean_val = a/(a + b)\n",
    "        var_val = (a * b)/((a + b)**2 * (a + b + 1))\n",
    "        dist_mean = abs(mean_val - target_mean)\n",
    "        dist_var = abs(var_val - target_var)\n",
    "        dist_total = (dist_mean + dist_var)/2\n",
    "        if (dist_total < dist_best):\n",
    "            dist_best = dist_total\n",
    "            a_required = a\n",
    "            b_required = b\n",
    "        b = b + h_b\n",
    "        #print(\"a: \", a)\n",
    "        #print(\"b: \", b)\n",
    "    #print(\"----------------------------------\")\n",
    "    a = a + h_a\n",
    "    b = b_ini"
   ]
  },
  {
   "cell_type": "code",
   "execution_count": 8,
   "metadata": {},
   "outputs": [
    {
     "name": "stdout",
     "output_type": "stream",
     "text": [
      "0.08\n",
      "0.7200000000000004\n",
      "0.09999999999999995\n",
      "0.049999999999999975\n"
     ]
    }
   ],
   "source": [
    "print(a_required)\n",
    "print(b_required)\n",
    "print(a_required/(a_required + b_required))\n",
    "print((a_required * b_required)/((a_required + b_required)**2 * (a_required + b_required + 1)))"
   ]
  },
  {
   "cell_type": "code",
   "execution_count": 18,
   "metadata": {},
   "outputs": [
    {
     "name": "stdout",
     "output_type": "stream",
     "text": [
      "0.5\n",
      "0.125\n"
     ]
    }
   ],
   "source": [
    "print(0.5/(0.5 + 0.5))\n",
    "print((0.5 * 0.5)/((0.5 + 0.5)**2 * (0.5 + 0.5 + 1)))"
   ]
  }
 ],
 "metadata": {
  "kernelspec": {
   "display_name": ".sk_fda",
   "language": "python",
   "name": "python3"
  },
  "language_info": {
   "codemirror_mode": {
    "name": "ipython",
    "version": 3
   },
   "file_extension": ".py",
   "mimetype": "text/x-python",
   "name": "python",
   "nbconvert_exporter": "python",
   "pygments_lexer": "ipython3",
   "version": "3.9.17"
  }
 },
 "nbformat": 4,
 "nbformat_minor": 2
}
